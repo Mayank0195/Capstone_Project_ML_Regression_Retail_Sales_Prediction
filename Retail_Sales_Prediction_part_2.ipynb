{
  "nbformat": 4,
  "nbformat_minor": 0,
  "metadata": {
    "colab": {
      "name": "Retail_Sales_Prediction part-2.ipynb",
      "provenance": [],
      "collapsed_sections": [],
      "authorship_tag": "ABX9TyODdyeAdQJSk3jHemlq4f6G",
      "include_colab_link": true
    },
    "kernelspec": {
      "name": "python3",
      "display_name": "Python 3"
    },
    "language_info": {
      "name": "python"
    }
  },
  "cells": [
    {
      "cell_type": "markdown",
      "metadata": {
        "id": "view-in-github",
        "colab_type": "text"
      },
      "source": [
        "<a href=\"https://colab.research.google.com/github/Mayank0195/Capstone_Project_ML_Regression_Retail_Sales_Prediction/blob/main/Retail_Sales_Prediction_part_2.ipynb\" target=\"_parent\"><img src=\"https://colab.research.google.com/assets/colab-badge.svg\" alt=\"Open In Colab\"/></a>"
      ]
    },
    {
      "cell_type": "code",
      "source": [
        "import numpy as np\n",
        "import pandas as pd\n",
        "import matplotlib.pyplot as plt\n",
        "%matplotlib inline\n",
        "import seaborn as sns\n",
        "sns.set_style(\"whitegrid\")\n",
        "import sklearn\n",
        "import warnings\n",
        "warnings.filterwarnings(\"ignore\")"
      ],
      "metadata": {
        "id": "pqhBxIhrkB3U"
      },
      "execution_count": 3,
      "outputs": []
    },
    {
      "cell_type": "code",
      "execution_count": 4,
      "metadata": {
        "colab": {
          "base_uri": "https://localhost:8080/"
        },
        "id": "ZciSus9cjkM0",
        "outputId": "6a88b197-b5b3-4765-d40d-9d0beb86e91b"
      },
      "outputs": [
        {
          "output_type": "stream",
          "name": "stdout",
          "text": [
            "Mounted at /content/drive\n"
          ]
        }
      ],
      "source": [
        "# importing drive on the colab notebook for the easy access of the data provided \n",
        "from google.colab import drive\n",
        "drive.mount('/content/drive')"
      ]
    },
    {
      "cell_type": "code",
      "source": [
        "#importing the pathway for the Rossmann Stores Data.csv\n",
        "df1 = pd.read_csv('/content/drive/MyDrive/AlmaBetter/Capstone_Project_ML_Regression/results.csv')\n",
        "df1.head()"
      ],
      "metadata": {
        "id": "GJ08UL_XjqSF"
      },
      "execution_count": null,
      "outputs": []
    },
    {
      "cell_type": "code",
      "source": [
        "df2 = df1.copy()"
      ],
      "metadata": {
        "id": "_L5T1jp8AG0k"
      },
      "execution_count": null,
      "outputs": []
    },
    {
      "cell_type": "code",
      "source": [
        "df1.info()"
      ],
      "metadata": {
        "id": "9R_xGr5gvX33"
      },
      "execution_count": null,
      "outputs": []
    },
    {
      "cell_type": "code",
      "source": [
        "df2 = df2.drop(['Date'], axis = 1)"
      ],
      "metadata": {
        "id": "CB3j3Z3GxL5p"
      },
      "execution_count": null,
      "outputs": []
    },
    {
      "cell_type": "code",
      "source": [
        "df2.head()"
      ],
      "metadata": {
        "id": "9vhvy7yTBCMF"
      },
      "execution_count": null,
      "outputs": []
    },
    {
      "cell_type": "markdown",
      "source": [
        "## **6. Store Sales Prediction**"
      ],
      "metadata": {
        "id": "79qd-QUkkSay"
      }
    },
    {
      "cell_type": "code",
      "source": [
        "dfd = df2.sample(n=50000, random_state=1)"
      ],
      "metadata": {
        "id": "WZTw535Mmact"
      },
      "execution_count": null,
      "outputs": []
    },
    {
      "cell_type": "code",
      "source": [
        "# split features and labels\n",
        "X = dfd.drop('Sales', axis=1)\n",
        "y = dfd. Sales"
      ],
      "metadata": {
        "id": "KEkrY2oMm6JK"
      },
      "execution_count": null,
      "outputs": []
    },
    {
      "cell_type": "code",
      "source": [
        "# get dummy variables for categorical features for linear regression\n",
        "xd = X.copy()\n",
        "xd = pd.get_dummies(xd)\n",
        "xl = X.copy()"
      ],
      "metadata": {
        "id": "LS2x4TkCm13n"
      },
      "execution_count": null,
      "outputs": []
    },
    {
      "cell_type": "code",
      "source": [
        "# label nominal variables for tree based regression\n",
        "xl = X.copy()\n",
        "\n",
        "from sklearn.preprocessing import LabelEncoder\n",
        "label = LabelEncoder()\n",
        "xl.StateHoliday = label.fit_transform(xl.StateHoliday)\n",
        "xl.Assortment = label.fit_transform(xl.Assortment)\n",
        "xl.StoreType = label.fit_transform(xl.StoreType)\n"
      ],
      "metadata": {
        "id": "0bgXljTFqMOS"
      },
      "execution_count": null,
      "outputs": []
    },
    {
      "cell_type": "code",
      "source": [
        "from sklearn.model_selection import train_test_split\n",
        "xd_train,xd_test,yd_train,yd_test = train_test_split(xd,y,test_size=0.3, random_state=1)\n",
        "xl_train,xl_test,yl_train,yl_test = train_test_split(xl,y,test_size=0.3, random_state=1)"
      ],
      "metadata": {
        "id": "rtbCRwWvoPir"
      },
      "execution_count": null,
      "outputs": []
    },
    {
      "cell_type": "code",
      "source": [
        "xd_train.head()"
      ],
      "metadata": {
        "id": "U-CyezZLB2cj"
      },
      "execution_count": null,
      "outputs": []
    },
    {
      "cell_type": "code",
      "source": [
        "xd_test.head()"
      ],
      "metadata": {
        "id": "VaWgXjwo-BR6"
      },
      "execution_count": null,
      "outputs": []
    },
    {
      "cell_type": "code",
      "source": [
        "#metrics import\n",
        "from sklearn.metrics import mean_absolute_error\n",
        "from sklearn.metrics import mean_squared_error\n",
        "from sklearn.metrics import r2_score"
      ],
      "metadata": {
        "id": "T1JIKtc-VdJW"
      },
      "execution_count": null,
      "outputs": []
    },
    {
      "cell_type": "markdown",
      "source": [
        "## **6.1 Linear Regression (OLS)**"
      ],
      "metadata": {
        "id": "PtTHb3uroBZh"
      }
    },
    {
      "cell_type": "code",
      "source": [
        "from sklearn.linear_model import LinearRegression\n",
        "lin= LinearRegression()\n",
        "linreg = lin.fit(xd_train, yd_train)"
      ],
      "metadata": {
        "id": "s0vZprHwn2P2"
      },
      "execution_count": null,
      "outputs": []
    },
    {
      "cell_type": "code",
      "source": [
        "# definte RMSE function\n",
        "from sklearn.metrics import mean_squared_error\n",
        "from math import sqrt\n",
        "\n",
        "def rmse(x, y):\n",
        "    return sqrt(mean_squared_error(x, y))\n",
        "\n",
        "# definte MAPE function\n",
        "def mape(x, y): \n",
        "    return np.mean(np.abs((x - y) / x)) * 100  \n",
        "  \n",
        "# get cross validation scores \n",
        "yd_predicted = linreg.predict(xd_train)\n",
        "yd_test_predicted = linreg.predict(xd_test)\n",
        "\n",
        "a = linreg.score(xd_train, yd_train)\n",
        "b = linreg.score(xd_test, yd_test)\n",
        "c = rmse(yd_train, yd_predicted)\n",
        "d = rmse(yd_test, yd_test_predicted)\n",
        "e = mape(yd_train, yd_predicted)\n",
        "f = mape(yd_test, yd_test_predicted)\n",
        "g = round(r2_score(yd_train, yd_predicted),6)\n",
        "h = round(r2_score(yd_test, yd_test_predicted),6)\n",
        "i = round(1 - (1-r2_score(yd_train, yd_predicted)) * (len(yd_train)-1)/(len(yd_train)-xd_train.shape[1]-1),6)\n",
        "j = round(1 - (1-r2_score(yd_test, yd_test_predicted)) * (len(yd_test)-1)/(len(yd_test)-xd_test.shape[1]-1),6)\n",
        "\n",
        "print(\"Regression Model Score\" , \":\" , a , \",\" ,\n",
        "      \"Out of Sample Test Score\" ,\":\" , b)\n",
        "print(\"Training RMSE\", \":\", c,\n",
        "      \"Testing RMSE\", \":\", d)\n",
        "print(\"Training MAPE\", \":\", e,\n",
        "      \"Testing MAPE\", \":\", f)\n",
        "print(\"R2_train\" , \":\" , g , \",\" ,\n",
        "      \"R2_test\" ,\":\" , h)\n",
        "print(\"Adj_r2_train\" , \":\" , i , \",\" ,\n",
        "      \"Adj_r2_test\" ,\":\" , j)"
      ],
      "metadata": {
        "id": "FbfZgwnCoD9M"
      },
      "execution_count": null,
      "outputs": []
    },
    {
      "cell_type": "code",
      "source": [
        "#Columns needed to compare metrics\n",
        "comparison_columns = ['Model_Name', 'Regression Model Score', 'Sample Test Score', 'Training RMSE', 'Testing RMSE', 'Training MAPE' , 'Testing MAPE', 'R2_train', 'R2_test', 'Adj_r2_train','Adj_r2_test']\n",
        "\n",
        "metric_scores = ['LinearRegression', a, b, c, d, e, f, g, h, i, j]\n",
        "df_1= dict(zip(comparison_columns,metric_scores))"
      ],
      "metadata": {
        "id": "ssIiTrqWDWfx"
      },
      "execution_count": null,
      "outputs": []
    },
    {
      "cell_type": "code",
      "source": [
        "df_1"
      ],
      "metadata": {
        "id": "0pxIOsidGT05"
      },
      "execution_count": null,
      "outputs": []
    },
    {
      "cell_type": "markdown",
      "source": [
        "## **6.2 Bayesian Ridge Regression**"
      ],
      "metadata": {
        "id": "J6VmB7IeoVNr"
      }
    },
    {
      "cell_type": "code",
      "source": [
        "from sklearn.linear_model import BayesianRidge\n",
        "rdg = BayesianRidge()\n",
        "rdgreg = rdg.fit(xd_train, yd_train)"
      ],
      "metadata": {
        "id": "vEV93ZQNoGPa"
      },
      "execution_count": null,
      "outputs": []
    },
    {
      "cell_type": "code",
      "source": [
        "# validation\n",
        "\n",
        "yd_predicted = rdgreg.predict(xd_train)\n",
        "yd_test_predicted = rdgreg.predict(xd_test)\n",
        "\n",
        "a = rdgreg.score(xd_train, yd_train)\n",
        "b = rdgreg.score(xd_test, yd_test)\n",
        "c = rmse(yd_train, yd_predicted)\n",
        "d = rmse(yd_test, yd_test_predicted)\n",
        "e = mape(yd_train, yd_predicted)\n",
        "f = mape(yd_test, yd_test_predicted)\n",
        "g = round(r2_score(yd_train, yd_predicted),6)\n",
        "h = round(r2_score(yd_test, yd_test_predicted),6)\n",
        "i = round(1 - (1-r2_score(yd_train, yd_predicted)) * (len(yd_train)-1)/(len(yd_train)-xd_train.shape[1]-1),6)\n",
        "j = round(1 - (1-r2_score(yd_test, yd_test_predicted)) * (len(yd_test)-1)/(len(yd_test)-xd_test.shape[1]-1),6)\n",
        "\n",
        "print(\"Regression Model Score\" , \":\" , a , \",\" ,\n",
        "      \"Out of Sample Test Score\" ,\":\" , b)\n",
        "print(\"Training RMSE\", \":\", c,\n",
        "      \"Testing RMSE\", \":\", d)\n",
        "print(\"Training MAPE\", \":\", e,\n",
        "      \"Testing MAPE\", \":\", f)\n",
        "print(\"R2_train\" , \":\" , g , \",\" ,\n",
        "      \"R2_test\" ,\":\" , h)\n",
        "print(\"Adj_r2_train\" , \":\" , i , \",\" ,\n",
        "      \"Adj_r2_test\" ,\":\" , j)"
      ],
      "metadata": {
        "id": "O26kmHIkoY2u"
      },
      "execution_count": null,
      "outputs": []
    },
    {
      "cell_type": "code",
      "source": [
        "#Columns needed to compare metrics\n",
        "comparison_columns = ['Model_Name', 'Regression Model Score', 'Sample Test Score', 'Training RMSE', 'Testing RMSE', 'Training MAPE' , 'Testing MAPE', 'R2_train', 'R2_test', 'Adj_r2_train','Adj_r2_test']\n",
        "\n",
        "metric_scores = ['BayesianRidge', a, b, c, d, e, f, g, h, i, j]\n",
        "df3= dict(zip(comparison_columns,metric_scores))"
      ],
      "metadata": {
        "id": "cfblA55tGm5F"
      },
      "execution_count": null,
      "outputs": []
    },
    {
      "cell_type": "code",
      "source": [
        "df3"
      ],
      "metadata": {
        "id": "jeaz7U5lGvm8"
      },
      "execution_count": null,
      "outputs": []
    },
    {
      "cell_type": "code",
      "source": [
        "df_1 = pd.DataFrame([df_1])"
      ],
      "metadata": {
        "id": "ByfIrcByQpoU"
      },
      "execution_count": null,
      "outputs": []
    },
    {
      "cell_type": "code",
      "source": [
        "df_1"
      ],
      "metadata": {
        "id": "qtusuR8XQ3eG"
      },
      "execution_count": null,
      "outputs": []
    },
    {
      "cell_type": "code",
      "source": [
        "df3 = pd.DataFrame([df3])"
      ],
      "metadata": {
        "id": "8Fl7hqoqQvyX"
      },
      "execution_count": null,
      "outputs": []
    },
    {
      "cell_type": "code",
      "source": [
        "comparison_df1 = df_1.merge(df3, how='outer')\n",
        "comparison_df1"
      ],
      "metadata": {
        "id": "y_atjyLVPpP-"
      },
      "execution_count": null,
      "outputs": []
    },
    {
      "cell_type": "markdown",
      "source": [
        "## **6.3 LARS Lasso Regression**"
      ],
      "metadata": {
        "id": "Jx-aghoJoixS"
      }
    },
    {
      "cell_type": "code",
      "source": [
        "from sklearn.linear_model import LassoLars\n",
        "las = LassoLars(alpha=0.3, fit_intercept=False, normalize=True)\n",
        "lasreg = las.fit(xd_train, yd_train)"
      ],
      "metadata": {
        "id": "ap2wfcpxoakj"
      },
      "execution_count": null,
      "outputs": []
    },
    {
      "cell_type": "code",
      "source": [
        "print(\"Regresion Model Score\" , \":\" , lasreg.score(xd_train, yd_train) , \",\" ,\n",
        "      \"Out of Sample Test Score\" ,\":\" , lasreg.score(xd_test, yd_test))\n",
        "\n",
        "yd_predicted = lasreg.predict(xd_train)\n",
        "yd_test_predicted = lasreg.predict(xd_test)\n",
        "\n",
        "a = lasreg.score(xd_train, yd_train)\n",
        "b = lasreg.score(xd_train, yd_train)\n",
        "c = rmse(yd_train, yd_predicted)\n",
        "d = rmse(yd_test, yd_test_predicted)\n",
        "e = mape(yd_train, yd_predicted)\n",
        "f = mape(yd_test, yd_test_predicted)\n",
        "g = round(r2_score(yd_train, yd_predicted),6)\n",
        "h = round(r2_score(yd_test, yd_test_predicted),6)\n",
        "i = round(1 - (1-r2_score(yd_train, yd_predicted)) * (len(yd_train)-1)/(len(yd_train)-xd_train.shape[1]-1),6)\n",
        "j = round(1 - (1-r2_score(yd_test, yd_test_predicted)) * (len(yd_test)-1)/(len(yd_test)-xd_test.shape[1]-1),6)\n",
        "\n",
        "print(\"Training RMSE\", \":\", c,\n",
        "      \"Testing RMSE\", \":\", d)\n",
        "print(\"Training MAPE\", \":\", e,\n",
        "      \"Testing MAPE\", \":\", f)\n",
        "print(\"R2_train\" , \":\" , g , \",\" ,\n",
        "      \"R2_test\" ,\":\" , h)\n",
        "print(\"Adj_r2_train\" , \":\" , i , \",\" ,\n",
        "      \"Adj_r2_test\" ,\":\" , j)\n"
      ],
      "metadata": {
        "id": "SSH15rddolDN"
      },
      "execution_count": null,
      "outputs": []
    },
    {
      "cell_type": "code",
      "source": [
        "#Columns needed to compare metrics\n",
        "comparison_columns = ['Model_Name', 'Regression Model Score', 'Sample Test Score', 'Training RMSE', 'Testing RMSE', 'Training MAPE' , 'Testing MAPE', 'R2_train', 'R2_test', 'Adj_r2_train','Adj_r2_test']\n",
        "\n",
        "metric_scores = ['LassoLars', a, b, c, d, e, f, g, h, i, j]\n",
        "df3= dict(zip(comparison_columns,metric_scores))"
      ],
      "metadata": {
        "id": "TJdxpZFPDYgS"
      },
      "execution_count": null,
      "outputs": []
    },
    {
      "cell_type": "code",
      "source": [
        "df3 = pd.DataFrame([df3])"
      ],
      "metadata": {
        "id": "5Q5BltimMyut"
      },
      "execution_count": null,
      "outputs": []
    },
    {
      "cell_type": "code",
      "source": [
        "comparison_df1 = comparison_df1.merge(df3, how='outer')\n",
        "comparison_df1"
      ],
      "metadata": {
        "id": "lyj7kAeVTL4s"
      },
      "execution_count": null,
      "outputs": []
    },
    {
      "cell_type": "markdown",
      "source": [
        "## **6.4 Decision Tree Regression**"
      ],
      "metadata": {
        "id": "PrJit7tFotw9"
      }
    },
    {
      "cell_type": "code",
      "source": [
        "from sklearn.tree import DecisionTreeRegressor\n",
        "tree = DecisionTreeRegressor(min_samples_leaf=20)\n",
        "treereg = tree.fit(xl_train, yl_train)"
      ],
      "metadata": {
        "id": "vNnjbrN--taP"
      },
      "execution_count": null,
      "outputs": []
    },
    {
      "cell_type": "code",
      "source": [
        "a = treereg.score(xl_train, yl_train)\n",
        "b = treereg.score(xl_test, yl_test)\n",
        "\n",
        "print(\"Regresion Model Score\" , \":\" , a , \",\" ,\n",
        "      \"Out of Sample Test Score\" ,\":\" , b)   \n",
        "\n",
        "yl_predicted = treereg.predict(xl_train)\n",
        "yl_test_predicted = treereg.predict(xl_test)\n",
        "\n",
        "c = rmse(yl_train, yl_predicted)\n",
        "d = rmse(yl_test, yl_test_predicted)\n",
        "e = mape(yl_train, yl_predicted)\n",
        "f = mape(yl_test, yl_test_predicted)\n",
        "g = round(r2_score(yl_train, yl_predicted),6)\n",
        "h = round(r2_score(yl_test, yl_test_predicted),6)\n",
        "i = round(1 - (1-r2_score(yl_train, yl_predicted)) * (len(yl_train)-1)/(len(yl_train)-xl_train.shape[1]-1),6)\n",
        "j = round(1 - (1-r2_score(yl_test, yl_test_predicted)) * (len(yl_test)-1)/(len(yl_test)-xl_test.shape[1]-1),6)\n",
        "\n",
        "print(\"Training RMSE\", \":\", c,\n",
        "      \"Testing RMSE\", \":\", d)\n",
        "print(\"Training MAPE\", \":\", e,\n",
        "      \"Testing MAPE\", \":\", f)\n",
        "print(\"R2_train\" , \":\" , g , \",\" ,\n",
        "      \"R2_test\" ,\":\" , h)\n",
        "print(\"Adj_r2_train\" , \":\" , i , \",\" ,\n",
        "      \"Adj_r2_test\" ,\":\" , j)\n"
      ],
      "metadata": {
        "id": "LU_F-SOZ_Bl7"
      },
      "execution_count": null,
      "outputs": []
    },
    {
      "cell_type": "code",
      "source": [
        "#Columns needed to compare metrics\n",
        "comparison_columns = ['Model_Name', 'Regression Model Score', 'Sample Test Score', 'Training RMSE', 'Testing RMSE', 'Training MAPE' , 'Testing MAPE', 'R2_train', 'R2_test', 'Adj_r2_train','Adj_r2_test']\n",
        "\n",
        "metric_scores = ['DecisionTreeRegressor', a, b , c, d, e, f, g, h, i, j]\n",
        "df4 = dict(zip(comparison_columns,metric_scores))"
      ],
      "metadata": {
        "id": "F2nKnweYf43J"
      },
      "execution_count": null,
      "outputs": []
    },
    {
      "cell_type": "code",
      "source": [
        "df4 = pd.DataFrame([df4])"
      ],
      "metadata": {
        "id": "wXo1fk3CNazj"
      },
      "execution_count": null,
      "outputs": []
    },
    {
      "cell_type": "code",
      "source": [
        "df4"
      ],
      "metadata": {
        "id": "VV1wm1KOWTJP"
      },
      "execution_count": null,
      "outputs": []
    },
    {
      "cell_type": "code",
      "source": [
        "comparison_df1 = comparison_df1.merge(df4, how='outer')\n",
        "comparison_df1"
      ],
      "metadata": {
        "id": "isLVEEmrTdFg"
      },
      "execution_count": null,
      "outputs": []
    },
    {
      "cell_type": "markdown",
      "source": [
        "## **6.5 Random Forest Regression**"
      ],
      "metadata": {
        "id": "008EiIUZCb8V"
      }
    },
    {
      "cell_type": "code",
      "source": [
        "from sklearn.ensemble import RandomForestRegressor\n",
        "rdf = RandomForestRegressor(n_estimators=30)\n",
        "rdfreg = rdf.fit(xl_train, yl_train)"
      ],
      "metadata": {
        "id": "Z8PJw_NxCbVn"
      },
      "execution_count": null,
      "outputs": []
    },
    {
      "cell_type": "code",
      "source": [
        "a = rdfreg.score(xl_train, yl_train)\n",
        "b = rdfreg.score(xl_test, yl_test)\n",
        "\n",
        "print(\"Regresion Model Score\" , \":\" , a , \",\" ,\n",
        "      \"Out of Sample Test Score\" ,\":\" , b)   \n",
        "\n",
        "yl_predicted = rdfreg.predict(xl_train)\n",
        "yl_test_predicted = rdfreg.predict(xl_test)\n",
        "\n",
        "yl_predicted = treereg.predict(xl_train)\n",
        "yl_test_predicted = treereg.predict(xl_test)\n",
        "\n",
        "\n",
        "c = rmse(yl_train, yl_predicted)\n",
        "d = rmse(yl_test, yl_test_predicted)\n",
        "e = mape(yl_train, yl_predicted)\n",
        "f = mape(yl_test, yl_test_predicted)\n",
        "g = round(r2_score(yl_train, yl_predicted),6)\n",
        "h = round(r2_score(yl_test, yl_test_predicted),6)\n",
        "i = round(1 - (1-r2_score(yl_train, yl_predicted)) * (len(yl_train)-1)/(len(yl_train)-xl_train.shape[1]-1),6)\n",
        "j = round(1 - (1-r2_score(yl_test, yl_test_predicted)) * (len(yl_test)-1)/(len(yl_test)-xl_test.shape[1]-1),6)\n",
        "\n",
        "print(\"Training RMSE\", \":\", c,\n",
        "      \"Testing RMSE\", \":\", d)\n",
        "print(\"Training MAPE\", \":\", e,\n",
        "      \"Testing MAPE\", \":\", f)\n",
        "print(\"R2_train\" , \":\" , g , \",\" ,\n",
        "      \"R2_test\" ,\":\" , h)\n",
        "print(\"Adj_r2_train\" , \":\" , i , \",\" ,\n",
        "      \"Adj_r2_test\" ,\":\" , j)\n",
        "\n",
        "\n"
      ],
      "metadata": {
        "id": "GmvypKMd_Ewm"
      },
      "execution_count": null,
      "outputs": []
    },
    {
      "cell_type": "code",
      "source": [
        "#Columns needed to compare metrics\n",
        "comparison_columns = ['Model_Name', 'Regression Model Score', 'Sample Test Score', 'Training RMSE', 'Testing RMSE', 'Training MAPE' , 'Testing MAPE', 'R2_train', 'R2_test', 'Adj_r2_train','Adj_r2_test']\n",
        "\n",
        "metric_scores = ['RandomForestRegressor', a, b, c, d, e, f, g, h, i, j]\n",
        "df5= dict(zip(comparison_columns,metric_scores))"
      ],
      "metadata": {
        "id": "6-JIuWWQf7FU"
      },
      "execution_count": null,
      "outputs": []
    },
    {
      "cell_type": "code",
      "source": [
        "df5 = pd.DataFrame([df5])"
      ],
      "metadata": {
        "id": "RZZ3vwa7JXOO"
      },
      "execution_count": null,
      "outputs": []
    },
    {
      "cell_type": "code",
      "source": [
        "comparison_df1 = comparison_df1.merge(df5, how='outer')\n",
        "comparison_df1"
      ],
      "metadata": {
        "id": "lQhlIx2CTo5Z"
      },
      "execution_count": null,
      "outputs": []
    },
    {
      "cell_type": "markdown",
      "source": [
        "## **6.6 K-Nearest Neighbors Regression**"
      ],
      "metadata": {
        "id": "RelkcypUCi__"
      }
    },
    {
      "cell_type": "code",
      "source": [
        "from sklearn.neighbors import KNeighborsRegressor\n",
        "knn = KNeighborsRegressor(n_neighbors = 10)\n",
        "knnreg = knn.fit(xd_train, yd_train)"
      ],
      "metadata": {
        "id": "CrZKGETOCgbS"
      },
      "execution_count": null,
      "outputs": []
    },
    {
      "cell_type": "code",
      "source": [
        "a = knnreg.score(xd_train, yd_train)\n",
        "b =  knnreg.score(xd_test, yd_test)\n",
        "\n",
        "print(\"Regresion Model Score\" , \":\" , a , \",\" ,\n",
        "      \"Out of Sample Test Score\" ,\":\" ,b)\n",
        "\n",
        "yd_predicted = knnreg.predict(xd_train)\n",
        "yd_test_predicted = knnreg.predict(xd_test)\n",
        "\n",
        "c = rmse(yd_train, yd_predicted)\n",
        "d = rmse(yd_test, yd_test_predicted)\n",
        "e = mape(yd_train, yd_predicted)\n",
        "f = mape(yd_test, yd_test_predicted)\n",
        "g = round(r2_score(yd_train, yd_predicted),6)\n",
        "h = round(r2_score(yd_test, yd_test_predicted),6)\n",
        "i = round(1 - (1-r2_score(yd_train, yd_predicted)) * (len(yd_train)-1)/(len(yd_train)-xd_train.shape[1]-1),6)\n",
        "j = round(1 - (1-r2_score(yd_test, yd_test_predicted)) * (len(yd_test)-1)/(len(yd_test)-xd_test.shape[1]-1),6)\n",
        "\n",
        "print(\"Training RMSE\", \":\", c,\n",
        "      \"Testing RMSE\", \":\", d)\n",
        "print(\"Training MAPE\", \":\", e,\n",
        "      \"Testing MAPE\", \":\", f)\n",
        "print(\"R2_train\" , \":\" , g , \",\" ,\n",
        "      \"R2_test\" ,\":\" , h)\n",
        "print(\"Adj_r2_train\" , \":\" , i , \",\" ,\n",
        "      \"Adj_r2_test\" ,\":\" , j)\n"
      ],
      "metadata": {
        "id": "MAKdBhckCm-c"
      },
      "execution_count": null,
      "outputs": []
    },
    {
      "cell_type": "code",
      "source": [
        "#Columns needed to compare metrics\n",
        "comparison_columns = ['Model_Name', 'Regression Model Score', 'Sample Test Score', 'Training RMSE', 'Testing RMSE', 'Training MAPE' , 'Testing MAPE', 'R2_train', 'R2_test', 'Adj_r2_train','Adj_r2_test']\n",
        "\n",
        "metric_scores = ['KNeighborsRegressor', a, b, c, d, e, f, g, h, i, j]\n",
        "df6 = dict(zip(comparison_columns,metric_scores))"
      ],
      "metadata": {
        "id": "_A8K7TP7DcC7"
      },
      "execution_count": null,
      "outputs": []
    },
    {
      "cell_type": "code",
      "source": [
        "for x in range(1,10):\n",
        "    knn = KNeighborsRegressor(n_neighbors = x)\n",
        "    knnreg = knn.fit(xd_train, yd_train)\n",
        "    print(\"Regresion Model Score\" , \":\" , knnreg.score(xd_train, yd_train) , \",\" ,\n",
        "      \"Out of Sample Test Score\" ,\":\" , knnreg.score(xd_test, yd_test))"
      ],
      "metadata": {
        "id": "3Vgc20wOCqjz"
      },
      "execution_count": null,
      "outputs": []
    },
    {
      "cell_type": "code",
      "source": [
        "df6 = pd.DataFrame([df6])"
      ],
      "metadata": {
        "id": "nlNkpxQ-Ou_c"
      },
      "execution_count": null,
      "outputs": []
    },
    {
      "cell_type": "code",
      "source": [
        "comparison_df1 = comparison_df1.merge(df6, how='outer')\n",
        "comparison_df1"
      ],
      "metadata": {
        "id": "Lg6beX5cKQyo"
      },
      "execution_count": null,
      "outputs": []
    },
    {
      "cell_type": "markdown",
      "source": [
        "## **6.7 Random Forest Regression Tuned**\n",
        "\n",
        " In this we have done the hyperparamtere tunning of Random Forest to get the best parameters and to use these parameters to tune the regresssion model that will helps us to get best results."
      ],
      "metadata": {
        "id": "coudkqgnbBF7"
      }
    },
    {
      "cell_type": "code",
      "source": [
        "# Create model\n",
        "rf_tuned = RandomForestRegressor()"
      ],
      "metadata": {
        "id": "BgJ5iZozWbT4"
      },
      "execution_count": null,
      "outputs": []
    },
    {
      "cell_type": "code",
      "source": [
        "#import\n",
        "from sklearn.model_selection import RandomizedSearchCV\n",
        "#grid\n",
        "random_grid = {'bootstrap': [True, False],\n",
        " 'max_depth': [ 90, 100, None],\n",
        " 'max_features': ['auto', 'sqrt'],\n",
        " 'min_samples_leaf': [1, 2, 4],\n",
        " 'min_samples_split': [2, 5, 8],\n",
        " 'n_estimators': [100, 130, 150]}\n",
        "\n",
        "rf_random = RandomizedSearchCV(estimator = rf_tuned, param_distributions = random_grid, n_iter = 10, cv = 3, verbose=2, random_state=42)\n",
        "\n",
        "#fitting\n",
        "rf_random.fit(xl_train,yl_train)"
      ],
      "metadata": {
        "id": "uejiH3VjMSI7"
      },
      "execution_count": null,
      "outputs": []
    },
    {
      "cell_type": "code",
      "source": [
        "#best para\n",
        "rf_random.best_params_"
      ],
      "metadata": {
        "id": "asX6W0fxWf4U"
      },
      "execution_count": null,
      "outputs": []
    },
    {
      "cell_type": "code",
      "source": [
        "#save the best parameters\n",
        "random_t = rf_random.best_estimator_"
      ],
      "metadata": {
        "id": "mEi5V1RzkDce"
      },
      "execution_count": null,
      "outputs": []
    },
    {
      "cell_type": "code",
      "source": [
        "#using the best parameter to tune the Random Forest Regresion to make it a Tuned random Forest\n",
        "from sklearn.ensemble import RandomForestRegressor\n",
        "rdf = RandomForestRegressor(n_estimators=130, max_depth = 90, bootstrap=False, max_features='sqrt', min_samples_leaf=1, min_samples_split= 8)\n",
        "rdfreg = rdf.fit(xl_train, yl_train)"
      ],
      "metadata": {
        "id": "iB9lKAZEakcZ"
      },
      "execution_count": null,
      "outputs": []
    },
    {
      "cell_type": "code",
      "source": [
        "a = rdfreg.score(xl_train, yl_train)\n",
        "b = rdfreg.score(xl_test, yl_test)\n",
        "\n",
        "print(\"Regresion Model Score\" , \":\" , a , \",\" ,\n",
        "      \"Out of Sample Test Score\" ,\":\" , b)   \n",
        "\n",
        "yl_predicted = rdfreg.predict(xl_train)\n",
        "yl_test_predicted = rdfreg.predict(xl_test)\n",
        "\n",
        "c = rmse(yl_train, yl_predicted)\n",
        "d = rmse(yl_test, yl_test_predicted)\n",
        "e = mape(yl_train, yl_predicted)\n",
        "f = mape(yl_test, yl_test_predicted)\n",
        "g = round(r2_score(yl_train, yl_predicted),6)\n",
        "h = round(r2_score(yl_test, yl_test_predicted),6)\n",
        "i = round(1 - (1-r2_score(yl_train, yl_predicted)) * (len(yl_train)-1)/(len(yl_train)-xl_train.shape[1]-1),6)\n",
        "j = round(1 - (1-r2_score(yl_test, yl_test_predicted)) * (len(yl_test)-1)/(len(yl_test)-xl_test.shape[1]-1),6)\n",
        "\n",
        "print(\"Training RMSE\", \":\", c,\n",
        "      \"Testing RMSE\", \":\", d)\n",
        "print(\"Training MAPE\", \":\", e,\n",
        "      \"Testing MAPE\", \":\", f)\n",
        "print(\"R2_train\" , \":\" , g , \",\" ,\n",
        "      \"R2_test\" ,\":\" , h)\n",
        "print(\"Adj_r2_train\" , \":\" , i , \",\" ,\n",
        "      \"Adj_r2_test\" ,\":\" , j)"
      ],
      "metadata": {
        "id": "2p2R7tCqY02O"
      },
      "execution_count": null,
      "outputs": []
    },
    {
      "cell_type": "code",
      "source": [
        "#Columns needed to compare metrics\n",
        "comparison_columns = ['Model_Name', 'Regression Model Score', 'Sample Test Score', 'Training RMSE', 'Testing RMSE', 'Training MAPE' , 'Testing MAPE', 'R2_train', 'R2_test', 'Adj_r2_train','Adj_r2_test']\n",
        "\n",
        "metric_scores = ['RandomForestRegressorTuned', a, b, c, d, e, f, g, h, i, j]\n",
        "df5= dict(zip(comparison_columns,metric_scores))"
      ],
      "metadata": {
        "id": "uKOFFmbxY5qS"
      },
      "execution_count": null,
      "outputs": []
    },
    {
      "cell_type": "code",
      "source": [
        "df5 = pd.DataFrame([df5])"
      ],
      "metadata": {
        "id": "bl3jKsHnbpV7"
      },
      "execution_count": null,
      "outputs": []
    },
    {
      "cell_type": "code",
      "source": [
        "df5"
      ],
      "metadata": {
        "id": "vghU_BUwd4xJ"
      },
      "execution_count": null,
      "outputs": []
    },
    {
      "cell_type": "code",
      "source": [
        "comparison_df1 = comparison_df1.merge(df5, how='outer')\n",
        "comparison_df1"
      ],
      "metadata": {
        "id": "j7Q3UcGzbrMB"
      },
      "execution_count": null,
      "outputs": []
    },
    {
      "cell_type": "markdown",
      "source": [
        "## **7. Model Performance and Evaluation**"
      ],
      "metadata": {
        "id": "wBb00ZNsIBV0"
      }
    },
    {
      "cell_type": "code",
      "source": [
        "#Taking a look of our final comparison dataframe\n",
        "comparison_df1"
      ],
      "metadata": {
        "id": "bMKOTuuBIMjT"
      },
      "execution_count": null,
      "outputs": []
    },
    {
      "cell_type": "code",
      "source": [
        "#visualising our comparison df for Test R2\n",
        "sns.barplot(y=comparison_df1['Model_Name'], x = comparison_df1['R2_test'])"
      ],
      "metadata": {
        "id": "BQ7Gvcrzb2Xr"
      },
      "execution_count": null,
      "outputs": []
    },
    {
      "cell_type": "code",
      "source": [
        "#visualising our comparison df for Test R2\n",
        "sns.barplot(y=comparison_df1['Model_Name'], x = comparison_df1['Regression Model Score'])"
      ],
      "metadata": {
        "id": "GO_XsXancXaw"
      },
      "execution_count": null,
      "outputs": []
    },
    {
      "cell_type": "code",
      "source": [
        "#visualising our comparison df for Test R2\n",
        "sns.barplot(x=comparison_df1['Sample Test Score'], y = comparison_df1['Model_Name'])"
      ],
      "metadata": {
        "id": "lCIqqBmhciTb"
      },
      "execution_count": null,
      "outputs": []
    },
    {
      "cell_type": "code",
      "source": [
        "comparison_df1"
      ],
      "metadata": {
        "id": "uKaTVv_ZdQol"
      },
      "execution_count": null,
      "outputs": []
    },
    {
      "cell_type": "code",
      "source": [
        "comparison_df1.loc[:,[\"Model_Name\",\"Sample Test Score\",\"R2_test\",\"Adj_r2_test\"]]"
      ],
      "metadata": {
        "id": "3scDKZiIE2jC"
      },
      "execution_count": null,
      "outputs": []
    },
    {
      "cell_type": "markdown",
      "source": [
        "**Since R^2 test and Adjusted R^2 test has the same value for decison tree and random forest we have to see some other paramater which will give us a better insight to differentiate between the three models.**"
      ],
      "metadata": {
        "id": "osIFEWr2a3Yl"
      }
    },
    {
      "cell_type": "markdown",
      "source": [
        "### **Random Forest vs Decision Tree Models**"
      ],
      "metadata": {
        "id": "ytfeQpxH5J6B"
      }
    },
    {
      "cell_type": "code",
      "source": [
        "#Sample Test Score of the selected models\n",
        "Decision_Tree_Sts = 0.750223\n",
        "Random_Forest_Sts = 0.833465\n",
        "Random_Forest_Tuned_Sts = 0.848593"
      ],
      "metadata": {
        "id": "VWrSFgfREbsq"
      },
      "execution_count": null,
      "outputs": []
    },
    {
      "cell_type": "code",
      "source": [
        "#improvement % \n",
        "improvement_r = ((Random_Forest_Sts - Decision_Tree_Sts)/Decision_Tree_Sts)*100\n",
        "print('Model Performance')\n",
        "print(f'Improvement of {round(improvement_r,3)} % was seen in Random Forest against Decision Tree.')"
      ],
      "metadata": {
        "id": "s9BfGm_SImI1"
      },
      "execution_count": null,
      "outputs": []
    },
    {
      "cell_type": "markdown",
      "source": [
        "### **Random Forest Tuned vs Random Forest Models**"
      ],
      "metadata": {
        "id": "-mPO_z2JLtMd"
      }
    },
    {
      "cell_type": "code",
      "source": [
        "#improvement % of tuned vs simple random forest\n",
        "improvement_r = ((Random_Forest_Tuned_Sts - Random_Forest_Sts)/Random_Forest_Sts)*100\n",
        "print('Model Performance')\n",
        "print(f'Improvement of {round(improvement_r,3)} % was seen in Random Forest Tuned against Simple Random Forest.')"
      ],
      "metadata": {
        "id": "zMWC1RkLLvNh"
      },
      "execution_count": null,
      "outputs": []
    },
    {
      "cell_type": "markdown",
      "source": [
        "### **Observation**\n",
        "\n",
        "* Since the R^2 Score and the Adjusted_r^2_Score is similar in two of the three cases and hence we have to shift to the Sample Test Score.\n",
        "* The Sample Test Score was seen in tuned Random Forest model with the value **0.848593** which was only **1.815 %** improved from a simple random forest model. \n",
        "* It seems like we have maxed out on performance with the data and these models."
      ],
      "metadata": {
        "id": "IounsBc3MKwQ"
      }
    },
    {
      "cell_type": "code",
      "source": [
        "features = xl_test.columns\n",
        "importances = rdfreg.feature_importances_\n",
        "indices = np.argsort(importances)\n",
        "plt.figure(figsize=(12,12))\n",
        "plt.title('Feature Importances', fontsize=20)\n",
        "plt.barh(range(len(indices)), importances[indices], color='red', align='center')\n",
        "plt.yticks(range(len(indices)), features[indices])\n",
        "plt.xlabel('Relative Importance')"
      ],
      "metadata": {
        "id": "-cElGsaGY-2O"
      },
      "execution_count": null,
      "outputs": []
    },
    {
      "cell_type": "markdown",
      "source": [
        "### **8. Store wise Sales Predictions**"
      ],
      "metadata": {
        "id": "B74Mop53NALs"
      }
    },
    {
      "cell_type": "code",
      "source": [
        "#importing the pathway for the Rossmann Stores Data.csv\n",
        "df1 = pd.read_csv('/content/drive/MyDrive/AlmaBetter/Capstone_Project_ML_Regression/test.csv',)\n",
        "df1.head()\n"
      ],
      "metadata": {
        "id": "r2BrYT5DUAe2",
        "colab": {
          "base_uri": "https://localhost:8080/",
          "height": 386
        },
        "outputId": "6f72d785-b0e3-4cb9-de73-ac5ab5404590"
      },
      "execution_count": 51,
      "outputs": [
        {
          "output_type": "execute_result",
          "data": {
            "text/plain": [
              "         Date  Store  DayOfWeek  Sales  Promo  StateHoliday  SchoolHoliday  \\\n",
              "0  2013-01-01     85          2   4220      0           1.0              1   \n",
              "1  2013-01-01    259          2   6851      0           1.0              1   \n",
              "2  2013-01-01    259          2   6851      0           1.0              1   \n",
              "3  2013-01-01    259          2   6851      0           1.0              1   \n",
              "4  2013-01-01    259          2   6851      0           1.0              1   \n",
              "\n",
              "  StoreType Assortment  CompetitionDistance  ...  Month  WeekOfYear  \\\n",
              "0         b          a               1870.0  ...      1           1   \n",
              "1         b          b                210.0  ...      1           1   \n",
              "2         b          b                210.0  ...      1           1   \n",
              "3         b          b                210.0  ...      1           1   \n",
              "4         b          b                210.0  ...      1           1   \n",
              "\n",
              "   DayOfYear  sales_key     AvgSales  cust_key  AvgCustomer  CompetitionOpen  \\\n",
              "0          1    2013185  6613.290323   2013185   930.000000             15.0   \n",
              "1          1   20131259  6079.354839  20131259  1420.387097              0.0   \n",
              "2          1   20131259  6079.354839  20131259   511.774194              0.0   \n",
              "3          1   20131259  5427.290323  20131259  1420.387097              0.0   \n",
              "4          1   20131259  5427.290323  20131259   511.774194              0.0   \n",
              "\n",
              "   Promo2Open  Promo2running  \n",
              "0   24.920548              0  \n",
              "1   24.920548              0  \n",
              "2   24.920548              0  \n",
              "3   24.920548              0  \n",
              "4   24.920548              0  \n",
              "\n",
              "[5 rows x 22 columns]"
            ],
            "text/html": [
              "\n",
              "  <div id=\"df-ab638d62-b193-4d03-bb24-7dea36d182a1\">\n",
              "    <div class=\"colab-df-container\">\n",
              "      <div>\n",
              "<style scoped>\n",
              "    .dataframe tbody tr th:only-of-type {\n",
              "        vertical-align: middle;\n",
              "    }\n",
              "\n",
              "    .dataframe tbody tr th {\n",
              "        vertical-align: top;\n",
              "    }\n",
              "\n",
              "    .dataframe thead th {\n",
              "        text-align: right;\n",
              "    }\n",
              "</style>\n",
              "<table border=\"1\" class=\"dataframe\">\n",
              "  <thead>\n",
              "    <tr style=\"text-align: right;\">\n",
              "      <th></th>\n",
              "      <th>Date</th>\n",
              "      <th>Store</th>\n",
              "      <th>DayOfWeek</th>\n",
              "      <th>Sales</th>\n",
              "      <th>Promo</th>\n",
              "      <th>StateHoliday</th>\n",
              "      <th>SchoolHoliday</th>\n",
              "      <th>StoreType</th>\n",
              "      <th>Assortment</th>\n",
              "      <th>CompetitionDistance</th>\n",
              "      <th>...</th>\n",
              "      <th>Month</th>\n",
              "      <th>WeekOfYear</th>\n",
              "      <th>DayOfYear</th>\n",
              "      <th>sales_key</th>\n",
              "      <th>AvgSales</th>\n",
              "      <th>cust_key</th>\n",
              "      <th>AvgCustomer</th>\n",
              "      <th>CompetitionOpen</th>\n",
              "      <th>Promo2Open</th>\n",
              "      <th>Promo2running</th>\n",
              "    </tr>\n",
              "  </thead>\n",
              "  <tbody>\n",
              "    <tr>\n",
              "      <th>0</th>\n",
              "      <td>2013-01-01</td>\n",
              "      <td>85</td>\n",
              "      <td>2</td>\n",
              "      <td>4220</td>\n",
              "      <td>0</td>\n",
              "      <td>1.0</td>\n",
              "      <td>1</td>\n",
              "      <td>b</td>\n",
              "      <td>a</td>\n",
              "      <td>1870.0</td>\n",
              "      <td>...</td>\n",
              "      <td>1</td>\n",
              "      <td>1</td>\n",
              "      <td>1</td>\n",
              "      <td>2013185</td>\n",
              "      <td>6613.290323</td>\n",
              "      <td>2013185</td>\n",
              "      <td>930.000000</td>\n",
              "      <td>15.0</td>\n",
              "      <td>24.920548</td>\n",
              "      <td>0</td>\n",
              "    </tr>\n",
              "    <tr>\n",
              "      <th>1</th>\n",
              "      <td>2013-01-01</td>\n",
              "      <td>259</td>\n",
              "      <td>2</td>\n",
              "      <td>6851</td>\n",
              "      <td>0</td>\n",
              "      <td>1.0</td>\n",
              "      <td>1</td>\n",
              "      <td>b</td>\n",
              "      <td>b</td>\n",
              "      <td>210.0</td>\n",
              "      <td>...</td>\n",
              "      <td>1</td>\n",
              "      <td>1</td>\n",
              "      <td>1</td>\n",
              "      <td>20131259</td>\n",
              "      <td>6079.354839</td>\n",
              "      <td>20131259</td>\n",
              "      <td>1420.387097</td>\n",
              "      <td>0.0</td>\n",
              "      <td>24.920548</td>\n",
              "      <td>0</td>\n",
              "    </tr>\n",
              "    <tr>\n",
              "      <th>2</th>\n",
              "      <td>2013-01-01</td>\n",
              "      <td>259</td>\n",
              "      <td>2</td>\n",
              "      <td>6851</td>\n",
              "      <td>0</td>\n",
              "      <td>1.0</td>\n",
              "      <td>1</td>\n",
              "      <td>b</td>\n",
              "      <td>b</td>\n",
              "      <td>210.0</td>\n",
              "      <td>...</td>\n",
              "      <td>1</td>\n",
              "      <td>1</td>\n",
              "      <td>1</td>\n",
              "      <td>20131259</td>\n",
              "      <td>6079.354839</td>\n",
              "      <td>20131259</td>\n",
              "      <td>511.774194</td>\n",
              "      <td>0.0</td>\n",
              "      <td>24.920548</td>\n",
              "      <td>0</td>\n",
              "    </tr>\n",
              "    <tr>\n",
              "      <th>3</th>\n",
              "      <td>2013-01-01</td>\n",
              "      <td>259</td>\n",
              "      <td>2</td>\n",
              "      <td>6851</td>\n",
              "      <td>0</td>\n",
              "      <td>1.0</td>\n",
              "      <td>1</td>\n",
              "      <td>b</td>\n",
              "      <td>b</td>\n",
              "      <td>210.0</td>\n",
              "      <td>...</td>\n",
              "      <td>1</td>\n",
              "      <td>1</td>\n",
              "      <td>1</td>\n",
              "      <td>20131259</td>\n",
              "      <td>5427.290323</td>\n",
              "      <td>20131259</td>\n",
              "      <td>1420.387097</td>\n",
              "      <td>0.0</td>\n",
              "      <td>24.920548</td>\n",
              "      <td>0</td>\n",
              "    </tr>\n",
              "    <tr>\n",
              "      <th>4</th>\n",
              "      <td>2013-01-01</td>\n",
              "      <td>259</td>\n",
              "      <td>2</td>\n",
              "      <td>6851</td>\n",
              "      <td>0</td>\n",
              "      <td>1.0</td>\n",
              "      <td>1</td>\n",
              "      <td>b</td>\n",
              "      <td>b</td>\n",
              "      <td>210.0</td>\n",
              "      <td>...</td>\n",
              "      <td>1</td>\n",
              "      <td>1</td>\n",
              "      <td>1</td>\n",
              "      <td>20131259</td>\n",
              "      <td>5427.290323</td>\n",
              "      <td>20131259</td>\n",
              "      <td>511.774194</td>\n",
              "      <td>0.0</td>\n",
              "      <td>24.920548</td>\n",
              "      <td>0</td>\n",
              "    </tr>\n",
              "  </tbody>\n",
              "</table>\n",
              "<p>5 rows × 22 columns</p>\n",
              "</div>\n",
              "      <button class=\"colab-df-convert\" onclick=\"convertToInteractive('df-ab638d62-b193-4d03-bb24-7dea36d182a1')\"\n",
              "              title=\"Convert this dataframe to an interactive table.\"\n",
              "              style=\"display:none;\">\n",
              "        \n",
              "  <svg xmlns=\"http://www.w3.org/2000/svg\" height=\"24px\"viewBox=\"0 0 24 24\"\n",
              "       width=\"24px\">\n",
              "    <path d=\"M0 0h24v24H0V0z\" fill=\"none\"/>\n",
              "    <path d=\"M18.56 5.44l.94 2.06.94-2.06 2.06-.94-2.06-.94-.94-2.06-.94 2.06-2.06.94zm-11 1L8.5 8.5l.94-2.06 2.06-.94-2.06-.94L8.5 2.5l-.94 2.06-2.06.94zm10 10l.94 2.06.94-2.06 2.06-.94-2.06-.94-.94-2.06-.94 2.06-2.06.94z\"/><path d=\"M17.41 7.96l-1.37-1.37c-.4-.4-.92-.59-1.43-.59-.52 0-1.04.2-1.43.59L10.3 9.45l-7.72 7.72c-.78.78-.78 2.05 0 2.83L4 21.41c.39.39.9.59 1.41.59.51 0 1.02-.2 1.41-.59l7.78-7.78 2.81-2.81c.8-.78.8-2.07 0-2.86zM5.41 20L4 18.59l7.72-7.72 1.47 1.35L5.41 20z\"/>\n",
              "  </svg>\n",
              "      </button>\n",
              "      \n",
              "  <style>\n",
              "    .colab-df-container {\n",
              "      display:flex;\n",
              "      flex-wrap:wrap;\n",
              "      gap: 12px;\n",
              "    }\n",
              "\n",
              "    .colab-df-convert {\n",
              "      background-color: #E8F0FE;\n",
              "      border: none;\n",
              "      border-radius: 50%;\n",
              "      cursor: pointer;\n",
              "      display: none;\n",
              "      fill: #1967D2;\n",
              "      height: 32px;\n",
              "      padding: 0 0 0 0;\n",
              "      width: 32px;\n",
              "    }\n",
              "\n",
              "    .colab-df-convert:hover {\n",
              "      background-color: #E2EBFA;\n",
              "      box-shadow: 0px 1px 2px rgba(60, 64, 67, 0.3), 0px 1px 3px 1px rgba(60, 64, 67, 0.15);\n",
              "      fill: #174EA6;\n",
              "    }\n",
              "\n",
              "    [theme=dark] .colab-df-convert {\n",
              "      background-color: #3B4455;\n",
              "      fill: #D2E3FC;\n",
              "    }\n",
              "\n",
              "    [theme=dark] .colab-df-convert:hover {\n",
              "      background-color: #434B5C;\n",
              "      box-shadow: 0px 1px 3px 1px rgba(0, 0, 0, 0.15);\n",
              "      filter: drop-shadow(0px 1px 2px rgba(0, 0, 0, 0.3));\n",
              "      fill: #FFFFFF;\n",
              "    }\n",
              "  </style>\n",
              "\n",
              "      <script>\n",
              "        const buttonEl =\n",
              "          document.querySelector('#df-ab638d62-b193-4d03-bb24-7dea36d182a1 button.colab-df-convert');\n",
              "        buttonEl.style.display =\n",
              "          google.colab.kernel.accessAllowed ? 'block' : 'none';\n",
              "\n",
              "        async function convertToInteractive(key) {\n",
              "          const element = document.querySelector('#df-ab638d62-b193-4d03-bb24-7dea36d182a1');\n",
              "          const dataTable =\n",
              "            await google.colab.kernel.invokeFunction('convertToInteractive',\n",
              "                                                     [key], {});\n",
              "          if (!dataTable) return;\n",
              "\n",
              "          const docLinkHtml = 'Like what you see? Visit the ' +\n",
              "            '<a target=\"_blank\" href=https://colab.research.google.com/notebooks/data_table.ipynb>data table notebook</a>'\n",
              "            + ' to learn more about interactive tables.';\n",
              "          element.innerHTML = '';\n",
              "          dataTable['output_type'] = 'display_data';\n",
              "          await google.colab.output.renderOutput(dataTable, element);\n",
              "          const docLink = document.createElement('div');\n",
              "          docLink.innerHTML = docLinkHtml;\n",
              "          element.appendChild(docLink);\n",
              "        }\n",
              "      </script>\n",
              "    </div>\n",
              "  </div>\n",
              "  "
            ]
          },
          "metadata": {},
          "execution_count": 51
        }
      ]
    },
    {
      "cell_type": "code",
      "source": [
        "dfd = df1.sample(n=50000, random_state=1)"
      ],
      "metadata": {
        "id": "l6BfrXq9orcU"
      },
      "execution_count": 52,
      "outputs": []
    },
    {
      "cell_type": "code",
      "source": [
        "dfd.info()"
      ],
      "metadata": {
        "colab": {
          "base_uri": "https://localhost:8080/"
        },
        "id": "MmKnSMQycPJ_",
        "outputId": "885a0a6a-cc5b-496b-d423-b84691b9a89b"
      },
      "execution_count": 53,
      "outputs": [
        {
          "output_type": "stream",
          "name": "stdout",
          "text": [
            "<class 'pandas.core.frame.DataFrame'>\n",
            "Int64Index: 50000 entries, 79585 to 169000\n",
            "Data columns (total 22 columns):\n",
            " #   Column               Non-Null Count  Dtype  \n",
            "---  ------               --------------  -----  \n",
            " 0   Date                 50000 non-null  object \n",
            " 1   Store                50000 non-null  int64  \n",
            " 2   DayOfWeek            50000 non-null  int64  \n",
            " 3   Sales                50000 non-null  int64  \n",
            " 4   Promo                50000 non-null  int64  \n",
            " 5   StateHoliday         50000 non-null  float64\n",
            " 6   SchoolHoliday        50000 non-null  int64  \n",
            " 7   StoreType            50000 non-null  object \n",
            " 8   Assortment           50000 non-null  object \n",
            " 9   CompetitionDistance  50000 non-null  float64\n",
            " 10  Promo2               50000 non-null  int64  \n",
            " 11  Year                 50000 non-null  int64  \n",
            " 12  Month                50000 non-null  int64  \n",
            " 13  WeekOfYear           50000 non-null  int64  \n",
            " 14  DayOfYear            50000 non-null  int64  \n",
            " 15  sales_key            50000 non-null  int64  \n",
            " 16  AvgSales             50000 non-null  float64\n",
            " 17  cust_key             50000 non-null  int64  \n",
            " 18  AvgCustomer          50000 non-null  float64\n",
            " 19  CompetitionOpen      50000 non-null  float64\n",
            " 20  Promo2Open           50000 non-null  float64\n",
            " 21  Promo2running        50000 non-null  int64  \n",
            "dtypes: float64(6), int64(13), object(3)\n",
            "memory usage: 8.8+ MB\n"
          ]
        }
      ]
    },
    {
      "cell_type": "code",
      "source": [
        "#setting date and store as index\n",
        "dfd.set_index(['Date','Store'],inplace=True)\n",
        "#sorting index following the time series\n",
        "dfd.sort_index(inplace=True)"
      ],
      "metadata": {
        "id": "bE632UoEpnNY"
      },
      "execution_count": 54,
      "outputs": []
    },
    {
      "cell_type": "code",
      "source": [
        "dfd.head()"
      ],
      "metadata": {
        "id": "xarf4AQLZy27",
        "colab": {
          "base_uri": "https://localhost:8080/",
          "height": 302
        },
        "outputId": "f187c026-1517-45b3-8d74-b9fcb7e901b7"
      },
      "execution_count": 55,
      "outputs": [
        {
          "output_type": "execute_result",
          "data": {
            "text/plain": [
              "                  DayOfWeek  Sales  Promo  StateHoliday  SchoolHoliday  \\\n",
              "Date       Store                                                         \n",
              "2013-01-01 85             2   4220      0           1.0              1   \n",
              "           259            2   6851      0           1.0              1   \n",
              "           262            2  17267      0           1.0              1   \n",
              "2013-01-02 12             3   5029      0           0.0              1   \n",
              "           18             3   5143      0           0.0              1   \n",
              "\n",
              "                 StoreType Assortment  CompetitionDistance  Promo2  Year  \\\n",
              "Date       Store                                                           \n",
              "2013-01-01 85            b          a               1870.0       0  2013   \n",
              "           259           b          b                210.0       0  2013   \n",
              "           262           b          a               1180.0       0  2013   \n",
              "2013-01-02 12            a          c               1070.0       1  2013   \n",
              "           18            d          c              13840.0       1  2013   \n",
              "\n",
              "                  Month  WeekOfYear  DayOfYear  sales_key     AvgSales  \\\n",
              "Date       Store                                                         \n",
              "2013-01-01 85         1           1          1    2013185  6613.290323   \n",
              "           259        1           1          1   20131259  5427.290323   \n",
              "           262        1           1          1   20131262  5764.516129   \n",
              "2013-01-02 12         1           1          2    2013112  4287.600000   \n",
              "           18         1           1          2    2013118  4406.933333   \n",
              "\n",
              "                  cust_key  AvgCustomer  CompetitionOpen  Promo2Open  \\\n",
              "Date       Store                                                       \n",
              "2013-01-01 85      2013185   930.000000             15.0   24.920548   \n",
              "           259    20131259  1420.387097              0.0   24.920548   \n",
              "           262    20131262   619.935484              0.0   24.920548   \n",
              "2013-01-02 12      2013112   685.870968              0.0   33.238356   \n",
              "           18      2013118   532.933333             31.0    9.008219   \n",
              "\n",
              "                  Promo2running  \n",
              "Date       Store                 \n",
              "2013-01-01 85                 0  \n",
              "           259                0  \n",
              "           262                0  \n",
              "2013-01-02 12                 1  \n",
              "           18                 1  "
            ],
            "text/html": [
              "\n",
              "  <div id=\"df-d855342f-32d5-44f3-a951-ae7762006bab\">\n",
              "    <div class=\"colab-df-container\">\n",
              "      <div>\n",
              "<style scoped>\n",
              "    .dataframe tbody tr th:only-of-type {\n",
              "        vertical-align: middle;\n",
              "    }\n",
              "\n",
              "    .dataframe tbody tr th {\n",
              "        vertical-align: top;\n",
              "    }\n",
              "\n",
              "    .dataframe thead th {\n",
              "        text-align: right;\n",
              "    }\n",
              "</style>\n",
              "<table border=\"1\" class=\"dataframe\">\n",
              "  <thead>\n",
              "    <tr style=\"text-align: right;\">\n",
              "      <th></th>\n",
              "      <th></th>\n",
              "      <th>DayOfWeek</th>\n",
              "      <th>Sales</th>\n",
              "      <th>Promo</th>\n",
              "      <th>StateHoliday</th>\n",
              "      <th>SchoolHoliday</th>\n",
              "      <th>StoreType</th>\n",
              "      <th>Assortment</th>\n",
              "      <th>CompetitionDistance</th>\n",
              "      <th>Promo2</th>\n",
              "      <th>Year</th>\n",
              "      <th>Month</th>\n",
              "      <th>WeekOfYear</th>\n",
              "      <th>DayOfYear</th>\n",
              "      <th>sales_key</th>\n",
              "      <th>AvgSales</th>\n",
              "      <th>cust_key</th>\n",
              "      <th>AvgCustomer</th>\n",
              "      <th>CompetitionOpen</th>\n",
              "      <th>Promo2Open</th>\n",
              "      <th>Promo2running</th>\n",
              "    </tr>\n",
              "    <tr>\n",
              "      <th>Date</th>\n",
              "      <th>Store</th>\n",
              "      <th></th>\n",
              "      <th></th>\n",
              "      <th></th>\n",
              "      <th></th>\n",
              "      <th></th>\n",
              "      <th></th>\n",
              "      <th></th>\n",
              "      <th></th>\n",
              "      <th></th>\n",
              "      <th></th>\n",
              "      <th></th>\n",
              "      <th></th>\n",
              "      <th></th>\n",
              "      <th></th>\n",
              "      <th></th>\n",
              "      <th></th>\n",
              "      <th></th>\n",
              "      <th></th>\n",
              "      <th></th>\n",
              "      <th></th>\n",
              "    </tr>\n",
              "  </thead>\n",
              "  <tbody>\n",
              "    <tr>\n",
              "      <th rowspan=\"3\" valign=\"top\">2013-01-01</th>\n",
              "      <th>85</th>\n",
              "      <td>2</td>\n",
              "      <td>4220</td>\n",
              "      <td>0</td>\n",
              "      <td>1.0</td>\n",
              "      <td>1</td>\n",
              "      <td>b</td>\n",
              "      <td>a</td>\n",
              "      <td>1870.0</td>\n",
              "      <td>0</td>\n",
              "      <td>2013</td>\n",
              "      <td>1</td>\n",
              "      <td>1</td>\n",
              "      <td>1</td>\n",
              "      <td>2013185</td>\n",
              "      <td>6613.290323</td>\n",
              "      <td>2013185</td>\n",
              "      <td>930.000000</td>\n",
              "      <td>15.0</td>\n",
              "      <td>24.920548</td>\n",
              "      <td>0</td>\n",
              "    </tr>\n",
              "    <tr>\n",
              "      <th>259</th>\n",
              "      <td>2</td>\n",
              "      <td>6851</td>\n",
              "      <td>0</td>\n",
              "      <td>1.0</td>\n",
              "      <td>1</td>\n",
              "      <td>b</td>\n",
              "      <td>b</td>\n",
              "      <td>210.0</td>\n",
              "      <td>0</td>\n",
              "      <td>2013</td>\n",
              "      <td>1</td>\n",
              "      <td>1</td>\n",
              "      <td>1</td>\n",
              "      <td>20131259</td>\n",
              "      <td>5427.290323</td>\n",
              "      <td>20131259</td>\n",
              "      <td>1420.387097</td>\n",
              "      <td>0.0</td>\n",
              "      <td>24.920548</td>\n",
              "      <td>0</td>\n",
              "    </tr>\n",
              "    <tr>\n",
              "      <th>262</th>\n",
              "      <td>2</td>\n",
              "      <td>17267</td>\n",
              "      <td>0</td>\n",
              "      <td>1.0</td>\n",
              "      <td>1</td>\n",
              "      <td>b</td>\n",
              "      <td>a</td>\n",
              "      <td>1180.0</td>\n",
              "      <td>0</td>\n",
              "      <td>2013</td>\n",
              "      <td>1</td>\n",
              "      <td>1</td>\n",
              "      <td>1</td>\n",
              "      <td>20131262</td>\n",
              "      <td>5764.516129</td>\n",
              "      <td>20131262</td>\n",
              "      <td>619.935484</td>\n",
              "      <td>0.0</td>\n",
              "      <td>24.920548</td>\n",
              "      <td>0</td>\n",
              "    </tr>\n",
              "    <tr>\n",
              "      <th rowspan=\"2\" valign=\"top\">2013-01-02</th>\n",
              "      <th>12</th>\n",
              "      <td>3</td>\n",
              "      <td>5029</td>\n",
              "      <td>0</td>\n",
              "      <td>0.0</td>\n",
              "      <td>1</td>\n",
              "      <td>a</td>\n",
              "      <td>c</td>\n",
              "      <td>1070.0</td>\n",
              "      <td>1</td>\n",
              "      <td>2013</td>\n",
              "      <td>1</td>\n",
              "      <td>1</td>\n",
              "      <td>2</td>\n",
              "      <td>2013112</td>\n",
              "      <td>4287.600000</td>\n",
              "      <td>2013112</td>\n",
              "      <td>685.870968</td>\n",
              "      <td>0.0</td>\n",
              "      <td>33.238356</td>\n",
              "      <td>1</td>\n",
              "    </tr>\n",
              "    <tr>\n",
              "      <th>18</th>\n",
              "      <td>3</td>\n",
              "      <td>5143</td>\n",
              "      <td>0</td>\n",
              "      <td>0.0</td>\n",
              "      <td>1</td>\n",
              "      <td>d</td>\n",
              "      <td>c</td>\n",
              "      <td>13840.0</td>\n",
              "      <td>1</td>\n",
              "      <td>2013</td>\n",
              "      <td>1</td>\n",
              "      <td>1</td>\n",
              "      <td>2</td>\n",
              "      <td>2013118</td>\n",
              "      <td>4406.933333</td>\n",
              "      <td>2013118</td>\n",
              "      <td>532.933333</td>\n",
              "      <td>31.0</td>\n",
              "      <td>9.008219</td>\n",
              "      <td>1</td>\n",
              "    </tr>\n",
              "  </tbody>\n",
              "</table>\n",
              "</div>\n",
              "      <button class=\"colab-df-convert\" onclick=\"convertToInteractive('df-d855342f-32d5-44f3-a951-ae7762006bab')\"\n",
              "              title=\"Convert this dataframe to an interactive table.\"\n",
              "              style=\"display:none;\">\n",
              "        \n",
              "  <svg xmlns=\"http://www.w3.org/2000/svg\" height=\"24px\"viewBox=\"0 0 24 24\"\n",
              "       width=\"24px\">\n",
              "    <path d=\"M0 0h24v24H0V0z\" fill=\"none\"/>\n",
              "    <path d=\"M18.56 5.44l.94 2.06.94-2.06 2.06-.94-2.06-.94-.94-2.06-.94 2.06-2.06.94zm-11 1L8.5 8.5l.94-2.06 2.06-.94-2.06-.94L8.5 2.5l-.94 2.06-2.06.94zm10 10l.94 2.06.94-2.06 2.06-.94-2.06-.94-.94-2.06-.94 2.06-2.06.94z\"/><path d=\"M17.41 7.96l-1.37-1.37c-.4-.4-.92-.59-1.43-.59-.52 0-1.04.2-1.43.59L10.3 9.45l-7.72 7.72c-.78.78-.78 2.05 0 2.83L4 21.41c.39.39.9.59 1.41.59.51 0 1.02-.2 1.41-.59l7.78-7.78 2.81-2.81c.8-.78.8-2.07 0-2.86zM5.41 20L4 18.59l7.72-7.72 1.47 1.35L5.41 20z\"/>\n",
              "  </svg>\n",
              "      </button>\n",
              "      \n",
              "  <style>\n",
              "    .colab-df-container {\n",
              "      display:flex;\n",
              "      flex-wrap:wrap;\n",
              "      gap: 12px;\n",
              "    }\n",
              "\n",
              "    .colab-df-convert {\n",
              "      background-color: #E8F0FE;\n",
              "      border: none;\n",
              "      border-radius: 50%;\n",
              "      cursor: pointer;\n",
              "      display: none;\n",
              "      fill: #1967D2;\n",
              "      height: 32px;\n",
              "      padding: 0 0 0 0;\n",
              "      width: 32px;\n",
              "    }\n",
              "\n",
              "    .colab-df-convert:hover {\n",
              "      background-color: #E2EBFA;\n",
              "      box-shadow: 0px 1px 2px rgba(60, 64, 67, 0.3), 0px 1px 3px 1px rgba(60, 64, 67, 0.15);\n",
              "      fill: #174EA6;\n",
              "    }\n",
              "\n",
              "    [theme=dark] .colab-df-convert {\n",
              "      background-color: #3B4455;\n",
              "      fill: #D2E3FC;\n",
              "    }\n",
              "\n",
              "    [theme=dark] .colab-df-convert:hover {\n",
              "      background-color: #434B5C;\n",
              "      box-shadow: 0px 1px 3px 1px rgba(0, 0, 0, 0.15);\n",
              "      filter: drop-shadow(0px 1px 2px rgba(0, 0, 0, 0.3));\n",
              "      fill: #FFFFFF;\n",
              "    }\n",
              "  </style>\n",
              "\n",
              "      <script>\n",
              "        const buttonEl =\n",
              "          document.querySelector('#df-d855342f-32d5-44f3-a951-ae7762006bab button.colab-df-convert');\n",
              "        buttonEl.style.display =\n",
              "          google.colab.kernel.accessAllowed ? 'block' : 'none';\n",
              "\n",
              "        async function convertToInteractive(key) {\n",
              "          const element = document.querySelector('#df-d855342f-32d5-44f3-a951-ae7762006bab');\n",
              "          const dataTable =\n",
              "            await google.colab.kernel.invokeFunction('convertToInteractive',\n",
              "                                                     [key], {});\n",
              "          if (!dataTable) return;\n",
              "\n",
              "          const docLinkHtml = 'Like what you see? Visit the ' +\n",
              "            '<a target=\"_blank\" href=https://colab.research.google.com/notebooks/data_table.ipynb>data table notebook</a>'\n",
              "            + ' to learn more about interactive tables.';\n",
              "          element.innerHTML = '';\n",
              "          dataTable['output_type'] = 'display_data';\n",
              "          await google.colab.output.renderOutput(dataTable, element);\n",
              "          const docLink = document.createElement('div');\n",
              "          docLink.innerHTML = docLinkHtml;\n",
              "          element.appendChild(docLink);\n",
              "        }\n",
              "      </script>\n",
              "    </div>\n",
              "  </div>\n",
              "  "
            ]
          },
          "metadata": {},
          "execution_count": 55
        }
      ]
    },
    {
      "cell_type": "code",
      "source": [
        "# split features and labels\n",
        "X = dfd.drop('Sales', axis=1)\n",
        "y = dfd. Sales"
      ],
      "metadata": {
        "id": "h3qThqeYZiHO"
      },
      "execution_count": 56,
      "outputs": []
    },
    {
      "cell_type": "code",
      "source": [
        "# get dummy variables for categorical features for linear regression\n",
        "xd = X.copy()\n",
        "xd = pd.get_dummies(xd)\n"
      ],
      "metadata": {
        "id": "5o5YFZNyZkEB"
      },
      "execution_count": 57,
      "outputs": []
    },
    {
      "cell_type": "code",
      "source": [
        "# label nominal variables for tree based regression\n",
        "xl = X.copy()\n",
        "\n",
        "from sklearn.preprocessing import LabelEncoder\n",
        "label = LabelEncoder()\n",
        "xl.StateHoliday = label.fit_transform(xl.StateHoliday)\n",
        "xl.Assortment = label.fit_transform(xl.Assortment)\n",
        "xl.StoreType = label.fit_transform(xl.StoreType)"
      ],
      "metadata": {
        "id": "YjrjASeWsanI"
      },
      "execution_count": 58,
      "outputs": []
    },
    {
      "cell_type": "code",
      "source": [
        "xl.head()"
      ],
      "metadata": {
        "colab": {
          "base_uri": "https://localhost:8080/",
          "height": 302
        },
        "id": "TgHzaOiabvMF",
        "outputId": "c1659d65-7df7-4de8-c1c3-47d70c5b17a0"
      },
      "execution_count": 59,
      "outputs": [
        {
          "output_type": "execute_result",
          "data": {
            "text/plain": [
              "                  DayOfWeek  Promo  StateHoliday  SchoolHoliday  StoreType  \\\n",
              "Date       Store                                                             \n",
              "2013-01-01 85             2      0             1              1          1   \n",
              "           259            2      0             1              1          1   \n",
              "           262            2      0             1              1          1   \n",
              "2013-01-02 12             3      0             0              1          0   \n",
              "           18             3      0             0              1          3   \n",
              "\n",
              "                  Assortment  CompetitionDistance  Promo2  Year  Month  \\\n",
              "Date       Store                                                         \n",
              "2013-01-01 85              0               1870.0       0  2013      1   \n",
              "           259             1                210.0       0  2013      1   \n",
              "           262             0               1180.0       0  2013      1   \n",
              "2013-01-02 12              2               1070.0       1  2013      1   \n",
              "           18              2              13840.0       1  2013      1   \n",
              "\n",
              "                  WeekOfYear  DayOfYear  sales_key     AvgSales  cust_key  \\\n",
              "Date       Store                                                            \n",
              "2013-01-01 85              1          1    2013185  6613.290323   2013185   \n",
              "           259             1          1   20131259  5427.290323  20131259   \n",
              "           262             1          1   20131262  5764.516129  20131262   \n",
              "2013-01-02 12              1          2    2013112  4287.600000   2013112   \n",
              "           18              1          2    2013118  4406.933333   2013118   \n",
              "\n",
              "                  AvgCustomer  CompetitionOpen  Promo2Open  Promo2running  \n",
              "Date       Store                                                           \n",
              "2013-01-01 85      930.000000             15.0   24.920548              0  \n",
              "           259    1420.387097              0.0   24.920548              0  \n",
              "           262     619.935484              0.0   24.920548              0  \n",
              "2013-01-02 12      685.870968              0.0   33.238356              1  \n",
              "           18      532.933333             31.0    9.008219              1  "
            ],
            "text/html": [
              "\n",
              "  <div id=\"df-a7dc8a71-9d99-444e-9f0c-6d535385fb8a\">\n",
              "    <div class=\"colab-df-container\">\n",
              "      <div>\n",
              "<style scoped>\n",
              "    .dataframe tbody tr th:only-of-type {\n",
              "        vertical-align: middle;\n",
              "    }\n",
              "\n",
              "    .dataframe tbody tr th {\n",
              "        vertical-align: top;\n",
              "    }\n",
              "\n",
              "    .dataframe thead th {\n",
              "        text-align: right;\n",
              "    }\n",
              "</style>\n",
              "<table border=\"1\" class=\"dataframe\">\n",
              "  <thead>\n",
              "    <tr style=\"text-align: right;\">\n",
              "      <th></th>\n",
              "      <th></th>\n",
              "      <th>DayOfWeek</th>\n",
              "      <th>Promo</th>\n",
              "      <th>StateHoliday</th>\n",
              "      <th>SchoolHoliday</th>\n",
              "      <th>StoreType</th>\n",
              "      <th>Assortment</th>\n",
              "      <th>CompetitionDistance</th>\n",
              "      <th>Promo2</th>\n",
              "      <th>Year</th>\n",
              "      <th>Month</th>\n",
              "      <th>WeekOfYear</th>\n",
              "      <th>DayOfYear</th>\n",
              "      <th>sales_key</th>\n",
              "      <th>AvgSales</th>\n",
              "      <th>cust_key</th>\n",
              "      <th>AvgCustomer</th>\n",
              "      <th>CompetitionOpen</th>\n",
              "      <th>Promo2Open</th>\n",
              "      <th>Promo2running</th>\n",
              "    </tr>\n",
              "    <tr>\n",
              "      <th>Date</th>\n",
              "      <th>Store</th>\n",
              "      <th></th>\n",
              "      <th></th>\n",
              "      <th></th>\n",
              "      <th></th>\n",
              "      <th></th>\n",
              "      <th></th>\n",
              "      <th></th>\n",
              "      <th></th>\n",
              "      <th></th>\n",
              "      <th></th>\n",
              "      <th></th>\n",
              "      <th></th>\n",
              "      <th></th>\n",
              "      <th></th>\n",
              "      <th></th>\n",
              "      <th></th>\n",
              "      <th></th>\n",
              "      <th></th>\n",
              "      <th></th>\n",
              "    </tr>\n",
              "  </thead>\n",
              "  <tbody>\n",
              "    <tr>\n",
              "      <th rowspan=\"3\" valign=\"top\">2013-01-01</th>\n",
              "      <th>85</th>\n",
              "      <td>2</td>\n",
              "      <td>0</td>\n",
              "      <td>1</td>\n",
              "      <td>1</td>\n",
              "      <td>1</td>\n",
              "      <td>0</td>\n",
              "      <td>1870.0</td>\n",
              "      <td>0</td>\n",
              "      <td>2013</td>\n",
              "      <td>1</td>\n",
              "      <td>1</td>\n",
              "      <td>1</td>\n",
              "      <td>2013185</td>\n",
              "      <td>6613.290323</td>\n",
              "      <td>2013185</td>\n",
              "      <td>930.000000</td>\n",
              "      <td>15.0</td>\n",
              "      <td>24.920548</td>\n",
              "      <td>0</td>\n",
              "    </tr>\n",
              "    <tr>\n",
              "      <th>259</th>\n",
              "      <td>2</td>\n",
              "      <td>0</td>\n",
              "      <td>1</td>\n",
              "      <td>1</td>\n",
              "      <td>1</td>\n",
              "      <td>1</td>\n",
              "      <td>210.0</td>\n",
              "      <td>0</td>\n",
              "      <td>2013</td>\n",
              "      <td>1</td>\n",
              "      <td>1</td>\n",
              "      <td>1</td>\n",
              "      <td>20131259</td>\n",
              "      <td>5427.290323</td>\n",
              "      <td>20131259</td>\n",
              "      <td>1420.387097</td>\n",
              "      <td>0.0</td>\n",
              "      <td>24.920548</td>\n",
              "      <td>0</td>\n",
              "    </tr>\n",
              "    <tr>\n",
              "      <th>262</th>\n",
              "      <td>2</td>\n",
              "      <td>0</td>\n",
              "      <td>1</td>\n",
              "      <td>1</td>\n",
              "      <td>1</td>\n",
              "      <td>0</td>\n",
              "      <td>1180.0</td>\n",
              "      <td>0</td>\n",
              "      <td>2013</td>\n",
              "      <td>1</td>\n",
              "      <td>1</td>\n",
              "      <td>1</td>\n",
              "      <td>20131262</td>\n",
              "      <td>5764.516129</td>\n",
              "      <td>20131262</td>\n",
              "      <td>619.935484</td>\n",
              "      <td>0.0</td>\n",
              "      <td>24.920548</td>\n",
              "      <td>0</td>\n",
              "    </tr>\n",
              "    <tr>\n",
              "      <th rowspan=\"2\" valign=\"top\">2013-01-02</th>\n",
              "      <th>12</th>\n",
              "      <td>3</td>\n",
              "      <td>0</td>\n",
              "      <td>0</td>\n",
              "      <td>1</td>\n",
              "      <td>0</td>\n",
              "      <td>2</td>\n",
              "      <td>1070.0</td>\n",
              "      <td>1</td>\n",
              "      <td>2013</td>\n",
              "      <td>1</td>\n",
              "      <td>1</td>\n",
              "      <td>2</td>\n",
              "      <td>2013112</td>\n",
              "      <td>4287.600000</td>\n",
              "      <td>2013112</td>\n",
              "      <td>685.870968</td>\n",
              "      <td>0.0</td>\n",
              "      <td>33.238356</td>\n",
              "      <td>1</td>\n",
              "    </tr>\n",
              "    <tr>\n",
              "      <th>18</th>\n",
              "      <td>3</td>\n",
              "      <td>0</td>\n",
              "      <td>0</td>\n",
              "      <td>1</td>\n",
              "      <td>3</td>\n",
              "      <td>2</td>\n",
              "      <td>13840.0</td>\n",
              "      <td>1</td>\n",
              "      <td>2013</td>\n",
              "      <td>1</td>\n",
              "      <td>1</td>\n",
              "      <td>2</td>\n",
              "      <td>2013118</td>\n",
              "      <td>4406.933333</td>\n",
              "      <td>2013118</td>\n",
              "      <td>532.933333</td>\n",
              "      <td>31.0</td>\n",
              "      <td>9.008219</td>\n",
              "      <td>1</td>\n",
              "    </tr>\n",
              "  </tbody>\n",
              "</table>\n",
              "</div>\n",
              "      <button class=\"colab-df-convert\" onclick=\"convertToInteractive('df-a7dc8a71-9d99-444e-9f0c-6d535385fb8a')\"\n",
              "              title=\"Convert this dataframe to an interactive table.\"\n",
              "              style=\"display:none;\">\n",
              "        \n",
              "  <svg xmlns=\"http://www.w3.org/2000/svg\" height=\"24px\"viewBox=\"0 0 24 24\"\n",
              "       width=\"24px\">\n",
              "    <path d=\"M0 0h24v24H0V0z\" fill=\"none\"/>\n",
              "    <path d=\"M18.56 5.44l.94 2.06.94-2.06 2.06-.94-2.06-.94-.94-2.06-.94 2.06-2.06.94zm-11 1L8.5 8.5l.94-2.06 2.06-.94-2.06-.94L8.5 2.5l-.94 2.06-2.06.94zm10 10l.94 2.06.94-2.06 2.06-.94-2.06-.94-.94-2.06-.94 2.06-2.06.94z\"/><path d=\"M17.41 7.96l-1.37-1.37c-.4-.4-.92-.59-1.43-.59-.52 0-1.04.2-1.43.59L10.3 9.45l-7.72 7.72c-.78.78-.78 2.05 0 2.83L4 21.41c.39.39.9.59 1.41.59.51 0 1.02-.2 1.41-.59l7.78-7.78 2.81-2.81c.8-.78.8-2.07 0-2.86zM5.41 20L4 18.59l7.72-7.72 1.47 1.35L5.41 20z\"/>\n",
              "  </svg>\n",
              "      </button>\n",
              "      \n",
              "  <style>\n",
              "    .colab-df-container {\n",
              "      display:flex;\n",
              "      flex-wrap:wrap;\n",
              "      gap: 12px;\n",
              "    }\n",
              "\n",
              "    .colab-df-convert {\n",
              "      background-color: #E8F0FE;\n",
              "      border: none;\n",
              "      border-radius: 50%;\n",
              "      cursor: pointer;\n",
              "      display: none;\n",
              "      fill: #1967D2;\n",
              "      height: 32px;\n",
              "      padding: 0 0 0 0;\n",
              "      width: 32px;\n",
              "    }\n",
              "\n",
              "    .colab-df-convert:hover {\n",
              "      background-color: #E2EBFA;\n",
              "      box-shadow: 0px 1px 2px rgba(60, 64, 67, 0.3), 0px 1px 3px 1px rgba(60, 64, 67, 0.15);\n",
              "      fill: #174EA6;\n",
              "    }\n",
              "\n",
              "    [theme=dark] .colab-df-convert {\n",
              "      background-color: #3B4455;\n",
              "      fill: #D2E3FC;\n",
              "    }\n",
              "\n",
              "    [theme=dark] .colab-df-convert:hover {\n",
              "      background-color: #434B5C;\n",
              "      box-shadow: 0px 1px 3px 1px rgba(0, 0, 0, 0.15);\n",
              "      filter: drop-shadow(0px 1px 2px rgba(0, 0, 0, 0.3));\n",
              "      fill: #FFFFFF;\n",
              "    }\n",
              "  </style>\n",
              "\n",
              "      <script>\n",
              "        const buttonEl =\n",
              "          document.querySelector('#df-a7dc8a71-9d99-444e-9f0c-6d535385fb8a button.colab-df-convert');\n",
              "        buttonEl.style.display =\n",
              "          google.colab.kernel.accessAllowed ? 'block' : 'none';\n",
              "\n",
              "        async function convertToInteractive(key) {\n",
              "          const element = document.querySelector('#df-a7dc8a71-9d99-444e-9f0c-6d535385fb8a');\n",
              "          const dataTable =\n",
              "            await google.colab.kernel.invokeFunction('convertToInteractive',\n",
              "                                                     [key], {});\n",
              "          if (!dataTable) return;\n",
              "\n",
              "          const docLinkHtml = 'Like what you see? Visit the ' +\n",
              "            '<a target=\"_blank\" href=https://colab.research.google.com/notebooks/data_table.ipynb>data table notebook</a>'\n",
              "            + ' to learn more about interactive tables.';\n",
              "          element.innerHTML = '';\n",
              "          dataTable['output_type'] = 'display_data';\n",
              "          await google.colab.output.renderOutput(dataTable, element);\n",
              "          const docLink = document.createElement('div');\n",
              "          docLink.innerHTML = docLinkHtml;\n",
              "          element.appendChild(docLink);\n",
              "        }\n",
              "      </script>\n",
              "    </div>\n",
              "  </div>\n",
              "  "
            ]
          },
          "metadata": {},
          "execution_count": 59
        }
      ]
    },
    {
      "cell_type": "code",
      "source": [
        "xl.info()"
      ],
      "metadata": {
        "colab": {
          "base_uri": "https://localhost:8080/"
        },
        "id": "JD75a0Yrb53_",
        "outputId": "dbd73553-8009-4564-837e-0251a8e969e7"
      },
      "execution_count": 60,
      "outputs": [
        {
          "output_type": "stream",
          "name": "stdout",
          "text": [
            "<class 'pandas.core.frame.DataFrame'>\n",
            "MultiIndex: 50000 entries, ('2013-01-01', 85) to ('2015-07-31', 1115)\n",
            "Data columns (total 19 columns):\n",
            " #   Column               Non-Null Count  Dtype  \n",
            "---  ------               --------------  -----  \n",
            " 0   DayOfWeek            50000 non-null  int64  \n",
            " 1   Promo                50000 non-null  int64  \n",
            " 2   StateHoliday         50000 non-null  int64  \n",
            " 3   SchoolHoliday        50000 non-null  int64  \n",
            " 4   StoreType            50000 non-null  int64  \n",
            " 5   Assortment           50000 non-null  int64  \n",
            " 6   CompetitionDistance  50000 non-null  float64\n",
            " 7   Promo2               50000 non-null  int64  \n",
            " 8   Year                 50000 non-null  int64  \n",
            " 9   Month                50000 non-null  int64  \n",
            " 10  WeekOfYear           50000 non-null  int64  \n",
            " 11  DayOfYear            50000 non-null  int64  \n",
            " 12  sales_key            50000 non-null  int64  \n",
            " 13  AvgSales             50000 non-null  float64\n",
            " 14  cust_key             50000 non-null  int64  \n",
            " 15  AvgCustomer          50000 non-null  float64\n",
            " 16  CompetitionOpen      50000 non-null  float64\n",
            " 17  Promo2Open           50000 non-null  float64\n",
            " 18  Promo2running        50000 non-null  int64  \n",
            "dtypes: float64(5), int64(14)\n",
            "memory usage: 7.5+ MB\n"
          ]
        }
      ]
    },
    {
      "cell_type": "code",
      "source": [
        "# split training and test datasets from the new sample\n",
        "from sklearn.model_selection import train_test_split\n",
        "xd_train,xd_test,yd_train,yd_test = train_test_split(xd,y,test_size=0.3, random_state=1)\n",
        "xl_train,xl_test,yl_train,yl_test = train_test_split(xl,y,test_size=0.3, random_state=1)"
      ],
      "metadata": {
        "id": "KOkcb-Biaxdl"
      },
      "execution_count": 61,
      "outputs": []
    },
    {
      "cell_type": "code",
      "source": [
        "from sklearn.ensemble import RandomForestRegressor\n",
        "rdf = RandomForestRegressor(n_estimators=130, max_depth = 90, bootstrap=False, max_features='sqrt', min_samples_leaf=1, min_samples_split= 8)\n",
        "rdfreg = rdf.fit(xl_train, yl_train)"
      ],
      "metadata": {
        "id": "yw-zY06AR9n9"
      },
      "execution_count": 62,
      "outputs": []
    },
    {
      "cell_type": "code",
      "source": [
        "#predictions \n",
        "y_pred_test = rdfreg.predict(xl_test)\n",
        "df = yl_test.copy()"
      ],
      "metadata": {
        "id": "3-HfMpALMhwz"
      },
      "execution_count": 63,
      "outputs": []
    },
    {
      "cell_type": "code",
      "source": [
        "df = pd.DataFrame(df)\n",
        "df"
      ],
      "metadata": {
        "id": "qwKKtR1iJ44k",
        "colab": {
          "base_uri": "https://localhost:8080/",
          "height": 455
        },
        "outputId": "232998db-eea8-4370-877e-73146644d32f"
      },
      "execution_count": 64,
      "outputs": [
        {
          "output_type": "execute_result",
          "data": {
            "text/plain": [
              "                  Sales\n",
              "Date       Store       \n",
              "2014-04-07 393     5261\n",
              "2014-10-08 576     7693\n",
              "2014-09-26 751     2459\n",
              "2013-11-02 795     5237\n",
              "2013-08-09 53      5221\n",
              "...                 ...\n",
              "2013-09-28 564     4786\n",
              "2015-03-09 268     4301\n",
              "2014-11-22 193     4133\n",
              "2013-04-15 59      4449\n",
              "2013-07-19 105     4153\n",
              "\n",
              "[15000 rows x 1 columns]"
            ],
            "text/html": [
              "\n",
              "  <div id=\"df-2b0afb0b-c4de-4a85-a7b6-8674624517d4\">\n",
              "    <div class=\"colab-df-container\">\n",
              "      <div>\n",
              "<style scoped>\n",
              "    .dataframe tbody tr th:only-of-type {\n",
              "        vertical-align: middle;\n",
              "    }\n",
              "\n",
              "    .dataframe tbody tr th {\n",
              "        vertical-align: top;\n",
              "    }\n",
              "\n",
              "    .dataframe thead th {\n",
              "        text-align: right;\n",
              "    }\n",
              "</style>\n",
              "<table border=\"1\" class=\"dataframe\">\n",
              "  <thead>\n",
              "    <tr style=\"text-align: right;\">\n",
              "      <th></th>\n",
              "      <th></th>\n",
              "      <th>Sales</th>\n",
              "    </tr>\n",
              "    <tr>\n",
              "      <th>Date</th>\n",
              "      <th>Store</th>\n",
              "      <th></th>\n",
              "    </tr>\n",
              "  </thead>\n",
              "  <tbody>\n",
              "    <tr>\n",
              "      <th>2014-04-07</th>\n",
              "      <th>393</th>\n",
              "      <td>5261</td>\n",
              "    </tr>\n",
              "    <tr>\n",
              "      <th>2014-10-08</th>\n",
              "      <th>576</th>\n",
              "      <td>7693</td>\n",
              "    </tr>\n",
              "    <tr>\n",
              "      <th>2014-09-26</th>\n",
              "      <th>751</th>\n",
              "      <td>2459</td>\n",
              "    </tr>\n",
              "    <tr>\n",
              "      <th>2013-11-02</th>\n",
              "      <th>795</th>\n",
              "      <td>5237</td>\n",
              "    </tr>\n",
              "    <tr>\n",
              "      <th>2013-08-09</th>\n",
              "      <th>53</th>\n",
              "      <td>5221</td>\n",
              "    </tr>\n",
              "    <tr>\n",
              "      <th>...</th>\n",
              "      <th>...</th>\n",
              "      <td>...</td>\n",
              "    </tr>\n",
              "    <tr>\n",
              "      <th>2013-09-28</th>\n",
              "      <th>564</th>\n",
              "      <td>4786</td>\n",
              "    </tr>\n",
              "    <tr>\n",
              "      <th>2015-03-09</th>\n",
              "      <th>268</th>\n",
              "      <td>4301</td>\n",
              "    </tr>\n",
              "    <tr>\n",
              "      <th>2014-11-22</th>\n",
              "      <th>193</th>\n",
              "      <td>4133</td>\n",
              "    </tr>\n",
              "    <tr>\n",
              "      <th>2013-04-15</th>\n",
              "      <th>59</th>\n",
              "      <td>4449</td>\n",
              "    </tr>\n",
              "    <tr>\n",
              "      <th>2013-07-19</th>\n",
              "      <th>105</th>\n",
              "      <td>4153</td>\n",
              "    </tr>\n",
              "  </tbody>\n",
              "</table>\n",
              "<p>15000 rows × 1 columns</p>\n",
              "</div>\n",
              "      <button class=\"colab-df-convert\" onclick=\"convertToInteractive('df-2b0afb0b-c4de-4a85-a7b6-8674624517d4')\"\n",
              "              title=\"Convert this dataframe to an interactive table.\"\n",
              "              style=\"display:none;\">\n",
              "        \n",
              "  <svg xmlns=\"http://www.w3.org/2000/svg\" height=\"24px\"viewBox=\"0 0 24 24\"\n",
              "       width=\"24px\">\n",
              "    <path d=\"M0 0h24v24H0V0z\" fill=\"none\"/>\n",
              "    <path d=\"M18.56 5.44l.94 2.06.94-2.06 2.06-.94-2.06-.94-.94-2.06-.94 2.06-2.06.94zm-11 1L8.5 8.5l.94-2.06 2.06-.94-2.06-.94L8.5 2.5l-.94 2.06-2.06.94zm10 10l.94 2.06.94-2.06 2.06-.94-2.06-.94-.94-2.06-.94 2.06-2.06.94z\"/><path d=\"M17.41 7.96l-1.37-1.37c-.4-.4-.92-.59-1.43-.59-.52 0-1.04.2-1.43.59L10.3 9.45l-7.72 7.72c-.78.78-.78 2.05 0 2.83L4 21.41c.39.39.9.59 1.41.59.51 0 1.02-.2 1.41-.59l7.78-7.78 2.81-2.81c.8-.78.8-2.07 0-2.86zM5.41 20L4 18.59l7.72-7.72 1.47 1.35L5.41 20z\"/>\n",
              "  </svg>\n",
              "      </button>\n",
              "      \n",
              "  <style>\n",
              "    .colab-df-container {\n",
              "      display:flex;\n",
              "      flex-wrap:wrap;\n",
              "      gap: 12px;\n",
              "    }\n",
              "\n",
              "    .colab-df-convert {\n",
              "      background-color: #E8F0FE;\n",
              "      border: none;\n",
              "      border-radius: 50%;\n",
              "      cursor: pointer;\n",
              "      display: none;\n",
              "      fill: #1967D2;\n",
              "      height: 32px;\n",
              "      padding: 0 0 0 0;\n",
              "      width: 32px;\n",
              "    }\n",
              "\n",
              "    .colab-df-convert:hover {\n",
              "      background-color: #E2EBFA;\n",
              "      box-shadow: 0px 1px 2px rgba(60, 64, 67, 0.3), 0px 1px 3px 1px rgba(60, 64, 67, 0.15);\n",
              "      fill: #174EA6;\n",
              "    }\n",
              "\n",
              "    [theme=dark] .colab-df-convert {\n",
              "      background-color: #3B4455;\n",
              "      fill: #D2E3FC;\n",
              "    }\n",
              "\n",
              "    [theme=dark] .colab-df-convert:hover {\n",
              "      background-color: #434B5C;\n",
              "      box-shadow: 0px 1px 3px 1px rgba(0, 0, 0, 0.15);\n",
              "      filter: drop-shadow(0px 1px 2px rgba(0, 0, 0, 0.3));\n",
              "      fill: #FFFFFF;\n",
              "    }\n",
              "  </style>\n",
              "\n",
              "      <script>\n",
              "        const buttonEl =\n",
              "          document.querySelector('#df-2b0afb0b-c4de-4a85-a7b6-8674624517d4 button.colab-df-convert');\n",
              "        buttonEl.style.display =\n",
              "          google.colab.kernel.accessAllowed ? 'block' : 'none';\n",
              "\n",
              "        async function convertToInteractive(key) {\n",
              "          const element = document.querySelector('#df-2b0afb0b-c4de-4a85-a7b6-8674624517d4');\n",
              "          const dataTable =\n",
              "            await google.colab.kernel.invokeFunction('convertToInteractive',\n",
              "                                                     [key], {});\n",
              "          if (!dataTable) return;\n",
              "\n",
              "          const docLinkHtml = 'Like what you see? Visit the ' +\n",
              "            '<a target=\"_blank\" href=https://colab.research.google.com/notebooks/data_table.ipynb>data table notebook</a>'\n",
              "            + ' to learn more about interactive tables.';\n",
              "          element.innerHTML = '';\n",
              "          dataTable['output_type'] = 'display_data';\n",
              "          await google.colab.output.renderOutput(dataTable, element);\n",
              "          const docLink = document.createElement('div');\n",
              "          docLink.innerHTML = docLinkHtml;\n",
              "          element.appendChild(docLink);\n",
              "        }\n",
              "      </script>\n",
              "    </div>\n",
              "  </div>\n",
              "  "
            ]
          },
          "metadata": {},
          "execution_count": 64
        }
      ]
    },
    {
      "cell_type": "code",
      "source": [
        "df['Pred_Sales'] = y_pred_test.tolist()"
      ],
      "metadata": {
        "id": "VuZ0UfobSa6s"
      },
      "execution_count": 65,
      "outputs": []
    },
    {
      "cell_type": "code",
      "source": [
        "df[:5]"
      ],
      "metadata": {
        "id": "t3Qb-dDZScsI",
        "colab": {
          "base_uri": "https://localhost:8080/",
          "height": 238
        },
        "outputId": "05d40f8d-82b7-43c7-ff21-9853a8be8833"
      },
      "execution_count": 68,
      "outputs": [
        {
          "output_type": "execute_result",
          "data": {
            "text/plain": [
              "                  Sales   Pred_Sales\n",
              "Date       Store                    \n",
              "2014-04-07 393     5261  4850.222289\n",
              "2014-10-08 576     7693  7176.519542\n",
              "2014-09-26 751     2459  3630.785275\n",
              "2013-11-02 795     5237  3939.086832\n",
              "2013-08-09 53      5221  5694.407363"
            ],
            "text/html": [
              "\n",
              "  <div id=\"df-dbb436ad-a85b-4af4-97bd-8d1b6292c5cf\">\n",
              "    <div class=\"colab-df-container\">\n",
              "      <div>\n",
              "<style scoped>\n",
              "    .dataframe tbody tr th:only-of-type {\n",
              "        vertical-align: middle;\n",
              "    }\n",
              "\n",
              "    .dataframe tbody tr th {\n",
              "        vertical-align: top;\n",
              "    }\n",
              "\n",
              "    .dataframe thead th {\n",
              "        text-align: right;\n",
              "    }\n",
              "</style>\n",
              "<table border=\"1\" class=\"dataframe\">\n",
              "  <thead>\n",
              "    <tr style=\"text-align: right;\">\n",
              "      <th></th>\n",
              "      <th></th>\n",
              "      <th>Sales</th>\n",
              "      <th>Pred_Sales</th>\n",
              "    </tr>\n",
              "    <tr>\n",
              "      <th>Date</th>\n",
              "      <th>Store</th>\n",
              "      <th></th>\n",
              "      <th></th>\n",
              "    </tr>\n",
              "  </thead>\n",
              "  <tbody>\n",
              "    <tr>\n",
              "      <th>2014-04-07</th>\n",
              "      <th>393</th>\n",
              "      <td>5261</td>\n",
              "      <td>4850.222289</td>\n",
              "    </tr>\n",
              "    <tr>\n",
              "      <th>2014-10-08</th>\n",
              "      <th>576</th>\n",
              "      <td>7693</td>\n",
              "      <td>7176.519542</td>\n",
              "    </tr>\n",
              "    <tr>\n",
              "      <th>2014-09-26</th>\n",
              "      <th>751</th>\n",
              "      <td>2459</td>\n",
              "      <td>3630.785275</td>\n",
              "    </tr>\n",
              "    <tr>\n",
              "      <th>2013-11-02</th>\n",
              "      <th>795</th>\n",
              "      <td>5237</td>\n",
              "      <td>3939.086832</td>\n",
              "    </tr>\n",
              "    <tr>\n",
              "      <th>2013-08-09</th>\n",
              "      <th>53</th>\n",
              "      <td>5221</td>\n",
              "      <td>5694.407363</td>\n",
              "    </tr>\n",
              "  </tbody>\n",
              "</table>\n",
              "</div>\n",
              "      <button class=\"colab-df-convert\" onclick=\"convertToInteractive('df-dbb436ad-a85b-4af4-97bd-8d1b6292c5cf')\"\n",
              "              title=\"Convert this dataframe to an interactive table.\"\n",
              "              style=\"display:none;\">\n",
              "        \n",
              "  <svg xmlns=\"http://www.w3.org/2000/svg\" height=\"24px\"viewBox=\"0 0 24 24\"\n",
              "       width=\"24px\">\n",
              "    <path d=\"M0 0h24v24H0V0z\" fill=\"none\"/>\n",
              "    <path d=\"M18.56 5.44l.94 2.06.94-2.06 2.06-.94-2.06-.94-.94-2.06-.94 2.06-2.06.94zm-11 1L8.5 8.5l.94-2.06 2.06-.94-2.06-.94L8.5 2.5l-.94 2.06-2.06.94zm10 10l.94 2.06.94-2.06 2.06-.94-2.06-.94-.94-2.06-.94 2.06-2.06.94z\"/><path d=\"M17.41 7.96l-1.37-1.37c-.4-.4-.92-.59-1.43-.59-.52 0-1.04.2-1.43.59L10.3 9.45l-7.72 7.72c-.78.78-.78 2.05 0 2.83L4 21.41c.39.39.9.59 1.41.59.51 0 1.02-.2 1.41-.59l7.78-7.78 2.81-2.81c.8-.78.8-2.07 0-2.86zM5.41 20L4 18.59l7.72-7.72 1.47 1.35L5.41 20z\"/>\n",
              "  </svg>\n",
              "      </button>\n",
              "      \n",
              "  <style>\n",
              "    .colab-df-container {\n",
              "      display:flex;\n",
              "      flex-wrap:wrap;\n",
              "      gap: 12px;\n",
              "    }\n",
              "\n",
              "    .colab-df-convert {\n",
              "      background-color: #E8F0FE;\n",
              "      border: none;\n",
              "      border-radius: 50%;\n",
              "      cursor: pointer;\n",
              "      display: none;\n",
              "      fill: #1967D2;\n",
              "      height: 32px;\n",
              "      padding: 0 0 0 0;\n",
              "      width: 32px;\n",
              "    }\n",
              "\n",
              "    .colab-df-convert:hover {\n",
              "      background-color: #E2EBFA;\n",
              "      box-shadow: 0px 1px 2px rgba(60, 64, 67, 0.3), 0px 1px 3px 1px rgba(60, 64, 67, 0.15);\n",
              "      fill: #174EA6;\n",
              "    }\n",
              "\n",
              "    [theme=dark] .colab-df-convert {\n",
              "      background-color: #3B4455;\n",
              "      fill: #D2E3FC;\n",
              "    }\n",
              "\n",
              "    [theme=dark] .colab-df-convert:hover {\n",
              "      background-color: #434B5C;\n",
              "      box-shadow: 0px 1px 3px 1px rgba(0, 0, 0, 0.15);\n",
              "      filter: drop-shadow(0px 1px 2px rgba(0, 0, 0, 0.3));\n",
              "      fill: #FFFFFF;\n",
              "    }\n",
              "  </style>\n",
              "\n",
              "      <script>\n",
              "        const buttonEl =\n",
              "          document.querySelector('#df-dbb436ad-a85b-4af4-97bd-8d1b6292c5cf button.colab-df-convert');\n",
              "        buttonEl.style.display =\n",
              "          google.colab.kernel.accessAllowed ? 'block' : 'none';\n",
              "\n",
              "        async function convertToInteractive(key) {\n",
              "          const element = document.querySelector('#df-dbb436ad-a85b-4af4-97bd-8d1b6292c5cf');\n",
              "          const dataTable =\n",
              "            await google.colab.kernel.invokeFunction('convertToInteractive',\n",
              "                                                     [key], {});\n",
              "          if (!dataTable) return;\n",
              "\n",
              "          const docLinkHtml = 'Like what you see? Visit the ' +\n",
              "            '<a target=\"_blank\" href=https://colab.research.google.com/notebooks/data_table.ipynb>data table notebook</a>'\n",
              "            + ' to learn more about interactive tables.';\n",
              "          element.innerHTML = '';\n",
              "          dataTable['output_type'] = 'display_data';\n",
              "          await google.colab.output.renderOutput(dataTable, element);\n",
              "          const docLink = document.createElement('div');\n",
              "          docLink.innerHTML = docLinkHtml;\n",
              "          element.appendChild(docLink);\n",
              "        }\n",
              "      </script>\n",
              "    </div>\n",
              "  </div>\n",
              "  "
            ]
          },
          "metadata": {},
          "execution_count": 68
        }
      ]
    },
    {
      "cell_type": "code",
      "source": [
        "#locating\n",
        "df.loc[('2013-01-31',231)]"
      ],
      "metadata": {
        "colab": {
          "base_uri": "https://localhost:8080/",
          "height": 112
        },
        "id": "aqIut_ByhuS3",
        "outputId": "7e7acc6e-e550-4023-e1bc-531b222ac09d"
      },
      "execution_count": 69,
      "outputs": [
        {
          "output_type": "execute_result",
          "data": {
            "text/plain": [
              "                  Sales   Pred_Sales\n",
              "Date       Store                    \n",
              "2013-01-31 231     4411  4669.853388"
            ],
            "text/html": [
              "\n",
              "  <div id=\"df-fb7d069c-1071-4ff2-bee0-46862e58e47d\">\n",
              "    <div class=\"colab-df-container\">\n",
              "      <div>\n",
              "<style scoped>\n",
              "    .dataframe tbody tr th:only-of-type {\n",
              "        vertical-align: middle;\n",
              "    }\n",
              "\n",
              "    .dataframe tbody tr th {\n",
              "        vertical-align: top;\n",
              "    }\n",
              "\n",
              "    .dataframe thead th {\n",
              "        text-align: right;\n",
              "    }\n",
              "</style>\n",
              "<table border=\"1\" class=\"dataframe\">\n",
              "  <thead>\n",
              "    <tr style=\"text-align: right;\">\n",
              "      <th></th>\n",
              "      <th></th>\n",
              "      <th>Sales</th>\n",
              "      <th>Pred_Sales</th>\n",
              "    </tr>\n",
              "    <tr>\n",
              "      <th>Date</th>\n",
              "      <th>Store</th>\n",
              "      <th></th>\n",
              "      <th></th>\n",
              "    </tr>\n",
              "  </thead>\n",
              "  <tbody>\n",
              "    <tr>\n",
              "      <th>2013-01-31</th>\n",
              "      <th>231</th>\n",
              "      <td>4411</td>\n",
              "      <td>4669.853388</td>\n",
              "    </tr>\n",
              "  </tbody>\n",
              "</table>\n",
              "</div>\n",
              "      <button class=\"colab-df-convert\" onclick=\"convertToInteractive('df-fb7d069c-1071-4ff2-bee0-46862e58e47d')\"\n",
              "              title=\"Convert this dataframe to an interactive table.\"\n",
              "              style=\"display:none;\">\n",
              "        \n",
              "  <svg xmlns=\"http://www.w3.org/2000/svg\" height=\"24px\"viewBox=\"0 0 24 24\"\n",
              "       width=\"24px\">\n",
              "    <path d=\"M0 0h24v24H0V0z\" fill=\"none\"/>\n",
              "    <path d=\"M18.56 5.44l.94 2.06.94-2.06 2.06-.94-2.06-.94-.94-2.06-.94 2.06-2.06.94zm-11 1L8.5 8.5l.94-2.06 2.06-.94-2.06-.94L8.5 2.5l-.94 2.06-2.06.94zm10 10l.94 2.06.94-2.06 2.06-.94-2.06-.94-.94-2.06-.94 2.06-2.06.94z\"/><path d=\"M17.41 7.96l-1.37-1.37c-.4-.4-.92-.59-1.43-.59-.52 0-1.04.2-1.43.59L10.3 9.45l-7.72 7.72c-.78.78-.78 2.05 0 2.83L4 21.41c.39.39.9.59 1.41.59.51 0 1.02-.2 1.41-.59l7.78-7.78 2.81-2.81c.8-.78.8-2.07 0-2.86zM5.41 20L4 18.59l7.72-7.72 1.47 1.35L5.41 20z\"/>\n",
              "  </svg>\n",
              "      </button>\n",
              "      \n",
              "  <style>\n",
              "    .colab-df-container {\n",
              "      display:flex;\n",
              "      flex-wrap:wrap;\n",
              "      gap: 12px;\n",
              "    }\n",
              "\n",
              "    .colab-df-convert {\n",
              "      background-color: #E8F0FE;\n",
              "      border: none;\n",
              "      border-radius: 50%;\n",
              "      cursor: pointer;\n",
              "      display: none;\n",
              "      fill: #1967D2;\n",
              "      height: 32px;\n",
              "      padding: 0 0 0 0;\n",
              "      width: 32px;\n",
              "    }\n",
              "\n",
              "    .colab-df-convert:hover {\n",
              "      background-color: #E2EBFA;\n",
              "      box-shadow: 0px 1px 2px rgba(60, 64, 67, 0.3), 0px 1px 3px 1px rgba(60, 64, 67, 0.15);\n",
              "      fill: #174EA6;\n",
              "    }\n",
              "\n",
              "    [theme=dark] .colab-df-convert {\n",
              "      background-color: #3B4455;\n",
              "      fill: #D2E3FC;\n",
              "    }\n",
              "\n",
              "    [theme=dark] .colab-df-convert:hover {\n",
              "      background-color: #434B5C;\n",
              "      box-shadow: 0px 1px 3px 1px rgba(0, 0, 0, 0.15);\n",
              "      filter: drop-shadow(0px 1px 2px rgba(0, 0, 0, 0.3));\n",
              "      fill: #FFFFFF;\n",
              "    }\n",
              "  </style>\n",
              "\n",
              "      <script>\n",
              "        const buttonEl =\n",
              "          document.querySelector('#df-fb7d069c-1071-4ff2-bee0-46862e58e47d button.colab-df-convert');\n",
              "        buttonEl.style.display =\n",
              "          google.colab.kernel.accessAllowed ? 'block' : 'none';\n",
              "\n",
              "        async function convertToInteractive(key) {\n",
              "          const element = document.querySelector('#df-fb7d069c-1071-4ff2-bee0-46862e58e47d');\n",
              "          const dataTable =\n",
              "            await google.colab.kernel.invokeFunction('convertToInteractive',\n",
              "                                                     [key], {});\n",
              "          if (!dataTable) return;\n",
              "\n",
              "          const docLinkHtml = 'Like what you see? Visit the ' +\n",
              "            '<a target=\"_blank\" href=https://colab.research.google.com/notebooks/data_table.ipynb>data table notebook</a>'\n",
              "            + ' to learn more about interactive tables.';\n",
              "          element.innerHTML = '';\n",
              "          dataTable['output_type'] = 'display_data';\n",
              "          await google.colab.output.renderOutput(dataTable, element);\n",
              "          const docLink = document.createElement('div');\n",
              "          docLink.innerHTML = docLinkHtml;\n",
              "          element.appendChild(docLink);\n",
              "        }\n",
              "      </script>\n",
              "    </div>\n",
              "  </div>\n",
              "  "
            ]
          },
          "metadata": {},
          "execution_count": 69
        }
      ]
    },
    {
      "cell_type": "markdown",
      "source": [
        "# **9. Conclusion and Recommendations**\n",
        "\n",
        "## **Conclusion**\n",
        "\n",
        "Businesses use sales forecasts to determine what revenue they will be generating in a particular timespan to empower themselves with powerful and strategic business plans. Important decisions such as budgets, hiring, incentives, goals, acquisitions and various other growth plans are affected by the revenue the company is going to make in the coming months and for these plans to be as effective as they are planned to be it is important for these forecasts to also be as good.\n",
        "\n",
        "he work here forecasts the sales of the various Rossmann stores across Europe  and compares the results from the models developed with the actual sales values.\n",
        "\n",
        "Some important conclusions drawn from the analysis are as follows:\n",
        "* There were more sales on Monday, probably because shops generally remain closed on Sundays which had the lowest sales in a week. This validates the hypothesis about this feature.\n",
        "* **The positive effect of promotion on Customers and Sales is observable**.\n",
        "* Most stores have competition distance within the range of **0 to 10 kms** and had more sales than stores far away probably indicating competition in busy locations vs remote locations.\n",
        "* **Store type B** though being few in number had the **highest sales average**. The reasons include all three kinds of assortments specially assortment level b which is only available at type b stores and being open on sundays as well.\n",
        "* The outliers in the dataset showed justifiable behaviour. The outliers were either of store type b or had promotion going on which increased sales.\n",
        "* **Random Forest Tuned Model gave the best results** and only **1.815 %** improvement was seen from the basic random forest model which indicates that all the trends and patterns that could be captured by these models without overfitting were done and maximum level of performance achievable by the model was achieved.\n",
        "\n",
        "**Recommendations**\n",
        "* More stores should be encouraged for promotion. \n",
        "* Store type B should be increased in number.\n",
        "* There's a seasonality involved, hence the stores should be encouraged to promote and take advantage of the holidays."
      ],
      "metadata": {
        "id": "vv-PAQuuh3PO"
      }
    },
    {
      "cell_type": "code",
      "source": [
        ""
      ],
      "metadata": {
        "id": "NMJuRTPYw4er"
      },
      "execution_count": null,
      "outputs": []
    }
  ]
}
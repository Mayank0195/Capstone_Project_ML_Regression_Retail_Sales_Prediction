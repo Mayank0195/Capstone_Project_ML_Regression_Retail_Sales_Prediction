{
  "nbformat": 4,
  "nbformat_minor": 0,
  "metadata": {
    "colab": {
      "name": "Retail_Sales_Prediction part-2.ipynb",
      "provenance": [],
      "collapsed_sections": [],
      "authorship_tag": "ABX9TyODdyeAdQJSk3jHemlq4f6G",
      "include_colab_link": true
    },
    "kernelspec": {
      "name": "python3",
      "display_name": "Python 3"
    },
    "language_info": {
      "name": "python"
    }
  },
  "cells": [
    {
      "cell_type": "markdown",
      "metadata": {
        "id": "view-in-github",
        "colab_type": "text"
      },
      "source": [
        "<a href=\"https://colab.research.google.com/github/Mayank0195/Capstone_Project_ML_Regression_Retail_Sales_Prediction/blob/main/Retail_Sales_Prediction_part_2.ipynb\" target=\"_parent\"><img src=\"https://colab.research.google.com/assets/colab-badge.svg\" alt=\"Open In Colab\"/></a>"
      ]
    },
    {
      "cell_type": "code",
      "source": [
        "import numpy as np\n",
        "import pandas as pd\n",
        "import matplotlib.pyplot as plt\n",
        "%matplotlib inline\n",
        "import seaborn as sns\n",
        "sns.set_style(\"whitegrid\")\n",
        "import sklearn\n",
        "import warnings\n",
        "warnings.filterwarnings(\"ignore\")"
      ],
      "metadata": {
        "id": "pqhBxIhrkB3U"
      },
      "execution_count": 1,
      "outputs": []
    },
    {
      "cell_type": "code",
      "execution_count": 2,
      "metadata": {
        "colab": {
          "base_uri": "https://localhost:8080/"
        },
        "id": "ZciSus9cjkM0",
        "outputId": "f441048c-e904-4989-cd6c-93ed0df0459b"
      },
      "outputs": [
        {
          "output_type": "stream",
          "name": "stdout",
          "text": [
            "Drive already mounted at /content/drive; to attempt to forcibly remount, call drive.mount(\"/content/drive\", force_remount=True).\n"
          ]
        }
      ],
      "source": [
        "# importing drive on the colab notebook for the easy access of the data provided \n",
        "from google.colab import drive\n",
        "drive.mount('/content/drive')"
      ]
    },
    {
      "cell_type": "code",
      "source": [
        "#importing the pathway for the Rossmann Stores Data.csv\n",
        "df1 = pd.read_csv('/content/drive/MyDrive/AlmaBetter/Capstone_Project_ML_Regression/results.csv')\n",
        "df1.head()"
      ],
      "metadata": {
        "colab": {
          "base_uri": "https://localhost:8080/",
          "height": 386
        },
        "id": "GJ08UL_XjqSF",
        "outputId": "2f326943-96da-4d1f-8964-a000c38f0e5c"
      },
      "execution_count": 3,
      "outputs": [
        {
          "output_type": "execute_result",
          "data": {
            "text/plain": [
              "         Date  Store  DayOfWeek  Promo  StateHoliday  SchoolHoliday StoreType  \\\n",
              "0  2013-01-01    274          2      0           1.0              1         b   \n",
              "1  2013-01-01    274          2      0           1.0              1         b   \n",
              "2  2013-01-01    274          2      0           1.0              1         b   \n",
              "3  2013-01-01    274          2      0           1.0              1         b   \n",
              "4  2013-01-01    335          2      0           1.0              1         b   \n",
              "\n",
              "  Assortment  CompetitionDistance  Promo2  ...  WeekOfYear  DayOfYear  \\\n",
              "0          b               3640.0       1  ...           1          1   \n",
              "1          b               3640.0       1  ...           1          1   \n",
              "2          b               3640.0       1  ...           1          1   \n",
              "3          b               3640.0       1  ...           1          1   \n",
              "4          a                 90.0       1  ...           1          1   \n",
              "\n",
              "   sales_key      AvgSales  cust_key  AvgCustomer  CompetitionOpen  \\\n",
              "0   20131274   2380.483871  20131274   660.709677              0.0   \n",
              "1   20131274   2380.483871  20131274   834.000000              0.0   \n",
              "2   20131274   6567.064516  20131274   660.709677              0.0   \n",
              "3   20131274   6567.064516  20131274   834.000000              0.0   \n",
              "4   20131335  12224.645161  20131335  2367.225806              0.0   \n",
              "\n",
              "   Promo2Open  Promo2running     Sales  \n",
              "0         0.0              1  8.039802  \n",
              "1         0.0              1  8.039802  \n",
              "2         0.0              1  8.039802  \n",
              "3         0.0              1  8.039802  \n",
              "4         0.0              1  7.783641  \n",
              "\n",
              "[5 rows x 22 columns]"
            ],
            "text/html": [
              "\n",
              "  <div id=\"df-0770c8ea-8783-4947-90d5-791914d972de\">\n",
              "    <div class=\"colab-df-container\">\n",
              "      <div>\n",
              "<style scoped>\n",
              "    .dataframe tbody tr th:only-of-type {\n",
              "        vertical-align: middle;\n",
              "    }\n",
              "\n",
              "    .dataframe tbody tr th {\n",
              "        vertical-align: top;\n",
              "    }\n",
              "\n",
              "    .dataframe thead th {\n",
              "        text-align: right;\n",
              "    }\n",
              "</style>\n",
              "<table border=\"1\" class=\"dataframe\">\n",
              "  <thead>\n",
              "    <tr style=\"text-align: right;\">\n",
              "      <th></th>\n",
              "      <th>Date</th>\n",
              "      <th>Store</th>\n",
              "      <th>DayOfWeek</th>\n",
              "      <th>Promo</th>\n",
              "      <th>StateHoliday</th>\n",
              "      <th>SchoolHoliday</th>\n",
              "      <th>StoreType</th>\n",
              "      <th>Assortment</th>\n",
              "      <th>CompetitionDistance</th>\n",
              "      <th>Promo2</th>\n",
              "      <th>...</th>\n",
              "      <th>WeekOfYear</th>\n",
              "      <th>DayOfYear</th>\n",
              "      <th>sales_key</th>\n",
              "      <th>AvgSales</th>\n",
              "      <th>cust_key</th>\n",
              "      <th>AvgCustomer</th>\n",
              "      <th>CompetitionOpen</th>\n",
              "      <th>Promo2Open</th>\n",
              "      <th>Promo2running</th>\n",
              "      <th>Sales</th>\n",
              "    </tr>\n",
              "  </thead>\n",
              "  <tbody>\n",
              "    <tr>\n",
              "      <th>0</th>\n",
              "      <td>2013-01-01</td>\n",
              "      <td>274</td>\n",
              "      <td>2</td>\n",
              "      <td>0</td>\n",
              "      <td>1.0</td>\n",
              "      <td>1</td>\n",
              "      <td>b</td>\n",
              "      <td>b</td>\n",
              "      <td>3640.0</td>\n",
              "      <td>1</td>\n",
              "      <td>...</td>\n",
              "      <td>1</td>\n",
              "      <td>1</td>\n",
              "      <td>20131274</td>\n",
              "      <td>2380.483871</td>\n",
              "      <td>20131274</td>\n",
              "      <td>660.709677</td>\n",
              "      <td>0.0</td>\n",
              "      <td>0.0</td>\n",
              "      <td>1</td>\n",
              "      <td>8.039802</td>\n",
              "    </tr>\n",
              "    <tr>\n",
              "      <th>1</th>\n",
              "      <td>2013-01-01</td>\n",
              "      <td>274</td>\n",
              "      <td>2</td>\n",
              "      <td>0</td>\n",
              "      <td>1.0</td>\n",
              "      <td>1</td>\n",
              "      <td>b</td>\n",
              "      <td>b</td>\n",
              "      <td>3640.0</td>\n",
              "      <td>1</td>\n",
              "      <td>...</td>\n",
              "      <td>1</td>\n",
              "      <td>1</td>\n",
              "      <td>20131274</td>\n",
              "      <td>2380.483871</td>\n",
              "      <td>20131274</td>\n",
              "      <td>834.000000</td>\n",
              "      <td>0.0</td>\n",
              "      <td>0.0</td>\n",
              "      <td>1</td>\n",
              "      <td>8.039802</td>\n",
              "    </tr>\n",
              "    <tr>\n",
              "      <th>2</th>\n",
              "      <td>2013-01-01</td>\n",
              "      <td>274</td>\n",
              "      <td>2</td>\n",
              "      <td>0</td>\n",
              "      <td>1.0</td>\n",
              "      <td>1</td>\n",
              "      <td>b</td>\n",
              "      <td>b</td>\n",
              "      <td>3640.0</td>\n",
              "      <td>1</td>\n",
              "      <td>...</td>\n",
              "      <td>1</td>\n",
              "      <td>1</td>\n",
              "      <td>20131274</td>\n",
              "      <td>6567.064516</td>\n",
              "      <td>20131274</td>\n",
              "      <td>660.709677</td>\n",
              "      <td>0.0</td>\n",
              "      <td>0.0</td>\n",
              "      <td>1</td>\n",
              "      <td>8.039802</td>\n",
              "    </tr>\n",
              "    <tr>\n",
              "      <th>3</th>\n",
              "      <td>2013-01-01</td>\n",
              "      <td>274</td>\n",
              "      <td>2</td>\n",
              "      <td>0</td>\n",
              "      <td>1.0</td>\n",
              "      <td>1</td>\n",
              "      <td>b</td>\n",
              "      <td>b</td>\n",
              "      <td>3640.0</td>\n",
              "      <td>1</td>\n",
              "      <td>...</td>\n",
              "      <td>1</td>\n",
              "      <td>1</td>\n",
              "      <td>20131274</td>\n",
              "      <td>6567.064516</td>\n",
              "      <td>20131274</td>\n",
              "      <td>834.000000</td>\n",
              "      <td>0.0</td>\n",
              "      <td>0.0</td>\n",
              "      <td>1</td>\n",
              "      <td>8.039802</td>\n",
              "    </tr>\n",
              "    <tr>\n",
              "      <th>4</th>\n",
              "      <td>2013-01-01</td>\n",
              "      <td>335</td>\n",
              "      <td>2</td>\n",
              "      <td>0</td>\n",
              "      <td>1.0</td>\n",
              "      <td>1</td>\n",
              "      <td>b</td>\n",
              "      <td>a</td>\n",
              "      <td>90.0</td>\n",
              "      <td>1</td>\n",
              "      <td>...</td>\n",
              "      <td>1</td>\n",
              "      <td>1</td>\n",
              "      <td>20131335</td>\n",
              "      <td>12224.645161</td>\n",
              "      <td>20131335</td>\n",
              "      <td>2367.225806</td>\n",
              "      <td>0.0</td>\n",
              "      <td>0.0</td>\n",
              "      <td>1</td>\n",
              "      <td>7.783641</td>\n",
              "    </tr>\n",
              "  </tbody>\n",
              "</table>\n",
              "<p>5 rows × 22 columns</p>\n",
              "</div>\n",
              "      <button class=\"colab-df-convert\" onclick=\"convertToInteractive('df-0770c8ea-8783-4947-90d5-791914d972de')\"\n",
              "              title=\"Convert this dataframe to an interactive table.\"\n",
              "              style=\"display:none;\">\n",
              "        \n",
              "  <svg xmlns=\"http://www.w3.org/2000/svg\" height=\"24px\"viewBox=\"0 0 24 24\"\n",
              "       width=\"24px\">\n",
              "    <path d=\"M0 0h24v24H0V0z\" fill=\"none\"/>\n",
              "    <path d=\"M18.56 5.44l.94 2.06.94-2.06 2.06-.94-2.06-.94-.94-2.06-.94 2.06-2.06.94zm-11 1L8.5 8.5l.94-2.06 2.06-.94-2.06-.94L8.5 2.5l-.94 2.06-2.06.94zm10 10l.94 2.06.94-2.06 2.06-.94-2.06-.94-.94-2.06-.94 2.06-2.06.94z\"/><path d=\"M17.41 7.96l-1.37-1.37c-.4-.4-.92-.59-1.43-.59-.52 0-1.04.2-1.43.59L10.3 9.45l-7.72 7.72c-.78.78-.78 2.05 0 2.83L4 21.41c.39.39.9.59 1.41.59.51 0 1.02-.2 1.41-.59l7.78-7.78 2.81-2.81c.8-.78.8-2.07 0-2.86zM5.41 20L4 18.59l7.72-7.72 1.47 1.35L5.41 20z\"/>\n",
              "  </svg>\n",
              "      </button>\n",
              "      \n",
              "  <style>\n",
              "    .colab-df-container {\n",
              "      display:flex;\n",
              "      flex-wrap:wrap;\n",
              "      gap: 12px;\n",
              "    }\n",
              "\n",
              "    .colab-df-convert {\n",
              "      background-color: #E8F0FE;\n",
              "      border: none;\n",
              "      border-radius: 50%;\n",
              "      cursor: pointer;\n",
              "      display: none;\n",
              "      fill: #1967D2;\n",
              "      height: 32px;\n",
              "      padding: 0 0 0 0;\n",
              "      width: 32px;\n",
              "    }\n",
              "\n",
              "    .colab-df-convert:hover {\n",
              "      background-color: #E2EBFA;\n",
              "      box-shadow: 0px 1px 2px rgba(60, 64, 67, 0.3), 0px 1px 3px 1px rgba(60, 64, 67, 0.15);\n",
              "      fill: #174EA6;\n",
              "    }\n",
              "\n",
              "    [theme=dark] .colab-df-convert {\n",
              "      background-color: #3B4455;\n",
              "      fill: #D2E3FC;\n",
              "    }\n",
              "\n",
              "    [theme=dark] .colab-df-convert:hover {\n",
              "      background-color: #434B5C;\n",
              "      box-shadow: 0px 1px 3px 1px rgba(0, 0, 0, 0.15);\n",
              "      filter: drop-shadow(0px 1px 2px rgba(0, 0, 0, 0.3));\n",
              "      fill: #FFFFFF;\n",
              "    }\n",
              "  </style>\n",
              "\n",
              "      <script>\n",
              "        const buttonEl =\n",
              "          document.querySelector('#df-0770c8ea-8783-4947-90d5-791914d972de button.colab-df-convert');\n",
              "        buttonEl.style.display =\n",
              "          google.colab.kernel.accessAllowed ? 'block' : 'none';\n",
              "\n",
              "        async function convertToInteractive(key) {\n",
              "          const element = document.querySelector('#df-0770c8ea-8783-4947-90d5-791914d972de');\n",
              "          const dataTable =\n",
              "            await google.colab.kernel.invokeFunction('convertToInteractive',\n",
              "                                                     [key], {});\n",
              "          if (!dataTable) return;\n",
              "\n",
              "          const docLinkHtml = 'Like what you see? Visit the ' +\n",
              "            '<a target=\"_blank\" href=https://colab.research.google.com/notebooks/data_table.ipynb>data table notebook</a>'\n",
              "            + ' to learn more about interactive tables.';\n",
              "          element.innerHTML = '';\n",
              "          dataTable['output_type'] = 'display_data';\n",
              "          await google.colab.output.renderOutput(dataTable, element);\n",
              "          const docLink = document.createElement('div');\n",
              "          docLink.innerHTML = docLinkHtml;\n",
              "          element.appendChild(docLink);\n",
              "        }\n",
              "      </script>\n",
              "    </div>\n",
              "  </div>\n",
              "  "
            ]
          },
          "metadata": {},
          "execution_count": 3
        }
      ]
    },
    {
      "cell_type": "code",
      "source": [
        "df2 = df1.copy()"
      ],
      "metadata": {
        "id": "_L5T1jp8AG0k"
      },
      "execution_count": 4,
      "outputs": []
    },
    {
      "cell_type": "code",
      "source": [
        "df1.info()"
      ],
      "metadata": {
        "colab": {
          "base_uri": "https://localhost:8080/"
        },
        "id": "9R_xGr5gvX33",
        "outputId": "e2e2e03a-f205-4797-8d09-2ee52f812eea"
      },
      "execution_count": 5,
      "outputs": [
        {
          "output_type": "stream",
          "name": "stdout",
          "text": [
            "<class 'pandas.core.frame.DataFrame'>\n",
            "RangeIndex: 395215 entries, 0 to 395214\n",
            "Data columns (total 22 columns):\n",
            " #   Column               Non-Null Count   Dtype  \n",
            "---  ------               --------------   -----  \n",
            " 0   Date                 395215 non-null  object \n",
            " 1   Store                395215 non-null  int64  \n",
            " 2   DayOfWeek            395215 non-null  int64  \n",
            " 3   Promo                395215 non-null  int64  \n",
            " 4   StateHoliday         395215 non-null  float64\n",
            " 5   SchoolHoliday        395215 non-null  int64  \n",
            " 6   StoreType            395215 non-null  object \n",
            " 7   Assortment           395215 non-null  object \n",
            " 8   CompetitionDistance  395215 non-null  float64\n",
            " 9   Promo2               395215 non-null  int64  \n",
            " 10  Year                 395215 non-null  int64  \n",
            " 11  Month                395215 non-null  int64  \n",
            " 12  WeekOfYear           395215 non-null  int64  \n",
            " 13  DayOfYear            395215 non-null  int64  \n",
            " 14  sales_key            395215 non-null  int64  \n",
            " 15  AvgSales             395215 non-null  float64\n",
            " 16  cust_key             395215 non-null  int64  \n",
            " 17  AvgCustomer          395215 non-null  float64\n",
            " 18  CompetitionOpen      395215 non-null  float64\n",
            " 19  Promo2Open           395215 non-null  float64\n",
            " 20  Promo2running        395215 non-null  int64  \n",
            " 21  Sales                395215 non-null  float64\n",
            "dtypes: float64(7), int64(12), object(3)\n",
            "memory usage: 66.3+ MB\n"
          ]
        }
      ]
    },
    {
      "cell_type": "code",
      "source": [
        "df2 = df2.drop(['Date'], axis = 1)"
      ],
      "metadata": {
        "id": "CB3j3Z3GxL5p"
      },
      "execution_count": 6,
      "outputs": []
    },
    {
      "cell_type": "code",
      "source": [
        "df2.head()"
      ],
      "metadata": {
        "colab": {
          "base_uri": "https://localhost:8080/",
          "height": 300
        },
        "id": "9vhvy7yTBCMF",
        "outputId": "8492705c-a55e-4767-f239-c7fcb99438fe"
      },
      "execution_count": 7,
      "outputs": [
        {
          "output_type": "execute_result",
          "data": {
            "text/plain": [
              "   Store  DayOfWeek  Promo  StateHoliday  SchoolHoliday StoreType Assortment  \\\n",
              "0    274          2      0           1.0              1         b          b   \n",
              "1    274          2      0           1.0              1         b          b   \n",
              "2    274          2      0           1.0              1         b          b   \n",
              "3    274          2      0           1.0              1         b          b   \n",
              "4    335          2      0           1.0              1         b          a   \n",
              "\n",
              "   CompetitionDistance  Promo2  Year  ...  WeekOfYear  DayOfYear  sales_key  \\\n",
              "0               3640.0       1  2013  ...           1          1   20131274   \n",
              "1               3640.0       1  2013  ...           1          1   20131274   \n",
              "2               3640.0       1  2013  ...           1          1   20131274   \n",
              "3               3640.0       1  2013  ...           1          1   20131274   \n",
              "4                 90.0       1  2013  ...           1          1   20131335   \n",
              "\n",
              "       AvgSales  cust_key  AvgCustomer  CompetitionOpen  Promo2Open  \\\n",
              "0   2380.483871  20131274   660.709677              0.0         0.0   \n",
              "1   2380.483871  20131274   834.000000              0.0         0.0   \n",
              "2   6567.064516  20131274   660.709677              0.0         0.0   \n",
              "3   6567.064516  20131274   834.000000              0.0         0.0   \n",
              "4  12224.645161  20131335  2367.225806              0.0         0.0   \n",
              "\n",
              "   Promo2running     Sales  \n",
              "0              1  8.039802  \n",
              "1              1  8.039802  \n",
              "2              1  8.039802  \n",
              "3              1  8.039802  \n",
              "4              1  7.783641  \n",
              "\n",
              "[5 rows x 21 columns]"
            ],
            "text/html": [
              "\n",
              "  <div id=\"df-85e9b2a2-d73e-40cc-8959-8a11384e1acc\">\n",
              "    <div class=\"colab-df-container\">\n",
              "      <div>\n",
              "<style scoped>\n",
              "    .dataframe tbody tr th:only-of-type {\n",
              "        vertical-align: middle;\n",
              "    }\n",
              "\n",
              "    .dataframe tbody tr th {\n",
              "        vertical-align: top;\n",
              "    }\n",
              "\n",
              "    .dataframe thead th {\n",
              "        text-align: right;\n",
              "    }\n",
              "</style>\n",
              "<table border=\"1\" class=\"dataframe\">\n",
              "  <thead>\n",
              "    <tr style=\"text-align: right;\">\n",
              "      <th></th>\n",
              "      <th>Store</th>\n",
              "      <th>DayOfWeek</th>\n",
              "      <th>Promo</th>\n",
              "      <th>StateHoliday</th>\n",
              "      <th>SchoolHoliday</th>\n",
              "      <th>StoreType</th>\n",
              "      <th>Assortment</th>\n",
              "      <th>CompetitionDistance</th>\n",
              "      <th>Promo2</th>\n",
              "      <th>Year</th>\n",
              "      <th>...</th>\n",
              "      <th>WeekOfYear</th>\n",
              "      <th>DayOfYear</th>\n",
              "      <th>sales_key</th>\n",
              "      <th>AvgSales</th>\n",
              "      <th>cust_key</th>\n",
              "      <th>AvgCustomer</th>\n",
              "      <th>CompetitionOpen</th>\n",
              "      <th>Promo2Open</th>\n",
              "      <th>Promo2running</th>\n",
              "      <th>Sales</th>\n",
              "    </tr>\n",
              "  </thead>\n",
              "  <tbody>\n",
              "    <tr>\n",
              "      <th>0</th>\n",
              "      <td>274</td>\n",
              "      <td>2</td>\n",
              "      <td>0</td>\n",
              "      <td>1.0</td>\n",
              "      <td>1</td>\n",
              "      <td>b</td>\n",
              "      <td>b</td>\n",
              "      <td>3640.0</td>\n",
              "      <td>1</td>\n",
              "      <td>2013</td>\n",
              "      <td>...</td>\n",
              "      <td>1</td>\n",
              "      <td>1</td>\n",
              "      <td>20131274</td>\n",
              "      <td>2380.483871</td>\n",
              "      <td>20131274</td>\n",
              "      <td>660.709677</td>\n",
              "      <td>0.0</td>\n",
              "      <td>0.0</td>\n",
              "      <td>1</td>\n",
              "      <td>8.039802</td>\n",
              "    </tr>\n",
              "    <tr>\n",
              "      <th>1</th>\n",
              "      <td>274</td>\n",
              "      <td>2</td>\n",
              "      <td>0</td>\n",
              "      <td>1.0</td>\n",
              "      <td>1</td>\n",
              "      <td>b</td>\n",
              "      <td>b</td>\n",
              "      <td>3640.0</td>\n",
              "      <td>1</td>\n",
              "      <td>2013</td>\n",
              "      <td>...</td>\n",
              "      <td>1</td>\n",
              "      <td>1</td>\n",
              "      <td>20131274</td>\n",
              "      <td>2380.483871</td>\n",
              "      <td>20131274</td>\n",
              "      <td>834.000000</td>\n",
              "      <td>0.0</td>\n",
              "      <td>0.0</td>\n",
              "      <td>1</td>\n",
              "      <td>8.039802</td>\n",
              "    </tr>\n",
              "    <tr>\n",
              "      <th>2</th>\n",
              "      <td>274</td>\n",
              "      <td>2</td>\n",
              "      <td>0</td>\n",
              "      <td>1.0</td>\n",
              "      <td>1</td>\n",
              "      <td>b</td>\n",
              "      <td>b</td>\n",
              "      <td>3640.0</td>\n",
              "      <td>1</td>\n",
              "      <td>2013</td>\n",
              "      <td>...</td>\n",
              "      <td>1</td>\n",
              "      <td>1</td>\n",
              "      <td>20131274</td>\n",
              "      <td>6567.064516</td>\n",
              "      <td>20131274</td>\n",
              "      <td>660.709677</td>\n",
              "      <td>0.0</td>\n",
              "      <td>0.0</td>\n",
              "      <td>1</td>\n",
              "      <td>8.039802</td>\n",
              "    </tr>\n",
              "    <tr>\n",
              "      <th>3</th>\n",
              "      <td>274</td>\n",
              "      <td>2</td>\n",
              "      <td>0</td>\n",
              "      <td>1.0</td>\n",
              "      <td>1</td>\n",
              "      <td>b</td>\n",
              "      <td>b</td>\n",
              "      <td>3640.0</td>\n",
              "      <td>1</td>\n",
              "      <td>2013</td>\n",
              "      <td>...</td>\n",
              "      <td>1</td>\n",
              "      <td>1</td>\n",
              "      <td>20131274</td>\n",
              "      <td>6567.064516</td>\n",
              "      <td>20131274</td>\n",
              "      <td>834.000000</td>\n",
              "      <td>0.0</td>\n",
              "      <td>0.0</td>\n",
              "      <td>1</td>\n",
              "      <td>8.039802</td>\n",
              "    </tr>\n",
              "    <tr>\n",
              "      <th>4</th>\n",
              "      <td>335</td>\n",
              "      <td>2</td>\n",
              "      <td>0</td>\n",
              "      <td>1.0</td>\n",
              "      <td>1</td>\n",
              "      <td>b</td>\n",
              "      <td>a</td>\n",
              "      <td>90.0</td>\n",
              "      <td>1</td>\n",
              "      <td>2013</td>\n",
              "      <td>...</td>\n",
              "      <td>1</td>\n",
              "      <td>1</td>\n",
              "      <td>20131335</td>\n",
              "      <td>12224.645161</td>\n",
              "      <td>20131335</td>\n",
              "      <td>2367.225806</td>\n",
              "      <td>0.0</td>\n",
              "      <td>0.0</td>\n",
              "      <td>1</td>\n",
              "      <td>7.783641</td>\n",
              "    </tr>\n",
              "  </tbody>\n",
              "</table>\n",
              "<p>5 rows × 21 columns</p>\n",
              "</div>\n",
              "      <button class=\"colab-df-convert\" onclick=\"convertToInteractive('df-85e9b2a2-d73e-40cc-8959-8a11384e1acc')\"\n",
              "              title=\"Convert this dataframe to an interactive table.\"\n",
              "              style=\"display:none;\">\n",
              "        \n",
              "  <svg xmlns=\"http://www.w3.org/2000/svg\" height=\"24px\"viewBox=\"0 0 24 24\"\n",
              "       width=\"24px\">\n",
              "    <path d=\"M0 0h24v24H0V0z\" fill=\"none\"/>\n",
              "    <path d=\"M18.56 5.44l.94 2.06.94-2.06 2.06-.94-2.06-.94-.94-2.06-.94 2.06-2.06.94zm-11 1L8.5 8.5l.94-2.06 2.06-.94-2.06-.94L8.5 2.5l-.94 2.06-2.06.94zm10 10l.94 2.06.94-2.06 2.06-.94-2.06-.94-.94-2.06-.94 2.06-2.06.94z\"/><path d=\"M17.41 7.96l-1.37-1.37c-.4-.4-.92-.59-1.43-.59-.52 0-1.04.2-1.43.59L10.3 9.45l-7.72 7.72c-.78.78-.78 2.05 0 2.83L4 21.41c.39.39.9.59 1.41.59.51 0 1.02-.2 1.41-.59l7.78-7.78 2.81-2.81c.8-.78.8-2.07 0-2.86zM5.41 20L4 18.59l7.72-7.72 1.47 1.35L5.41 20z\"/>\n",
              "  </svg>\n",
              "      </button>\n",
              "      \n",
              "  <style>\n",
              "    .colab-df-container {\n",
              "      display:flex;\n",
              "      flex-wrap:wrap;\n",
              "      gap: 12px;\n",
              "    }\n",
              "\n",
              "    .colab-df-convert {\n",
              "      background-color: #E8F0FE;\n",
              "      border: none;\n",
              "      border-radius: 50%;\n",
              "      cursor: pointer;\n",
              "      display: none;\n",
              "      fill: #1967D2;\n",
              "      height: 32px;\n",
              "      padding: 0 0 0 0;\n",
              "      width: 32px;\n",
              "    }\n",
              "\n",
              "    .colab-df-convert:hover {\n",
              "      background-color: #E2EBFA;\n",
              "      box-shadow: 0px 1px 2px rgba(60, 64, 67, 0.3), 0px 1px 3px 1px rgba(60, 64, 67, 0.15);\n",
              "      fill: #174EA6;\n",
              "    }\n",
              "\n",
              "    [theme=dark] .colab-df-convert {\n",
              "      background-color: #3B4455;\n",
              "      fill: #D2E3FC;\n",
              "    }\n",
              "\n",
              "    [theme=dark] .colab-df-convert:hover {\n",
              "      background-color: #434B5C;\n",
              "      box-shadow: 0px 1px 3px 1px rgba(0, 0, 0, 0.15);\n",
              "      filter: drop-shadow(0px 1px 2px rgba(0, 0, 0, 0.3));\n",
              "      fill: #FFFFFF;\n",
              "    }\n",
              "  </style>\n",
              "\n",
              "      <script>\n",
              "        const buttonEl =\n",
              "          document.querySelector('#df-85e9b2a2-d73e-40cc-8959-8a11384e1acc button.colab-df-convert');\n",
              "        buttonEl.style.display =\n",
              "          google.colab.kernel.accessAllowed ? 'block' : 'none';\n",
              "\n",
              "        async function convertToInteractive(key) {\n",
              "          const element = document.querySelector('#df-85e9b2a2-d73e-40cc-8959-8a11384e1acc');\n",
              "          const dataTable =\n",
              "            await google.colab.kernel.invokeFunction('convertToInteractive',\n",
              "                                                     [key], {});\n",
              "          if (!dataTable) return;\n",
              "\n",
              "          const docLinkHtml = 'Like what you see? Visit the ' +\n",
              "            '<a target=\"_blank\" href=https://colab.research.google.com/notebooks/data_table.ipynb>data table notebook</a>'\n",
              "            + ' to learn more about interactive tables.';\n",
              "          element.innerHTML = '';\n",
              "          dataTable['output_type'] = 'display_data';\n",
              "          await google.colab.output.renderOutput(dataTable, element);\n",
              "          const docLink = document.createElement('div');\n",
              "          docLink.innerHTML = docLinkHtml;\n",
              "          element.appendChild(docLink);\n",
              "        }\n",
              "      </script>\n",
              "    </div>\n",
              "  </div>\n",
              "  "
            ]
          },
          "metadata": {},
          "execution_count": 7
        }
      ]
    },
    {
      "cell_type": "markdown",
      "source": [
        "## **6. Store Sales Prediction**"
      ],
      "metadata": {
        "id": "79qd-QUkkSay"
      }
    },
    {
      "cell_type": "code",
      "source": [
        "dfd = df2.sample(n=50000, random_state=1)"
      ],
      "metadata": {
        "id": "WZTw535Mmact"
      },
      "execution_count": 8,
      "outputs": []
    },
    {
      "cell_type": "code",
      "source": [
        "# split features and labels\n",
        "X = dfd.drop('Sales', axis=1)\n",
        "y = dfd. Sales"
      ],
      "metadata": {
        "id": "KEkrY2oMm6JK"
      },
      "execution_count": 9,
      "outputs": []
    },
    {
      "cell_type": "code",
      "source": [
        "# get dummy variables for categorical features for linear regression\n",
        "xd = X.copy()\n",
        "xd = pd.get_dummies(xd)\n",
        "xl = X.copy()"
      ],
      "metadata": {
        "id": "LS2x4TkCm13n"
      },
      "execution_count": 10,
      "outputs": []
    },
    {
      "cell_type": "code",
      "source": [
        "# label nominal variables for tree based regression\n",
        "xl = X.copy()\n",
        "\n",
        "from sklearn.preprocessing import LabelEncoder\n",
        "label = LabelEncoder()\n",
        "xl.StateHoliday = label.fit_transform(xl.StateHoliday)\n",
        "xl.Assortment = label.fit_transform(xl.Assortment)\n",
        "xl.StoreType = label.fit_transform(xl.StoreType)\n"
      ],
      "metadata": {
        "id": "0bgXljTFqMOS"
      },
      "execution_count": 11,
      "outputs": []
    },
    {
      "cell_type": "code",
      "source": [
        "from sklearn.model_selection import train_test_split\n",
        "xd_train,xd_test,yd_train,yd_test = train_test_split(xd,y,test_size=0.3, random_state=1)\n",
        "xl_train,xl_test,yl_train,yl_test = train_test_split(xl,y,test_size=0.3, random_state=1)"
      ],
      "metadata": {
        "id": "rtbCRwWvoPir"
      },
      "execution_count": 12,
      "outputs": []
    },
    {
      "cell_type": "code",
      "source": [
        "xd_train.head()"
      ],
      "metadata": {
        "id": "U-CyezZLB2cj",
        "colab": {
          "base_uri": "https://localhost:8080/",
          "height": 300
        },
        "outputId": "13d4033a-50be-42ea-cd85-64f79274b896"
      },
      "execution_count": 13,
      "outputs": [
        {
          "output_type": "execute_result",
          "data": {
            "text/plain": [
              "        Store  DayOfWeek  Promo  StateHoliday  SchoolHoliday  \\\n",
              "158363    666          6      0           0.0              0   \n",
              "44637      92          6      0           0.0              0   \n",
              "166890     22          6      0           0.0              0   \n",
              "360902    272          4      1           0.0              0   \n",
              "307024   1083          1      1           0.0              0   \n",
              "\n",
              "        CompetitionDistance  Promo2  Year  Month  WeekOfYear  ...  \\\n",
              "158363               2700.0       1  2013     11          45  ...   \n",
              "44637                 240.0       1  2013      3          11  ...   \n",
              "166890               1040.0       1  2013     11          47  ...   \n",
              "360902              16180.0       1  2015      5          21  ...   \n",
              "307024              11540.0       1  2015      1           5  ...   \n",
              "\n",
              "        CompetitionOpen  Promo2Open  Promo2running  StoreType_a  StoreType_b  \\\n",
              "158363              2.0   32.284932              0            0            0   \n",
              "44637               0.0   40.175342              0            0            0   \n",
              "166890              2.0   17.753425              0            1            0   \n",
              "360902            142.0   49.610959              0            1            0   \n",
              "307024             16.0   24.000000              0            0            0   \n",
              "\n",
              "        StoreType_c  StoreType_d  Assortment_a  Assortment_b  Assortment_c  \n",
              "158363            1            0             0             0             1  \n",
              "44637             1            0             1             0             0  \n",
              "166890            0            0             1             0             0  \n",
              "360902            0            0             1             0             0  \n",
              "307024            0            1             0             0             1  \n",
              "\n",
              "[5 rows x 25 columns]"
            ],
            "text/html": [
              "\n",
              "  <div id=\"df-391c43c1-caa7-443a-8d62-5e24317205bd\">\n",
              "    <div class=\"colab-df-container\">\n",
              "      <div>\n",
              "<style scoped>\n",
              "    .dataframe tbody tr th:only-of-type {\n",
              "        vertical-align: middle;\n",
              "    }\n",
              "\n",
              "    .dataframe tbody tr th {\n",
              "        vertical-align: top;\n",
              "    }\n",
              "\n",
              "    .dataframe thead th {\n",
              "        text-align: right;\n",
              "    }\n",
              "</style>\n",
              "<table border=\"1\" class=\"dataframe\">\n",
              "  <thead>\n",
              "    <tr style=\"text-align: right;\">\n",
              "      <th></th>\n",
              "      <th>Store</th>\n",
              "      <th>DayOfWeek</th>\n",
              "      <th>Promo</th>\n",
              "      <th>StateHoliday</th>\n",
              "      <th>SchoolHoliday</th>\n",
              "      <th>CompetitionDistance</th>\n",
              "      <th>Promo2</th>\n",
              "      <th>Year</th>\n",
              "      <th>Month</th>\n",
              "      <th>WeekOfYear</th>\n",
              "      <th>...</th>\n",
              "      <th>CompetitionOpen</th>\n",
              "      <th>Promo2Open</th>\n",
              "      <th>Promo2running</th>\n",
              "      <th>StoreType_a</th>\n",
              "      <th>StoreType_b</th>\n",
              "      <th>StoreType_c</th>\n",
              "      <th>StoreType_d</th>\n",
              "      <th>Assortment_a</th>\n",
              "      <th>Assortment_b</th>\n",
              "      <th>Assortment_c</th>\n",
              "    </tr>\n",
              "  </thead>\n",
              "  <tbody>\n",
              "    <tr>\n",
              "      <th>158363</th>\n",
              "      <td>666</td>\n",
              "      <td>6</td>\n",
              "      <td>0</td>\n",
              "      <td>0.0</td>\n",
              "      <td>0</td>\n",
              "      <td>2700.0</td>\n",
              "      <td>1</td>\n",
              "      <td>2013</td>\n",
              "      <td>11</td>\n",
              "      <td>45</td>\n",
              "      <td>...</td>\n",
              "      <td>2.0</td>\n",
              "      <td>32.284932</td>\n",
              "      <td>0</td>\n",
              "      <td>0</td>\n",
              "      <td>0</td>\n",
              "      <td>1</td>\n",
              "      <td>0</td>\n",
              "      <td>0</td>\n",
              "      <td>0</td>\n",
              "      <td>1</td>\n",
              "    </tr>\n",
              "    <tr>\n",
              "      <th>44637</th>\n",
              "      <td>92</td>\n",
              "      <td>6</td>\n",
              "      <td>0</td>\n",
              "      <td>0.0</td>\n",
              "      <td>0</td>\n",
              "      <td>240.0</td>\n",
              "      <td>1</td>\n",
              "      <td>2013</td>\n",
              "      <td>3</td>\n",
              "      <td>11</td>\n",
              "      <td>...</td>\n",
              "      <td>0.0</td>\n",
              "      <td>40.175342</td>\n",
              "      <td>0</td>\n",
              "      <td>0</td>\n",
              "      <td>0</td>\n",
              "      <td>1</td>\n",
              "      <td>0</td>\n",
              "      <td>1</td>\n",
              "      <td>0</td>\n",
              "      <td>0</td>\n",
              "    </tr>\n",
              "    <tr>\n",
              "      <th>166890</th>\n",
              "      <td>22</td>\n",
              "      <td>6</td>\n",
              "      <td>0</td>\n",
              "      <td>0.0</td>\n",
              "      <td>0</td>\n",
              "      <td>1040.0</td>\n",
              "      <td>1</td>\n",
              "      <td>2013</td>\n",
              "      <td>11</td>\n",
              "      <td>47</td>\n",
              "      <td>...</td>\n",
              "      <td>2.0</td>\n",
              "      <td>17.753425</td>\n",
              "      <td>0</td>\n",
              "      <td>1</td>\n",
              "      <td>0</td>\n",
              "      <td>0</td>\n",
              "      <td>0</td>\n",
              "      <td>1</td>\n",
              "      <td>0</td>\n",
              "      <td>0</td>\n",
              "    </tr>\n",
              "    <tr>\n",
              "      <th>360902</th>\n",
              "      <td>272</td>\n",
              "      <td>4</td>\n",
              "      <td>1</td>\n",
              "      <td>0.0</td>\n",
              "      <td>0</td>\n",
              "      <td>16180.0</td>\n",
              "      <td>1</td>\n",
              "      <td>2015</td>\n",
              "      <td>5</td>\n",
              "      <td>21</td>\n",
              "      <td>...</td>\n",
              "      <td>142.0</td>\n",
              "      <td>49.610959</td>\n",
              "      <td>0</td>\n",
              "      <td>1</td>\n",
              "      <td>0</td>\n",
              "      <td>0</td>\n",
              "      <td>0</td>\n",
              "      <td>1</td>\n",
              "      <td>0</td>\n",
              "      <td>0</td>\n",
              "    </tr>\n",
              "    <tr>\n",
              "      <th>307024</th>\n",
              "      <td>1083</td>\n",
              "      <td>1</td>\n",
              "      <td>1</td>\n",
              "      <td>0.0</td>\n",
              "      <td>0</td>\n",
              "      <td>11540.0</td>\n",
              "      <td>1</td>\n",
              "      <td>2015</td>\n",
              "      <td>1</td>\n",
              "      <td>5</td>\n",
              "      <td>...</td>\n",
              "      <td>16.0</td>\n",
              "      <td>24.000000</td>\n",
              "      <td>0</td>\n",
              "      <td>0</td>\n",
              "      <td>0</td>\n",
              "      <td>0</td>\n",
              "      <td>1</td>\n",
              "      <td>0</td>\n",
              "      <td>0</td>\n",
              "      <td>1</td>\n",
              "    </tr>\n",
              "  </tbody>\n",
              "</table>\n",
              "<p>5 rows × 25 columns</p>\n",
              "</div>\n",
              "      <button class=\"colab-df-convert\" onclick=\"convertToInteractive('df-391c43c1-caa7-443a-8d62-5e24317205bd')\"\n",
              "              title=\"Convert this dataframe to an interactive table.\"\n",
              "              style=\"display:none;\">\n",
              "        \n",
              "  <svg xmlns=\"http://www.w3.org/2000/svg\" height=\"24px\"viewBox=\"0 0 24 24\"\n",
              "       width=\"24px\">\n",
              "    <path d=\"M0 0h24v24H0V0z\" fill=\"none\"/>\n",
              "    <path d=\"M18.56 5.44l.94 2.06.94-2.06 2.06-.94-2.06-.94-.94-2.06-.94 2.06-2.06.94zm-11 1L8.5 8.5l.94-2.06 2.06-.94-2.06-.94L8.5 2.5l-.94 2.06-2.06.94zm10 10l.94 2.06.94-2.06 2.06-.94-2.06-.94-.94-2.06-.94 2.06-2.06.94z\"/><path d=\"M17.41 7.96l-1.37-1.37c-.4-.4-.92-.59-1.43-.59-.52 0-1.04.2-1.43.59L10.3 9.45l-7.72 7.72c-.78.78-.78 2.05 0 2.83L4 21.41c.39.39.9.59 1.41.59.51 0 1.02-.2 1.41-.59l7.78-7.78 2.81-2.81c.8-.78.8-2.07 0-2.86zM5.41 20L4 18.59l7.72-7.72 1.47 1.35L5.41 20z\"/>\n",
              "  </svg>\n",
              "      </button>\n",
              "      \n",
              "  <style>\n",
              "    .colab-df-container {\n",
              "      display:flex;\n",
              "      flex-wrap:wrap;\n",
              "      gap: 12px;\n",
              "    }\n",
              "\n",
              "    .colab-df-convert {\n",
              "      background-color: #E8F0FE;\n",
              "      border: none;\n",
              "      border-radius: 50%;\n",
              "      cursor: pointer;\n",
              "      display: none;\n",
              "      fill: #1967D2;\n",
              "      height: 32px;\n",
              "      padding: 0 0 0 0;\n",
              "      width: 32px;\n",
              "    }\n",
              "\n",
              "    .colab-df-convert:hover {\n",
              "      background-color: #E2EBFA;\n",
              "      box-shadow: 0px 1px 2px rgba(60, 64, 67, 0.3), 0px 1px 3px 1px rgba(60, 64, 67, 0.15);\n",
              "      fill: #174EA6;\n",
              "    }\n",
              "\n",
              "    [theme=dark] .colab-df-convert {\n",
              "      background-color: #3B4455;\n",
              "      fill: #D2E3FC;\n",
              "    }\n",
              "\n",
              "    [theme=dark] .colab-df-convert:hover {\n",
              "      background-color: #434B5C;\n",
              "      box-shadow: 0px 1px 3px 1px rgba(0, 0, 0, 0.15);\n",
              "      filter: drop-shadow(0px 1px 2px rgba(0, 0, 0, 0.3));\n",
              "      fill: #FFFFFF;\n",
              "    }\n",
              "  </style>\n",
              "\n",
              "      <script>\n",
              "        const buttonEl =\n",
              "          document.querySelector('#df-391c43c1-caa7-443a-8d62-5e24317205bd button.colab-df-convert');\n",
              "        buttonEl.style.display =\n",
              "          google.colab.kernel.accessAllowed ? 'block' : 'none';\n",
              "\n",
              "        async function convertToInteractive(key) {\n",
              "          const element = document.querySelector('#df-391c43c1-caa7-443a-8d62-5e24317205bd');\n",
              "          const dataTable =\n",
              "            await google.colab.kernel.invokeFunction('convertToInteractive',\n",
              "                                                     [key], {});\n",
              "          if (!dataTable) return;\n",
              "\n",
              "          const docLinkHtml = 'Like what you see? Visit the ' +\n",
              "            '<a target=\"_blank\" href=https://colab.research.google.com/notebooks/data_table.ipynb>data table notebook</a>'\n",
              "            + ' to learn more about interactive tables.';\n",
              "          element.innerHTML = '';\n",
              "          dataTable['output_type'] = 'display_data';\n",
              "          await google.colab.output.renderOutput(dataTable, element);\n",
              "          const docLink = document.createElement('div');\n",
              "          docLink.innerHTML = docLinkHtml;\n",
              "          element.appendChild(docLink);\n",
              "        }\n",
              "      </script>\n",
              "    </div>\n",
              "  </div>\n",
              "  "
            ]
          },
          "metadata": {},
          "execution_count": 13
        }
      ]
    },
    {
      "cell_type": "code",
      "source": [
        "xd_test.head()"
      ],
      "metadata": {
        "id": "VaWgXjwo-BR6",
        "colab": {
          "base_uri": "https://localhost:8080/",
          "height": 300
        },
        "outputId": "d533b9eb-7b7e-4687-f307-705e1d4d5c33"
      },
      "execution_count": 14,
      "outputs": [
        {
          "output_type": "execute_result",
          "data": {
            "text/plain": [
              "        Store  DayOfWeek  Promo  StateHoliday  SchoolHoliday  \\\n",
              "218394    399          3      0           0.0              1   \n",
              "23933     872          5      0           0.0              0   \n",
              "330202    706          6      0           0.0              0   \n",
              "34517     401          6      0           0.0              0   \n",
              "17753     597          4      1           0.0              0   \n",
              "\n",
              "        CompetitionDistance  Promo2  Year  Month  WeekOfYear  ...  \\\n",
              "218394               5360.0       1  2014      4          17  ...   \n",
              "23933                3860.0       1  2013      2           5  ...   \n",
              "330202               7830.0       1  2015      3          11  ...   \n",
              "34517                9200.0       1  2013      2           8  ...   \n",
              "17753                 150.0       1  2013      1           4  ...   \n",
              "\n",
              "        CompetitionOpen  Promo2Open  Promo2running  StoreType_a  StoreType_b  \\\n",
              "218394             19.0   30.706849              1            1            0   \n",
              "23933               0.0    0.000000              0            1            0   \n",
              "330202              6.0   12.230137              1            0            0   \n",
              "34517              40.0   10.619178              0            1            0   \n",
              "17753              52.0   12.690411              0            1            0   \n",
              "\n",
              "        StoreType_c  StoreType_d  Assortment_a  Assortment_b  Assortment_c  \n",
              "218394            0            0             1             0             0  \n",
              "23933             0            0             0             0             1  \n",
              "330202            0            1             1             0             0  \n",
              "34517             0            0             0             0             1  \n",
              "17753             0            0             1             0             0  \n",
              "\n",
              "[5 rows x 25 columns]"
            ],
            "text/html": [
              "\n",
              "  <div id=\"df-010f6991-281e-4e57-b342-4c22b192fad1\">\n",
              "    <div class=\"colab-df-container\">\n",
              "      <div>\n",
              "<style scoped>\n",
              "    .dataframe tbody tr th:only-of-type {\n",
              "        vertical-align: middle;\n",
              "    }\n",
              "\n",
              "    .dataframe tbody tr th {\n",
              "        vertical-align: top;\n",
              "    }\n",
              "\n",
              "    .dataframe thead th {\n",
              "        text-align: right;\n",
              "    }\n",
              "</style>\n",
              "<table border=\"1\" class=\"dataframe\">\n",
              "  <thead>\n",
              "    <tr style=\"text-align: right;\">\n",
              "      <th></th>\n",
              "      <th>Store</th>\n",
              "      <th>DayOfWeek</th>\n",
              "      <th>Promo</th>\n",
              "      <th>StateHoliday</th>\n",
              "      <th>SchoolHoliday</th>\n",
              "      <th>CompetitionDistance</th>\n",
              "      <th>Promo2</th>\n",
              "      <th>Year</th>\n",
              "      <th>Month</th>\n",
              "      <th>WeekOfYear</th>\n",
              "      <th>...</th>\n",
              "      <th>CompetitionOpen</th>\n",
              "      <th>Promo2Open</th>\n",
              "      <th>Promo2running</th>\n",
              "      <th>StoreType_a</th>\n",
              "      <th>StoreType_b</th>\n",
              "      <th>StoreType_c</th>\n",
              "      <th>StoreType_d</th>\n",
              "      <th>Assortment_a</th>\n",
              "      <th>Assortment_b</th>\n",
              "      <th>Assortment_c</th>\n",
              "    </tr>\n",
              "  </thead>\n",
              "  <tbody>\n",
              "    <tr>\n",
              "      <th>218394</th>\n",
              "      <td>399</td>\n",
              "      <td>3</td>\n",
              "      <td>0</td>\n",
              "      <td>0.0</td>\n",
              "      <td>1</td>\n",
              "      <td>5360.0</td>\n",
              "      <td>1</td>\n",
              "      <td>2014</td>\n",
              "      <td>4</td>\n",
              "      <td>17</td>\n",
              "      <td>...</td>\n",
              "      <td>19.0</td>\n",
              "      <td>30.706849</td>\n",
              "      <td>1</td>\n",
              "      <td>1</td>\n",
              "      <td>0</td>\n",
              "      <td>0</td>\n",
              "      <td>0</td>\n",
              "      <td>1</td>\n",
              "      <td>0</td>\n",
              "      <td>0</td>\n",
              "    </tr>\n",
              "    <tr>\n",
              "      <th>23933</th>\n",
              "      <td>872</td>\n",
              "      <td>5</td>\n",
              "      <td>0</td>\n",
              "      <td>0.0</td>\n",
              "      <td>0</td>\n",
              "      <td>3860.0</td>\n",
              "      <td>1</td>\n",
              "      <td>2013</td>\n",
              "      <td>2</td>\n",
              "      <td>5</td>\n",
              "      <td>...</td>\n",
              "      <td>0.0</td>\n",
              "      <td>0.000000</td>\n",
              "      <td>0</td>\n",
              "      <td>1</td>\n",
              "      <td>0</td>\n",
              "      <td>0</td>\n",
              "      <td>0</td>\n",
              "      <td>0</td>\n",
              "      <td>0</td>\n",
              "      <td>1</td>\n",
              "    </tr>\n",
              "    <tr>\n",
              "      <th>330202</th>\n",
              "      <td>706</td>\n",
              "      <td>6</td>\n",
              "      <td>0</td>\n",
              "      <td>0.0</td>\n",
              "      <td>0</td>\n",
              "      <td>7830.0</td>\n",
              "      <td>1</td>\n",
              "      <td>2015</td>\n",
              "      <td>3</td>\n",
              "      <td>11</td>\n",
              "      <td>...</td>\n",
              "      <td>6.0</td>\n",
              "      <td>12.230137</td>\n",
              "      <td>1</td>\n",
              "      <td>0</td>\n",
              "      <td>0</td>\n",
              "      <td>0</td>\n",
              "      <td>1</td>\n",
              "      <td>1</td>\n",
              "      <td>0</td>\n",
              "      <td>0</td>\n",
              "    </tr>\n",
              "    <tr>\n",
              "      <th>34517</th>\n",
              "      <td>401</td>\n",
              "      <td>6</td>\n",
              "      <td>0</td>\n",
              "      <td>0.0</td>\n",
              "      <td>0</td>\n",
              "      <td>9200.0</td>\n",
              "      <td>1</td>\n",
              "      <td>2013</td>\n",
              "      <td>2</td>\n",
              "      <td>8</td>\n",
              "      <td>...</td>\n",
              "      <td>40.0</td>\n",
              "      <td>10.619178</td>\n",
              "      <td>0</td>\n",
              "      <td>1</td>\n",
              "      <td>0</td>\n",
              "      <td>0</td>\n",
              "      <td>0</td>\n",
              "      <td>0</td>\n",
              "      <td>0</td>\n",
              "      <td>1</td>\n",
              "    </tr>\n",
              "    <tr>\n",
              "      <th>17753</th>\n",
              "      <td>597</td>\n",
              "      <td>4</td>\n",
              "      <td>1</td>\n",
              "      <td>0.0</td>\n",
              "      <td>0</td>\n",
              "      <td>150.0</td>\n",
              "      <td>1</td>\n",
              "      <td>2013</td>\n",
              "      <td>1</td>\n",
              "      <td>4</td>\n",
              "      <td>...</td>\n",
              "      <td>52.0</td>\n",
              "      <td>12.690411</td>\n",
              "      <td>0</td>\n",
              "      <td>1</td>\n",
              "      <td>0</td>\n",
              "      <td>0</td>\n",
              "      <td>0</td>\n",
              "      <td>1</td>\n",
              "      <td>0</td>\n",
              "      <td>0</td>\n",
              "    </tr>\n",
              "  </tbody>\n",
              "</table>\n",
              "<p>5 rows × 25 columns</p>\n",
              "</div>\n",
              "      <button class=\"colab-df-convert\" onclick=\"convertToInteractive('df-010f6991-281e-4e57-b342-4c22b192fad1')\"\n",
              "              title=\"Convert this dataframe to an interactive table.\"\n",
              "              style=\"display:none;\">\n",
              "        \n",
              "  <svg xmlns=\"http://www.w3.org/2000/svg\" height=\"24px\"viewBox=\"0 0 24 24\"\n",
              "       width=\"24px\">\n",
              "    <path d=\"M0 0h24v24H0V0z\" fill=\"none\"/>\n",
              "    <path d=\"M18.56 5.44l.94 2.06.94-2.06 2.06-.94-2.06-.94-.94-2.06-.94 2.06-2.06.94zm-11 1L8.5 8.5l.94-2.06 2.06-.94-2.06-.94L8.5 2.5l-.94 2.06-2.06.94zm10 10l.94 2.06.94-2.06 2.06-.94-2.06-.94-.94-2.06-.94 2.06-2.06.94z\"/><path d=\"M17.41 7.96l-1.37-1.37c-.4-.4-.92-.59-1.43-.59-.52 0-1.04.2-1.43.59L10.3 9.45l-7.72 7.72c-.78.78-.78 2.05 0 2.83L4 21.41c.39.39.9.59 1.41.59.51 0 1.02-.2 1.41-.59l7.78-7.78 2.81-2.81c.8-.78.8-2.07 0-2.86zM5.41 20L4 18.59l7.72-7.72 1.47 1.35L5.41 20z\"/>\n",
              "  </svg>\n",
              "      </button>\n",
              "      \n",
              "  <style>\n",
              "    .colab-df-container {\n",
              "      display:flex;\n",
              "      flex-wrap:wrap;\n",
              "      gap: 12px;\n",
              "    }\n",
              "\n",
              "    .colab-df-convert {\n",
              "      background-color: #E8F0FE;\n",
              "      border: none;\n",
              "      border-radius: 50%;\n",
              "      cursor: pointer;\n",
              "      display: none;\n",
              "      fill: #1967D2;\n",
              "      height: 32px;\n",
              "      padding: 0 0 0 0;\n",
              "      width: 32px;\n",
              "    }\n",
              "\n",
              "    .colab-df-convert:hover {\n",
              "      background-color: #E2EBFA;\n",
              "      box-shadow: 0px 1px 2px rgba(60, 64, 67, 0.3), 0px 1px 3px 1px rgba(60, 64, 67, 0.15);\n",
              "      fill: #174EA6;\n",
              "    }\n",
              "\n",
              "    [theme=dark] .colab-df-convert {\n",
              "      background-color: #3B4455;\n",
              "      fill: #D2E3FC;\n",
              "    }\n",
              "\n",
              "    [theme=dark] .colab-df-convert:hover {\n",
              "      background-color: #434B5C;\n",
              "      box-shadow: 0px 1px 3px 1px rgba(0, 0, 0, 0.15);\n",
              "      filter: drop-shadow(0px 1px 2px rgba(0, 0, 0, 0.3));\n",
              "      fill: #FFFFFF;\n",
              "    }\n",
              "  </style>\n",
              "\n",
              "      <script>\n",
              "        const buttonEl =\n",
              "          document.querySelector('#df-010f6991-281e-4e57-b342-4c22b192fad1 button.colab-df-convert');\n",
              "        buttonEl.style.display =\n",
              "          google.colab.kernel.accessAllowed ? 'block' : 'none';\n",
              "\n",
              "        async function convertToInteractive(key) {\n",
              "          const element = document.querySelector('#df-010f6991-281e-4e57-b342-4c22b192fad1');\n",
              "          const dataTable =\n",
              "            await google.colab.kernel.invokeFunction('convertToInteractive',\n",
              "                                                     [key], {});\n",
              "          if (!dataTable) return;\n",
              "\n",
              "          const docLinkHtml = 'Like what you see? Visit the ' +\n",
              "            '<a target=\"_blank\" href=https://colab.research.google.com/notebooks/data_table.ipynb>data table notebook</a>'\n",
              "            + ' to learn more about interactive tables.';\n",
              "          element.innerHTML = '';\n",
              "          dataTable['output_type'] = 'display_data';\n",
              "          await google.colab.output.renderOutput(dataTable, element);\n",
              "          const docLink = document.createElement('div');\n",
              "          docLink.innerHTML = docLinkHtml;\n",
              "          element.appendChild(docLink);\n",
              "        }\n",
              "      </script>\n",
              "    </div>\n",
              "  </div>\n",
              "  "
            ]
          },
          "metadata": {},
          "execution_count": 14
        }
      ]
    },
    {
      "cell_type": "code",
      "source": [
        "#metrics import\n",
        "from sklearn.metrics import mean_absolute_error\n",
        "from sklearn.metrics import mean_squared_error\n",
        "from sklearn.metrics import r2_score"
      ],
      "metadata": {
        "id": "T1JIKtc-VdJW"
      },
      "execution_count": 15,
      "outputs": []
    },
    {
      "cell_type": "markdown",
      "source": [
        "## **6.1 Linear Regression (OLS)**"
      ],
      "metadata": {
        "id": "PtTHb3uroBZh"
      }
    },
    {
      "cell_type": "code",
      "source": [
        "from sklearn.linear_model import LinearRegression\n",
        "lin= LinearRegression()\n",
        "linreg = lin.fit(xd_train, yd_train)"
      ],
      "metadata": {
        "id": "s0vZprHwn2P2"
      },
      "execution_count": 16,
      "outputs": []
    },
    {
      "cell_type": "code",
      "source": [
        "# definte RMSE function\n",
        "from sklearn.metrics import mean_squared_error\n",
        "from math import sqrt\n",
        "\n",
        "def rmse(x, y):\n",
        "    return sqrt(mean_squared_error(x, y))\n",
        "\n",
        "# definte MAPE function\n",
        "def mape(x, y): \n",
        "    return np.mean(np.abs((x - y) / x)) * 100  \n",
        "  \n",
        "# get cross validation scores \n",
        "yd_predicted = linreg.predict(xd_train)\n",
        "yd_test_predicted = linreg.predict(xd_test)\n",
        "\n",
        "a = linreg.score(xd_train, yd_train)\n",
        "b = linreg.score(xd_test, yd_test)\n",
        "c = rmse(yd_train, yd_predicted)\n",
        "d = rmse(yd_test, yd_test_predicted)\n",
        "e = mape(yd_train, yd_predicted)\n",
        "f = mape(yd_test, yd_test_predicted)\n",
        "g = round(r2_score(yd_train, yd_predicted),6)\n",
        "h = round(r2_score(yd_test, yd_test_predicted),6)\n",
        "i = round(1 - (1-r2_score(yd_train, yd_predicted)) * (len(yd_train)-1)/(len(yd_train)-xd_train.shape[1]-1),6)\n",
        "j = round(1 - (1-r2_score(yd_test, yd_test_predicted)) * (len(yd_test)-1)/(len(yd_test)-xd_test.shape[1]-1),6)\n",
        "\n",
        "print(\"Regression Model Score\" , \":\" , a , \",\" ,\n",
        "      \"Out of Sample Test Score\" ,\":\" , b)\n",
        "print(\"Training RMSE\", \":\", c,\n",
        "      \"Testing RMSE\", \":\", d)\n",
        "print(\"Training MAPE\", \":\", e,\n",
        "      \"Testing MAPE\", \":\", f)\n",
        "print(\"R2_train\" , \":\" , g , \",\" ,\n",
        "      \"R2_test\" ,\":\" , h)\n",
        "print(\"Adj_r2_train\" , \":\" , i , \",\" ,\n",
        "      \"Adj_r2_test\" ,\":\" , j)"
      ],
      "metadata": {
        "id": "FbfZgwnCoD9M",
        "colab": {
          "base_uri": "https://localhost:8080/"
        },
        "outputId": "e3a94775-fb2b-4010-fdaf-cfc4aa2ae8ca"
      },
      "execution_count": 17,
      "outputs": [
        {
          "output_type": "stream",
          "name": "stdout",
          "text": [
            "Regression Model Score : 0.6684336224556722 , Out of Sample Test Score : 0.6648058943579574\n",
            "Training RMSE : 0.23446356735844595 Testing RMSE : 0.23651278421978153\n",
            "Training MAPE : 1.9589629462038072 Testing MAPE : 1.9750885139396779\n",
            "R2_train : 0.668434 , R2_test : 0.664806\n",
            "Adj_r2_train : 0.668197 , Adj_r2_test : 0.664246\n"
          ]
        }
      ]
    },
    {
      "cell_type": "code",
      "source": [
        "#Columns needed to compare metrics\n",
        "comparison_columns = ['Model_Name', 'Regression Model Score', 'Sample Test Score', 'Training RMSE', 'Testing RMSE', 'Training MAPE' , 'Testing MAPE', 'R2_train', 'R2_test', 'Adj_r2_train','Adj_r2_test']\n",
        "\n",
        "metric_scores = ['LinearRegression', a, b, c, d, e, f, g, h, i, j]\n",
        "df_1= dict(zip(comparison_columns,metric_scores))"
      ],
      "metadata": {
        "id": "ssIiTrqWDWfx"
      },
      "execution_count": 18,
      "outputs": []
    },
    {
      "cell_type": "code",
      "source": [
        "df_1"
      ],
      "metadata": {
        "id": "0pxIOsidGT05",
        "colab": {
          "base_uri": "https://localhost:8080/"
        },
        "outputId": "ce809f49-7bd2-44ae-b2e1-2558577dd0aa"
      },
      "execution_count": 19,
      "outputs": [
        {
          "output_type": "execute_result",
          "data": {
            "text/plain": [
              "{'Adj_r2_test': 0.664246,\n",
              " 'Adj_r2_train': 0.668197,\n",
              " 'Model_Name': 'LinearRegression',\n",
              " 'R2_test': 0.664806,\n",
              " 'R2_train': 0.668434,\n",
              " 'Regression Model Score': 0.6684336224556722,\n",
              " 'Sample Test Score': 0.6648058943579574,\n",
              " 'Testing MAPE': 1.9750885139396779,\n",
              " 'Testing RMSE': 0.23651278421978153,\n",
              " 'Training MAPE': 1.9589629462038072,\n",
              " 'Training RMSE': 0.23446356735844595}"
            ]
          },
          "metadata": {},
          "execution_count": 19
        }
      ]
    },
    {
      "cell_type": "markdown",
      "source": [
        "## **6.2 Bayesian Ridge Regression**"
      ],
      "metadata": {
        "id": "J6VmB7IeoVNr"
      }
    },
    {
      "cell_type": "code",
      "source": [
        "from sklearn.linear_model import BayesianRidge\n",
        "rdg = BayesianRidge()\n",
        "rdgreg = rdg.fit(xd_train, yd_train)"
      ],
      "metadata": {
        "id": "vEV93ZQNoGPa"
      },
      "execution_count": 20,
      "outputs": []
    },
    {
      "cell_type": "code",
      "source": [
        "# validation\n",
        "\n",
        "yd_predicted = rdgreg.predict(xd_train)\n",
        "yd_test_predicted = rdgreg.predict(xd_test)\n",
        "\n",
        "a = rdgreg.score(xd_train, yd_train)\n",
        "b = rdgreg.score(xd_test, yd_test)\n",
        "c = rmse(yd_train, yd_predicted)\n",
        "d = rmse(yd_test, yd_test_predicted)\n",
        "e = mape(yd_train, yd_predicted)\n",
        "f = mape(yd_test, yd_test_predicted)\n",
        "g = round(r2_score(yd_train, yd_predicted),6)\n",
        "h = round(r2_score(yd_test, yd_test_predicted),6)\n",
        "i = round(1 - (1-r2_score(yd_train, yd_predicted)) * (len(yd_train)-1)/(len(yd_train)-xd_train.shape[1]-1),6)\n",
        "j = round(1 - (1-r2_score(yd_test, yd_test_predicted)) * (len(yd_test)-1)/(len(yd_test)-xd_test.shape[1]-1),6)\n",
        "\n",
        "print(\"Regression Model Score\" , \":\" , a , \",\" ,\n",
        "      \"Out of Sample Test Score\" ,\":\" , b)\n",
        "print(\"Training RMSE\", \":\", c,\n",
        "      \"Testing RMSE\", \":\", d)\n",
        "print(\"Training MAPE\", \":\", e,\n",
        "      \"Testing MAPE\", \":\", f)\n",
        "print(\"R2_train\" , \":\" , g , \",\" ,\n",
        "      \"R2_test\" ,\":\" , h)\n",
        "print(\"Adj_r2_train\" , \":\" , i , \",\" ,\n",
        "      \"Adj_r2_test\" ,\":\" , j)"
      ],
      "metadata": {
        "id": "O26kmHIkoY2u",
        "colab": {
          "base_uri": "https://localhost:8080/"
        },
        "outputId": "9b1689e8-fe19-4b73-f3ad-1d7693b2d8b6"
      },
      "execution_count": 21,
      "outputs": [
        {
          "output_type": "stream",
          "name": "stdout",
          "text": [
            "Regression Model Score : 0.6684266531255033 , Out of Sample Test Score : 0.6648144263410941\n",
            "Training RMSE : 0.23446603148861345 Testing RMSE : 0.23650977411922525\n",
            "Training MAPE : 1.9588627673499448 Testing MAPE : 1.9749627302939214\n",
            "R2_train : 0.668427 , R2_test : 0.664814\n",
            "Adj_r2_train : 0.66819 , Adj_r2_test : 0.664255\n"
          ]
        }
      ]
    },
    {
      "cell_type": "code",
      "source": [
        "#Columns needed to compare metrics\n",
        "comparison_columns = ['Model_Name', 'Regression Model Score', 'Sample Test Score', 'Training RMSE', 'Testing RMSE', 'Training MAPE' , 'Testing MAPE', 'R2_train', 'R2_test', 'Adj_r2_train','Adj_r2_test']\n",
        "\n",
        "metric_scores = ['BayesianRidge', a, b, c, d, e, f, g, h, i, j]\n",
        "df3= dict(zip(comparison_columns,metric_scores))"
      ],
      "metadata": {
        "id": "cfblA55tGm5F"
      },
      "execution_count": 22,
      "outputs": []
    },
    {
      "cell_type": "code",
      "source": [
        "df3"
      ],
      "metadata": {
        "id": "jeaz7U5lGvm8",
        "colab": {
          "base_uri": "https://localhost:8080/"
        },
        "outputId": "6fdcab12-4162-4b87-e1a1-447333573730"
      },
      "execution_count": 23,
      "outputs": [
        {
          "output_type": "execute_result",
          "data": {
            "text/plain": [
              "{'Adj_r2_test': 0.664255,\n",
              " 'Adj_r2_train': 0.66819,\n",
              " 'Model_Name': 'BayesianRidge',\n",
              " 'R2_test': 0.664814,\n",
              " 'R2_train': 0.668427,\n",
              " 'Regression Model Score': 0.6684266531255033,\n",
              " 'Sample Test Score': 0.6648144263410941,\n",
              " 'Testing MAPE': 1.9749627302939214,\n",
              " 'Testing RMSE': 0.23650977411922525,\n",
              " 'Training MAPE': 1.9588627673499448,\n",
              " 'Training RMSE': 0.23446603148861345}"
            ]
          },
          "metadata": {},
          "execution_count": 23
        }
      ]
    },
    {
      "cell_type": "code",
      "source": [
        "df_1 = pd.DataFrame([df_1])"
      ],
      "metadata": {
        "id": "ByfIrcByQpoU"
      },
      "execution_count": 24,
      "outputs": []
    },
    {
      "cell_type": "code",
      "source": [
        "df_1"
      ],
      "metadata": {
        "id": "qtusuR8XQ3eG",
        "colab": {
          "base_uri": "https://localhost:8080/",
          "height": 179
        },
        "outputId": "b4b55f11-0cf1-428d-fd71-e441211862e7"
      },
      "execution_count": 25,
      "outputs": [
        {
          "output_type": "execute_result",
          "data": {
            "text/plain": [
              "         Model_Name  Regression Model Score  Sample Test Score  Training RMSE  \\\n",
              "0  LinearRegression                0.668434           0.664806       0.234464   \n",
              "\n",
              "   Testing RMSE  Training MAPE  Testing MAPE  R2_train   R2_test  \\\n",
              "0      0.236513       1.958963      1.975089  0.668434  0.664806   \n",
              "\n",
              "   Adj_r2_train  Adj_r2_test  \n",
              "0      0.668197     0.664246  "
            ],
            "text/html": [
              "\n",
              "  <div id=\"df-86d4fac9-0adc-4600-9f23-8485cd61a258\">\n",
              "    <div class=\"colab-df-container\">\n",
              "      <div>\n",
              "<style scoped>\n",
              "    .dataframe tbody tr th:only-of-type {\n",
              "        vertical-align: middle;\n",
              "    }\n",
              "\n",
              "    .dataframe tbody tr th {\n",
              "        vertical-align: top;\n",
              "    }\n",
              "\n",
              "    .dataframe thead th {\n",
              "        text-align: right;\n",
              "    }\n",
              "</style>\n",
              "<table border=\"1\" class=\"dataframe\">\n",
              "  <thead>\n",
              "    <tr style=\"text-align: right;\">\n",
              "      <th></th>\n",
              "      <th>Model_Name</th>\n",
              "      <th>Regression Model Score</th>\n",
              "      <th>Sample Test Score</th>\n",
              "      <th>Training RMSE</th>\n",
              "      <th>Testing RMSE</th>\n",
              "      <th>Training MAPE</th>\n",
              "      <th>Testing MAPE</th>\n",
              "      <th>R2_train</th>\n",
              "      <th>R2_test</th>\n",
              "      <th>Adj_r2_train</th>\n",
              "      <th>Adj_r2_test</th>\n",
              "    </tr>\n",
              "  </thead>\n",
              "  <tbody>\n",
              "    <tr>\n",
              "      <th>0</th>\n",
              "      <td>LinearRegression</td>\n",
              "      <td>0.668434</td>\n",
              "      <td>0.664806</td>\n",
              "      <td>0.234464</td>\n",
              "      <td>0.236513</td>\n",
              "      <td>1.958963</td>\n",
              "      <td>1.975089</td>\n",
              "      <td>0.668434</td>\n",
              "      <td>0.664806</td>\n",
              "      <td>0.668197</td>\n",
              "      <td>0.664246</td>\n",
              "    </tr>\n",
              "  </tbody>\n",
              "</table>\n",
              "</div>\n",
              "      <button class=\"colab-df-convert\" onclick=\"convertToInteractive('df-86d4fac9-0adc-4600-9f23-8485cd61a258')\"\n",
              "              title=\"Convert this dataframe to an interactive table.\"\n",
              "              style=\"display:none;\">\n",
              "        \n",
              "  <svg xmlns=\"http://www.w3.org/2000/svg\" height=\"24px\"viewBox=\"0 0 24 24\"\n",
              "       width=\"24px\">\n",
              "    <path d=\"M0 0h24v24H0V0z\" fill=\"none\"/>\n",
              "    <path d=\"M18.56 5.44l.94 2.06.94-2.06 2.06-.94-2.06-.94-.94-2.06-.94 2.06-2.06.94zm-11 1L8.5 8.5l.94-2.06 2.06-.94-2.06-.94L8.5 2.5l-.94 2.06-2.06.94zm10 10l.94 2.06.94-2.06 2.06-.94-2.06-.94-.94-2.06-.94 2.06-2.06.94z\"/><path d=\"M17.41 7.96l-1.37-1.37c-.4-.4-.92-.59-1.43-.59-.52 0-1.04.2-1.43.59L10.3 9.45l-7.72 7.72c-.78.78-.78 2.05 0 2.83L4 21.41c.39.39.9.59 1.41.59.51 0 1.02-.2 1.41-.59l7.78-7.78 2.81-2.81c.8-.78.8-2.07 0-2.86zM5.41 20L4 18.59l7.72-7.72 1.47 1.35L5.41 20z\"/>\n",
              "  </svg>\n",
              "      </button>\n",
              "      \n",
              "  <style>\n",
              "    .colab-df-container {\n",
              "      display:flex;\n",
              "      flex-wrap:wrap;\n",
              "      gap: 12px;\n",
              "    }\n",
              "\n",
              "    .colab-df-convert {\n",
              "      background-color: #E8F0FE;\n",
              "      border: none;\n",
              "      border-radius: 50%;\n",
              "      cursor: pointer;\n",
              "      display: none;\n",
              "      fill: #1967D2;\n",
              "      height: 32px;\n",
              "      padding: 0 0 0 0;\n",
              "      width: 32px;\n",
              "    }\n",
              "\n",
              "    .colab-df-convert:hover {\n",
              "      background-color: #E2EBFA;\n",
              "      box-shadow: 0px 1px 2px rgba(60, 64, 67, 0.3), 0px 1px 3px 1px rgba(60, 64, 67, 0.15);\n",
              "      fill: #174EA6;\n",
              "    }\n",
              "\n",
              "    [theme=dark] .colab-df-convert {\n",
              "      background-color: #3B4455;\n",
              "      fill: #D2E3FC;\n",
              "    }\n",
              "\n",
              "    [theme=dark] .colab-df-convert:hover {\n",
              "      background-color: #434B5C;\n",
              "      box-shadow: 0px 1px 3px 1px rgba(0, 0, 0, 0.15);\n",
              "      filter: drop-shadow(0px 1px 2px rgba(0, 0, 0, 0.3));\n",
              "      fill: #FFFFFF;\n",
              "    }\n",
              "  </style>\n",
              "\n",
              "      <script>\n",
              "        const buttonEl =\n",
              "          document.querySelector('#df-86d4fac9-0adc-4600-9f23-8485cd61a258 button.colab-df-convert');\n",
              "        buttonEl.style.display =\n",
              "          google.colab.kernel.accessAllowed ? 'block' : 'none';\n",
              "\n",
              "        async function convertToInteractive(key) {\n",
              "          const element = document.querySelector('#df-86d4fac9-0adc-4600-9f23-8485cd61a258');\n",
              "          const dataTable =\n",
              "            await google.colab.kernel.invokeFunction('convertToInteractive',\n",
              "                                                     [key], {});\n",
              "          if (!dataTable) return;\n",
              "\n",
              "          const docLinkHtml = 'Like what you see? Visit the ' +\n",
              "            '<a target=\"_blank\" href=https://colab.research.google.com/notebooks/data_table.ipynb>data table notebook</a>'\n",
              "            + ' to learn more about interactive tables.';\n",
              "          element.innerHTML = '';\n",
              "          dataTable['output_type'] = 'display_data';\n",
              "          await google.colab.output.renderOutput(dataTable, element);\n",
              "          const docLink = document.createElement('div');\n",
              "          docLink.innerHTML = docLinkHtml;\n",
              "          element.appendChild(docLink);\n",
              "        }\n",
              "      </script>\n",
              "    </div>\n",
              "  </div>\n",
              "  "
            ]
          },
          "metadata": {},
          "execution_count": 25
        }
      ]
    },
    {
      "cell_type": "code",
      "source": [
        "df3 = pd.DataFrame([df3])"
      ],
      "metadata": {
        "id": "8Fl7hqoqQvyX"
      },
      "execution_count": 26,
      "outputs": []
    },
    {
      "cell_type": "code",
      "source": [
        "comparison_df1 = df_1.merge(df3, how='outer')\n",
        "comparison_df1"
      ],
      "metadata": {
        "id": "y_atjyLVPpP-",
        "colab": {
          "base_uri": "https://localhost:8080/",
          "height": 211
        },
        "outputId": "9f322656-7b49-4941-d879-3911834057c2"
      },
      "execution_count": 27,
      "outputs": [
        {
          "output_type": "execute_result",
          "data": {
            "text/plain": [
              "         Model_Name  Regression Model Score  Sample Test Score  Training RMSE  \\\n",
              "0  LinearRegression                0.668434           0.664806       0.234464   \n",
              "1     BayesianRidge                0.668427           0.664814       0.234466   \n",
              "\n",
              "   Testing RMSE  Training MAPE  Testing MAPE  R2_train   R2_test  \\\n",
              "0      0.236513       1.958963      1.975089  0.668434  0.664806   \n",
              "1      0.236510       1.958863      1.974963  0.668427  0.664814   \n",
              "\n",
              "   Adj_r2_train  Adj_r2_test  \n",
              "0      0.668197     0.664246  \n",
              "1      0.668190     0.664255  "
            ],
            "text/html": [
              "\n",
              "  <div id=\"df-02c56b02-13a8-40df-8665-bcf9990f9737\">\n",
              "    <div class=\"colab-df-container\">\n",
              "      <div>\n",
              "<style scoped>\n",
              "    .dataframe tbody tr th:only-of-type {\n",
              "        vertical-align: middle;\n",
              "    }\n",
              "\n",
              "    .dataframe tbody tr th {\n",
              "        vertical-align: top;\n",
              "    }\n",
              "\n",
              "    .dataframe thead th {\n",
              "        text-align: right;\n",
              "    }\n",
              "</style>\n",
              "<table border=\"1\" class=\"dataframe\">\n",
              "  <thead>\n",
              "    <tr style=\"text-align: right;\">\n",
              "      <th></th>\n",
              "      <th>Model_Name</th>\n",
              "      <th>Regression Model Score</th>\n",
              "      <th>Sample Test Score</th>\n",
              "      <th>Training RMSE</th>\n",
              "      <th>Testing RMSE</th>\n",
              "      <th>Training MAPE</th>\n",
              "      <th>Testing MAPE</th>\n",
              "      <th>R2_train</th>\n",
              "      <th>R2_test</th>\n",
              "      <th>Adj_r2_train</th>\n",
              "      <th>Adj_r2_test</th>\n",
              "    </tr>\n",
              "  </thead>\n",
              "  <tbody>\n",
              "    <tr>\n",
              "      <th>0</th>\n",
              "      <td>LinearRegression</td>\n",
              "      <td>0.668434</td>\n",
              "      <td>0.664806</td>\n",
              "      <td>0.234464</td>\n",
              "      <td>0.236513</td>\n",
              "      <td>1.958963</td>\n",
              "      <td>1.975089</td>\n",
              "      <td>0.668434</td>\n",
              "      <td>0.664806</td>\n",
              "      <td>0.668197</td>\n",
              "      <td>0.664246</td>\n",
              "    </tr>\n",
              "    <tr>\n",
              "      <th>1</th>\n",
              "      <td>BayesianRidge</td>\n",
              "      <td>0.668427</td>\n",
              "      <td>0.664814</td>\n",
              "      <td>0.234466</td>\n",
              "      <td>0.236510</td>\n",
              "      <td>1.958863</td>\n",
              "      <td>1.974963</td>\n",
              "      <td>0.668427</td>\n",
              "      <td>0.664814</td>\n",
              "      <td>0.668190</td>\n",
              "      <td>0.664255</td>\n",
              "    </tr>\n",
              "  </tbody>\n",
              "</table>\n",
              "</div>\n",
              "      <button class=\"colab-df-convert\" onclick=\"convertToInteractive('df-02c56b02-13a8-40df-8665-bcf9990f9737')\"\n",
              "              title=\"Convert this dataframe to an interactive table.\"\n",
              "              style=\"display:none;\">\n",
              "        \n",
              "  <svg xmlns=\"http://www.w3.org/2000/svg\" height=\"24px\"viewBox=\"0 0 24 24\"\n",
              "       width=\"24px\">\n",
              "    <path d=\"M0 0h24v24H0V0z\" fill=\"none\"/>\n",
              "    <path d=\"M18.56 5.44l.94 2.06.94-2.06 2.06-.94-2.06-.94-.94-2.06-.94 2.06-2.06.94zm-11 1L8.5 8.5l.94-2.06 2.06-.94-2.06-.94L8.5 2.5l-.94 2.06-2.06.94zm10 10l.94 2.06.94-2.06 2.06-.94-2.06-.94-.94-2.06-.94 2.06-2.06.94z\"/><path d=\"M17.41 7.96l-1.37-1.37c-.4-.4-.92-.59-1.43-.59-.52 0-1.04.2-1.43.59L10.3 9.45l-7.72 7.72c-.78.78-.78 2.05 0 2.83L4 21.41c.39.39.9.59 1.41.59.51 0 1.02-.2 1.41-.59l7.78-7.78 2.81-2.81c.8-.78.8-2.07 0-2.86zM5.41 20L4 18.59l7.72-7.72 1.47 1.35L5.41 20z\"/>\n",
              "  </svg>\n",
              "      </button>\n",
              "      \n",
              "  <style>\n",
              "    .colab-df-container {\n",
              "      display:flex;\n",
              "      flex-wrap:wrap;\n",
              "      gap: 12px;\n",
              "    }\n",
              "\n",
              "    .colab-df-convert {\n",
              "      background-color: #E8F0FE;\n",
              "      border: none;\n",
              "      border-radius: 50%;\n",
              "      cursor: pointer;\n",
              "      display: none;\n",
              "      fill: #1967D2;\n",
              "      height: 32px;\n",
              "      padding: 0 0 0 0;\n",
              "      width: 32px;\n",
              "    }\n",
              "\n",
              "    .colab-df-convert:hover {\n",
              "      background-color: #E2EBFA;\n",
              "      box-shadow: 0px 1px 2px rgba(60, 64, 67, 0.3), 0px 1px 3px 1px rgba(60, 64, 67, 0.15);\n",
              "      fill: #174EA6;\n",
              "    }\n",
              "\n",
              "    [theme=dark] .colab-df-convert {\n",
              "      background-color: #3B4455;\n",
              "      fill: #D2E3FC;\n",
              "    }\n",
              "\n",
              "    [theme=dark] .colab-df-convert:hover {\n",
              "      background-color: #434B5C;\n",
              "      box-shadow: 0px 1px 3px 1px rgba(0, 0, 0, 0.15);\n",
              "      filter: drop-shadow(0px 1px 2px rgba(0, 0, 0, 0.3));\n",
              "      fill: #FFFFFF;\n",
              "    }\n",
              "  </style>\n",
              "\n",
              "      <script>\n",
              "        const buttonEl =\n",
              "          document.querySelector('#df-02c56b02-13a8-40df-8665-bcf9990f9737 button.colab-df-convert');\n",
              "        buttonEl.style.display =\n",
              "          google.colab.kernel.accessAllowed ? 'block' : 'none';\n",
              "\n",
              "        async function convertToInteractive(key) {\n",
              "          const element = document.querySelector('#df-02c56b02-13a8-40df-8665-bcf9990f9737');\n",
              "          const dataTable =\n",
              "            await google.colab.kernel.invokeFunction('convertToInteractive',\n",
              "                                                     [key], {});\n",
              "          if (!dataTable) return;\n",
              "\n",
              "          const docLinkHtml = 'Like what you see? Visit the ' +\n",
              "            '<a target=\"_blank\" href=https://colab.research.google.com/notebooks/data_table.ipynb>data table notebook</a>'\n",
              "            + ' to learn more about interactive tables.';\n",
              "          element.innerHTML = '';\n",
              "          dataTable['output_type'] = 'display_data';\n",
              "          await google.colab.output.renderOutput(dataTable, element);\n",
              "          const docLink = document.createElement('div');\n",
              "          docLink.innerHTML = docLinkHtml;\n",
              "          element.appendChild(docLink);\n",
              "        }\n",
              "      </script>\n",
              "    </div>\n",
              "  </div>\n",
              "  "
            ]
          },
          "metadata": {},
          "execution_count": 27
        }
      ]
    },
    {
      "cell_type": "markdown",
      "source": [
        "## **6.3 LARS Lasso Regression**"
      ],
      "metadata": {
        "id": "Jx-aghoJoixS"
      }
    },
    {
      "cell_type": "code",
      "source": [
        "from sklearn.linear_model import LassoLars\n",
        "las = LassoLars(alpha=0.3, fit_intercept=False, normalize=True)\n",
        "lasreg = las.fit(xd_train, yd_train)"
      ],
      "metadata": {
        "id": "ap2wfcpxoakj"
      },
      "execution_count": 28,
      "outputs": []
    },
    {
      "cell_type": "code",
      "source": [
        "print(\"Regresion Model Score\" , \":\" , lasreg.score(xd_train, yd_train) , \",\" ,\n",
        "      \"Out of Sample Test Score\" ,\":\" , lasreg.score(xd_test, yd_test))\n",
        "\n",
        "yd_predicted = lasreg.predict(xd_train)\n",
        "yd_test_predicted = lasreg.predict(xd_test)\n",
        "\n",
        "a = lasreg.score(xd_train, yd_train)\n",
        "b = lasreg.score(xd_train, yd_train)\n",
        "c = rmse(yd_train, yd_predicted)\n",
        "d = rmse(yd_test, yd_test_predicted)\n",
        "e = mape(yd_train, yd_predicted)\n",
        "f = mape(yd_test, yd_test_predicted)\n",
        "g = round(r2_score(yd_train, yd_predicted),6)\n",
        "h = round(r2_score(yd_test, yd_test_predicted),6)\n",
        "i = round(1 - (1-r2_score(yd_train, yd_predicted)) * (len(yd_train)-1)/(len(yd_train)-xd_train.shape[1]-1),6)\n",
        "j = round(1 - (1-r2_score(yd_test, yd_test_predicted)) * (len(yd_test)-1)/(len(yd_test)-xd_test.shape[1]-1),6)\n",
        "\n",
        "print(\"Training RMSE\", \":\", c,\n",
        "      \"Testing RMSE\", \":\", d)\n",
        "print(\"Training MAPE\", \":\", e,\n",
        "      \"Testing MAPE\", \":\", f)\n",
        "print(\"R2_train\" , \":\" , g , \",\" ,\n",
        "      \"R2_test\" ,\":\" , h)\n",
        "print(\"Adj_r2_train\" , \":\" , i , \",\" ,\n",
        "      \"Adj_r2_test\" ,\":\" , j)\n"
      ],
      "metadata": {
        "id": "SSH15rddolDN",
        "colab": {
          "base_uri": "https://localhost:8080/"
        },
        "outputId": "ff65c689-93d3-4286-8080-6118f076a237"
      },
      "execution_count": 29,
      "outputs": [
        {
          "output_type": "stream",
          "name": "stdout",
          "text": [
            "Regresion Model Score : 0.4687166561274967 , Out of Sample Test Score : 0.46302640927851946\n",
            "Training RMSE : 0.2967927080988522 Testing RMSE : 0.29935250559262006\n",
            "Training MAPE : 2.6347307408957943 Testing MAPE : 2.6512302471588236\n",
            "R2_train : 0.468717 , R2_test : 0.463026\n",
            "Adj_r2_train : 0.468337 , Adj_r2_test : 0.46213\n"
          ]
        }
      ]
    },
    {
      "cell_type": "code",
      "source": [
        "#Columns needed to compare metrics\n",
        "comparison_columns = ['Model_Name', 'Regression Model Score', 'Sample Test Score', 'Training RMSE', 'Testing RMSE', 'Training MAPE' , 'Testing MAPE', 'R2_train', 'R2_test', 'Adj_r2_train','Adj_r2_test']\n",
        "\n",
        "metric_scores = ['LassoLars', a, b, c, d, e, f, g, h, i, j]\n",
        "df3= dict(zip(comparison_columns,metric_scores))"
      ],
      "metadata": {
        "id": "TJdxpZFPDYgS"
      },
      "execution_count": 30,
      "outputs": []
    },
    {
      "cell_type": "code",
      "source": [
        "df3 = pd.DataFrame([df3])"
      ],
      "metadata": {
        "id": "5Q5BltimMyut"
      },
      "execution_count": 31,
      "outputs": []
    },
    {
      "cell_type": "code",
      "source": [
        "comparison_df1 = comparison_df1.merge(df3, how='outer')\n",
        "comparison_df1"
      ],
      "metadata": {
        "id": "lyj7kAeVTL4s",
        "colab": {
          "base_uri": "https://localhost:8080/",
          "height": 242
        },
        "outputId": "94ea28a2-c034-4439-fd6e-02043d051fa6"
      },
      "execution_count": 32,
      "outputs": [
        {
          "output_type": "execute_result",
          "data": {
            "text/plain": [
              "         Model_Name  Regression Model Score  Sample Test Score  Training RMSE  \\\n",
              "0  LinearRegression                0.668434           0.664806       0.234464   \n",
              "1     BayesianRidge                0.668427           0.664814       0.234466   \n",
              "2         LassoLars                0.468717           0.468717       0.296793   \n",
              "\n",
              "   Testing RMSE  Training MAPE  Testing MAPE  R2_train   R2_test  \\\n",
              "0      0.236513       1.958963      1.975089  0.668434  0.664806   \n",
              "1      0.236510       1.958863      1.974963  0.668427  0.664814   \n",
              "2      0.299353       2.634731      2.651230  0.468717  0.463026   \n",
              "\n",
              "   Adj_r2_train  Adj_r2_test  \n",
              "0      0.668197     0.664246  \n",
              "1      0.668190     0.664255  \n",
              "2      0.468337     0.462130  "
            ],
            "text/html": [
              "\n",
              "  <div id=\"df-d1d83c77-167f-49aa-a898-1e71124e6ea0\">\n",
              "    <div class=\"colab-df-container\">\n",
              "      <div>\n",
              "<style scoped>\n",
              "    .dataframe tbody tr th:only-of-type {\n",
              "        vertical-align: middle;\n",
              "    }\n",
              "\n",
              "    .dataframe tbody tr th {\n",
              "        vertical-align: top;\n",
              "    }\n",
              "\n",
              "    .dataframe thead th {\n",
              "        text-align: right;\n",
              "    }\n",
              "</style>\n",
              "<table border=\"1\" class=\"dataframe\">\n",
              "  <thead>\n",
              "    <tr style=\"text-align: right;\">\n",
              "      <th></th>\n",
              "      <th>Model_Name</th>\n",
              "      <th>Regression Model Score</th>\n",
              "      <th>Sample Test Score</th>\n",
              "      <th>Training RMSE</th>\n",
              "      <th>Testing RMSE</th>\n",
              "      <th>Training MAPE</th>\n",
              "      <th>Testing MAPE</th>\n",
              "      <th>R2_train</th>\n",
              "      <th>R2_test</th>\n",
              "      <th>Adj_r2_train</th>\n",
              "      <th>Adj_r2_test</th>\n",
              "    </tr>\n",
              "  </thead>\n",
              "  <tbody>\n",
              "    <tr>\n",
              "      <th>0</th>\n",
              "      <td>LinearRegression</td>\n",
              "      <td>0.668434</td>\n",
              "      <td>0.664806</td>\n",
              "      <td>0.234464</td>\n",
              "      <td>0.236513</td>\n",
              "      <td>1.958963</td>\n",
              "      <td>1.975089</td>\n",
              "      <td>0.668434</td>\n",
              "      <td>0.664806</td>\n",
              "      <td>0.668197</td>\n",
              "      <td>0.664246</td>\n",
              "    </tr>\n",
              "    <tr>\n",
              "      <th>1</th>\n",
              "      <td>BayesianRidge</td>\n",
              "      <td>0.668427</td>\n",
              "      <td>0.664814</td>\n",
              "      <td>0.234466</td>\n",
              "      <td>0.236510</td>\n",
              "      <td>1.958863</td>\n",
              "      <td>1.974963</td>\n",
              "      <td>0.668427</td>\n",
              "      <td>0.664814</td>\n",
              "      <td>0.668190</td>\n",
              "      <td>0.664255</td>\n",
              "    </tr>\n",
              "    <tr>\n",
              "      <th>2</th>\n",
              "      <td>LassoLars</td>\n",
              "      <td>0.468717</td>\n",
              "      <td>0.468717</td>\n",
              "      <td>0.296793</td>\n",
              "      <td>0.299353</td>\n",
              "      <td>2.634731</td>\n",
              "      <td>2.651230</td>\n",
              "      <td>0.468717</td>\n",
              "      <td>0.463026</td>\n",
              "      <td>0.468337</td>\n",
              "      <td>0.462130</td>\n",
              "    </tr>\n",
              "  </tbody>\n",
              "</table>\n",
              "</div>\n",
              "      <button class=\"colab-df-convert\" onclick=\"convertToInteractive('df-d1d83c77-167f-49aa-a898-1e71124e6ea0')\"\n",
              "              title=\"Convert this dataframe to an interactive table.\"\n",
              "              style=\"display:none;\">\n",
              "        \n",
              "  <svg xmlns=\"http://www.w3.org/2000/svg\" height=\"24px\"viewBox=\"0 0 24 24\"\n",
              "       width=\"24px\">\n",
              "    <path d=\"M0 0h24v24H0V0z\" fill=\"none\"/>\n",
              "    <path d=\"M18.56 5.44l.94 2.06.94-2.06 2.06-.94-2.06-.94-.94-2.06-.94 2.06-2.06.94zm-11 1L8.5 8.5l.94-2.06 2.06-.94-2.06-.94L8.5 2.5l-.94 2.06-2.06.94zm10 10l.94 2.06.94-2.06 2.06-.94-2.06-.94-.94-2.06-.94 2.06-2.06.94z\"/><path d=\"M17.41 7.96l-1.37-1.37c-.4-.4-.92-.59-1.43-.59-.52 0-1.04.2-1.43.59L10.3 9.45l-7.72 7.72c-.78.78-.78 2.05 0 2.83L4 21.41c.39.39.9.59 1.41.59.51 0 1.02-.2 1.41-.59l7.78-7.78 2.81-2.81c.8-.78.8-2.07 0-2.86zM5.41 20L4 18.59l7.72-7.72 1.47 1.35L5.41 20z\"/>\n",
              "  </svg>\n",
              "      </button>\n",
              "      \n",
              "  <style>\n",
              "    .colab-df-container {\n",
              "      display:flex;\n",
              "      flex-wrap:wrap;\n",
              "      gap: 12px;\n",
              "    }\n",
              "\n",
              "    .colab-df-convert {\n",
              "      background-color: #E8F0FE;\n",
              "      border: none;\n",
              "      border-radius: 50%;\n",
              "      cursor: pointer;\n",
              "      display: none;\n",
              "      fill: #1967D2;\n",
              "      height: 32px;\n",
              "      padding: 0 0 0 0;\n",
              "      width: 32px;\n",
              "    }\n",
              "\n",
              "    .colab-df-convert:hover {\n",
              "      background-color: #E2EBFA;\n",
              "      box-shadow: 0px 1px 2px rgba(60, 64, 67, 0.3), 0px 1px 3px 1px rgba(60, 64, 67, 0.15);\n",
              "      fill: #174EA6;\n",
              "    }\n",
              "\n",
              "    [theme=dark] .colab-df-convert {\n",
              "      background-color: #3B4455;\n",
              "      fill: #D2E3FC;\n",
              "    }\n",
              "\n",
              "    [theme=dark] .colab-df-convert:hover {\n",
              "      background-color: #434B5C;\n",
              "      box-shadow: 0px 1px 3px 1px rgba(0, 0, 0, 0.15);\n",
              "      filter: drop-shadow(0px 1px 2px rgba(0, 0, 0, 0.3));\n",
              "      fill: #FFFFFF;\n",
              "    }\n",
              "  </style>\n",
              "\n",
              "      <script>\n",
              "        const buttonEl =\n",
              "          document.querySelector('#df-d1d83c77-167f-49aa-a898-1e71124e6ea0 button.colab-df-convert');\n",
              "        buttonEl.style.display =\n",
              "          google.colab.kernel.accessAllowed ? 'block' : 'none';\n",
              "\n",
              "        async function convertToInteractive(key) {\n",
              "          const element = document.querySelector('#df-d1d83c77-167f-49aa-a898-1e71124e6ea0');\n",
              "          const dataTable =\n",
              "            await google.colab.kernel.invokeFunction('convertToInteractive',\n",
              "                                                     [key], {});\n",
              "          if (!dataTable) return;\n",
              "\n",
              "          const docLinkHtml = 'Like what you see? Visit the ' +\n",
              "            '<a target=\"_blank\" href=https://colab.research.google.com/notebooks/data_table.ipynb>data table notebook</a>'\n",
              "            + ' to learn more about interactive tables.';\n",
              "          element.innerHTML = '';\n",
              "          dataTable['output_type'] = 'display_data';\n",
              "          await google.colab.output.renderOutput(dataTable, element);\n",
              "          const docLink = document.createElement('div');\n",
              "          docLink.innerHTML = docLinkHtml;\n",
              "          element.appendChild(docLink);\n",
              "        }\n",
              "      </script>\n",
              "    </div>\n",
              "  </div>\n",
              "  "
            ]
          },
          "metadata": {},
          "execution_count": 32
        }
      ]
    },
    {
      "cell_type": "markdown",
      "source": [
        "## **6.4 Decision Tree Regression**"
      ],
      "metadata": {
        "id": "PrJit7tFotw9"
      }
    },
    {
      "cell_type": "code",
      "source": [
        "from sklearn.tree import DecisionTreeRegressor\n",
        "tree = DecisionTreeRegressor(min_samples_leaf=20)\n",
        "treereg = tree.fit(xl_train, yl_train)"
      ],
      "metadata": {
        "id": "vNnjbrN--taP"
      },
      "execution_count": 33,
      "outputs": []
    },
    {
      "cell_type": "code",
      "source": [
        "a = treereg.score(xl_train, yl_train)\n",
        "b = treereg.score(xl_test, yl_test)\n",
        "\n",
        "print(\"Regresion Model Score\" , \":\" , a , \",\" ,\n",
        "      \"Out of Sample Test Score\" ,\":\" , b)   \n",
        "\n",
        "yl_predicted = treereg.predict(xl_train)\n",
        "yl_test_predicted = treereg.predict(xl_test)\n",
        "\n",
        "c = rmse(yl_train, yl_predicted)\n",
        "d = rmse(yl_test, yl_test_predicted)\n",
        "e = mape(yl_train, yl_predicted)\n",
        "f = mape(yl_test, yl_test_predicted)\n",
        "g = round(r2_score(yl_train, yl_predicted),6)\n",
        "h = round(r2_score(yl_test, yl_test_predicted),6)\n",
        "i = round(1 - (1-r2_score(yl_train, yl_predicted)) * (len(yl_train)-1)/(len(yl_train)-xl_train.shape[1]-1),6)\n",
        "j = round(1 - (1-r2_score(yl_test, yl_test_predicted)) * (len(yl_test)-1)/(len(yl_test)-xl_test.shape[1]-1),6)\n",
        "\n",
        "print(\"Training RMSE\", \":\", c,\n",
        "      \"Testing RMSE\", \":\", d)\n",
        "print(\"Training MAPE\", \":\", e,\n",
        "      \"Testing MAPE\", \":\", f)\n",
        "print(\"R2_train\" , \":\" , g , \",\" ,\n",
        "      \"R2_test\" ,\":\" , h)\n",
        "print(\"Adj_r2_train\" , \":\" , i , \",\" ,\n",
        "      \"Adj_r2_test\" ,\":\" , j)\n"
      ],
      "metadata": {
        "id": "LU_F-SOZ_Bl7",
        "colab": {
          "base_uri": "https://localhost:8080/"
        },
        "outputId": "443516c2-d590-4f9d-bd17-4cb9f1abcaf1"
      },
      "execution_count": 34,
      "outputs": [
        {
          "output_type": "stream",
          "name": "stdout",
          "text": [
            "Regresion Model Score : 0.8241543943162353 , Out of Sample Test Score : 0.7502395377042979\n",
            "Training RMSE : 0.17074810252383216 Testing RMSE : 0.2041588820531489\n",
            "Training MAPE : 1.406284397451301 Testing MAPE : 1.6790917501910567\n",
            "R2_train : 0.824154 , R2_test : 0.75024\n",
            "Adj_r2_train : 0.824054 , Adj_r2_test : 0.749906\n"
          ]
        }
      ]
    },
    {
      "cell_type": "code",
      "source": [
        "#Columns needed to compare metrics\n",
        "comparison_columns = ['Model_Name', 'Regression Model Score', 'Sample Test Score', 'Training RMSE', 'Testing RMSE', 'Training MAPE' , 'Testing MAPE', 'R2_train', 'R2_test', 'Adj_r2_train','Adj_r2_test']\n",
        "\n",
        "metric_scores = ['DecisionTreeRegressor', a, b , c, d, e, f, g, h, i, j]\n",
        "df4 = dict(zip(comparison_columns,metric_scores))"
      ],
      "metadata": {
        "id": "F2nKnweYf43J"
      },
      "execution_count": 35,
      "outputs": []
    },
    {
      "cell_type": "code",
      "source": [
        "df4 = pd.DataFrame([df4])"
      ],
      "metadata": {
        "id": "wXo1fk3CNazj"
      },
      "execution_count": 36,
      "outputs": []
    },
    {
      "cell_type": "code",
      "source": [
        "df4"
      ],
      "metadata": {
        "colab": {
          "base_uri": "https://localhost:8080/",
          "height": 179
        },
        "id": "VV1wm1KOWTJP",
        "outputId": "83a10105-3e1d-4500-9271-97f459f8040c"
      },
      "execution_count": 37,
      "outputs": [
        {
          "output_type": "execute_result",
          "data": {
            "text/plain": [
              "              Model_Name  Regression Model Score  Sample Test Score  \\\n",
              "0  DecisionTreeRegressor                0.824154            0.75024   \n",
              "\n",
              "   Training RMSE  Testing RMSE  Training MAPE  Testing MAPE  R2_train  \\\n",
              "0       0.170748      0.204159       1.406284      1.679092  0.824154   \n",
              "\n",
              "   R2_test  Adj_r2_train  Adj_r2_test  \n",
              "0  0.75024      0.824054     0.749906  "
            ],
            "text/html": [
              "\n",
              "  <div id=\"df-957c472d-1159-4b49-b79e-72d7d80eaf35\">\n",
              "    <div class=\"colab-df-container\">\n",
              "      <div>\n",
              "<style scoped>\n",
              "    .dataframe tbody tr th:only-of-type {\n",
              "        vertical-align: middle;\n",
              "    }\n",
              "\n",
              "    .dataframe tbody tr th {\n",
              "        vertical-align: top;\n",
              "    }\n",
              "\n",
              "    .dataframe thead th {\n",
              "        text-align: right;\n",
              "    }\n",
              "</style>\n",
              "<table border=\"1\" class=\"dataframe\">\n",
              "  <thead>\n",
              "    <tr style=\"text-align: right;\">\n",
              "      <th></th>\n",
              "      <th>Model_Name</th>\n",
              "      <th>Regression Model Score</th>\n",
              "      <th>Sample Test Score</th>\n",
              "      <th>Training RMSE</th>\n",
              "      <th>Testing RMSE</th>\n",
              "      <th>Training MAPE</th>\n",
              "      <th>Testing MAPE</th>\n",
              "      <th>R2_train</th>\n",
              "      <th>R2_test</th>\n",
              "      <th>Adj_r2_train</th>\n",
              "      <th>Adj_r2_test</th>\n",
              "    </tr>\n",
              "  </thead>\n",
              "  <tbody>\n",
              "    <tr>\n",
              "      <th>0</th>\n",
              "      <td>DecisionTreeRegressor</td>\n",
              "      <td>0.824154</td>\n",
              "      <td>0.75024</td>\n",
              "      <td>0.170748</td>\n",
              "      <td>0.204159</td>\n",
              "      <td>1.406284</td>\n",
              "      <td>1.679092</td>\n",
              "      <td>0.824154</td>\n",
              "      <td>0.75024</td>\n",
              "      <td>0.824054</td>\n",
              "      <td>0.749906</td>\n",
              "    </tr>\n",
              "  </tbody>\n",
              "</table>\n",
              "</div>\n",
              "      <button class=\"colab-df-convert\" onclick=\"convertToInteractive('df-957c472d-1159-4b49-b79e-72d7d80eaf35')\"\n",
              "              title=\"Convert this dataframe to an interactive table.\"\n",
              "              style=\"display:none;\">\n",
              "        \n",
              "  <svg xmlns=\"http://www.w3.org/2000/svg\" height=\"24px\"viewBox=\"0 0 24 24\"\n",
              "       width=\"24px\">\n",
              "    <path d=\"M0 0h24v24H0V0z\" fill=\"none\"/>\n",
              "    <path d=\"M18.56 5.44l.94 2.06.94-2.06 2.06-.94-2.06-.94-.94-2.06-.94 2.06-2.06.94zm-11 1L8.5 8.5l.94-2.06 2.06-.94-2.06-.94L8.5 2.5l-.94 2.06-2.06.94zm10 10l.94 2.06.94-2.06 2.06-.94-2.06-.94-.94-2.06-.94 2.06-2.06.94z\"/><path d=\"M17.41 7.96l-1.37-1.37c-.4-.4-.92-.59-1.43-.59-.52 0-1.04.2-1.43.59L10.3 9.45l-7.72 7.72c-.78.78-.78 2.05 0 2.83L4 21.41c.39.39.9.59 1.41.59.51 0 1.02-.2 1.41-.59l7.78-7.78 2.81-2.81c.8-.78.8-2.07 0-2.86zM5.41 20L4 18.59l7.72-7.72 1.47 1.35L5.41 20z\"/>\n",
              "  </svg>\n",
              "      </button>\n",
              "      \n",
              "  <style>\n",
              "    .colab-df-container {\n",
              "      display:flex;\n",
              "      flex-wrap:wrap;\n",
              "      gap: 12px;\n",
              "    }\n",
              "\n",
              "    .colab-df-convert {\n",
              "      background-color: #E8F0FE;\n",
              "      border: none;\n",
              "      border-radius: 50%;\n",
              "      cursor: pointer;\n",
              "      display: none;\n",
              "      fill: #1967D2;\n",
              "      height: 32px;\n",
              "      padding: 0 0 0 0;\n",
              "      width: 32px;\n",
              "    }\n",
              "\n",
              "    .colab-df-convert:hover {\n",
              "      background-color: #E2EBFA;\n",
              "      box-shadow: 0px 1px 2px rgba(60, 64, 67, 0.3), 0px 1px 3px 1px rgba(60, 64, 67, 0.15);\n",
              "      fill: #174EA6;\n",
              "    }\n",
              "\n",
              "    [theme=dark] .colab-df-convert {\n",
              "      background-color: #3B4455;\n",
              "      fill: #D2E3FC;\n",
              "    }\n",
              "\n",
              "    [theme=dark] .colab-df-convert:hover {\n",
              "      background-color: #434B5C;\n",
              "      box-shadow: 0px 1px 3px 1px rgba(0, 0, 0, 0.15);\n",
              "      filter: drop-shadow(0px 1px 2px rgba(0, 0, 0, 0.3));\n",
              "      fill: #FFFFFF;\n",
              "    }\n",
              "  </style>\n",
              "\n",
              "      <script>\n",
              "        const buttonEl =\n",
              "          document.querySelector('#df-957c472d-1159-4b49-b79e-72d7d80eaf35 button.colab-df-convert');\n",
              "        buttonEl.style.display =\n",
              "          google.colab.kernel.accessAllowed ? 'block' : 'none';\n",
              "\n",
              "        async function convertToInteractive(key) {\n",
              "          const element = document.querySelector('#df-957c472d-1159-4b49-b79e-72d7d80eaf35');\n",
              "          const dataTable =\n",
              "            await google.colab.kernel.invokeFunction('convertToInteractive',\n",
              "                                                     [key], {});\n",
              "          if (!dataTable) return;\n",
              "\n",
              "          const docLinkHtml = 'Like what you see? Visit the ' +\n",
              "            '<a target=\"_blank\" href=https://colab.research.google.com/notebooks/data_table.ipynb>data table notebook</a>'\n",
              "            + ' to learn more about interactive tables.';\n",
              "          element.innerHTML = '';\n",
              "          dataTable['output_type'] = 'display_data';\n",
              "          await google.colab.output.renderOutput(dataTable, element);\n",
              "          const docLink = document.createElement('div');\n",
              "          docLink.innerHTML = docLinkHtml;\n",
              "          element.appendChild(docLink);\n",
              "        }\n",
              "      </script>\n",
              "    </div>\n",
              "  </div>\n",
              "  "
            ]
          },
          "metadata": {},
          "execution_count": 37
        }
      ]
    },
    {
      "cell_type": "code",
      "source": [
        "comparison_df1 = comparison_df1.merge(df4, how='outer')\n",
        "comparison_df1"
      ],
      "metadata": {
        "id": "isLVEEmrTdFg",
        "colab": {
          "base_uri": "https://localhost:8080/",
          "height": 274
        },
        "outputId": "f7047e71-e609-483a-bc30-dcf82ce0d5d7"
      },
      "execution_count": 38,
      "outputs": [
        {
          "output_type": "execute_result",
          "data": {
            "text/plain": [
              "              Model_Name  Regression Model Score  Sample Test Score  \\\n",
              "0       LinearRegression                0.668434           0.664806   \n",
              "1          BayesianRidge                0.668427           0.664814   \n",
              "2              LassoLars                0.468717           0.468717   \n",
              "3  DecisionTreeRegressor                0.824154           0.750240   \n",
              "\n",
              "   Training RMSE  Testing RMSE  Training MAPE  Testing MAPE  R2_train  \\\n",
              "0       0.234464      0.236513       1.958963      1.975089  0.668434   \n",
              "1       0.234466      0.236510       1.958863      1.974963  0.668427   \n",
              "2       0.296793      0.299353       2.634731      2.651230  0.468717   \n",
              "3       0.170748      0.204159       1.406284      1.679092  0.824154   \n",
              "\n",
              "    R2_test  Adj_r2_train  Adj_r2_test  \n",
              "0  0.664806      0.668197     0.664246  \n",
              "1  0.664814      0.668190     0.664255  \n",
              "2  0.463026      0.468337     0.462130  \n",
              "3  0.750240      0.824054     0.749906  "
            ],
            "text/html": [
              "\n",
              "  <div id=\"df-e1df396d-c738-434f-b663-2745fdb60e0b\">\n",
              "    <div class=\"colab-df-container\">\n",
              "      <div>\n",
              "<style scoped>\n",
              "    .dataframe tbody tr th:only-of-type {\n",
              "        vertical-align: middle;\n",
              "    }\n",
              "\n",
              "    .dataframe tbody tr th {\n",
              "        vertical-align: top;\n",
              "    }\n",
              "\n",
              "    .dataframe thead th {\n",
              "        text-align: right;\n",
              "    }\n",
              "</style>\n",
              "<table border=\"1\" class=\"dataframe\">\n",
              "  <thead>\n",
              "    <tr style=\"text-align: right;\">\n",
              "      <th></th>\n",
              "      <th>Model_Name</th>\n",
              "      <th>Regression Model Score</th>\n",
              "      <th>Sample Test Score</th>\n",
              "      <th>Training RMSE</th>\n",
              "      <th>Testing RMSE</th>\n",
              "      <th>Training MAPE</th>\n",
              "      <th>Testing MAPE</th>\n",
              "      <th>R2_train</th>\n",
              "      <th>R2_test</th>\n",
              "      <th>Adj_r2_train</th>\n",
              "      <th>Adj_r2_test</th>\n",
              "    </tr>\n",
              "  </thead>\n",
              "  <tbody>\n",
              "    <tr>\n",
              "      <th>0</th>\n",
              "      <td>LinearRegression</td>\n",
              "      <td>0.668434</td>\n",
              "      <td>0.664806</td>\n",
              "      <td>0.234464</td>\n",
              "      <td>0.236513</td>\n",
              "      <td>1.958963</td>\n",
              "      <td>1.975089</td>\n",
              "      <td>0.668434</td>\n",
              "      <td>0.664806</td>\n",
              "      <td>0.668197</td>\n",
              "      <td>0.664246</td>\n",
              "    </tr>\n",
              "    <tr>\n",
              "      <th>1</th>\n",
              "      <td>BayesianRidge</td>\n",
              "      <td>0.668427</td>\n",
              "      <td>0.664814</td>\n",
              "      <td>0.234466</td>\n",
              "      <td>0.236510</td>\n",
              "      <td>1.958863</td>\n",
              "      <td>1.974963</td>\n",
              "      <td>0.668427</td>\n",
              "      <td>0.664814</td>\n",
              "      <td>0.668190</td>\n",
              "      <td>0.664255</td>\n",
              "    </tr>\n",
              "    <tr>\n",
              "      <th>2</th>\n",
              "      <td>LassoLars</td>\n",
              "      <td>0.468717</td>\n",
              "      <td>0.468717</td>\n",
              "      <td>0.296793</td>\n",
              "      <td>0.299353</td>\n",
              "      <td>2.634731</td>\n",
              "      <td>2.651230</td>\n",
              "      <td>0.468717</td>\n",
              "      <td>0.463026</td>\n",
              "      <td>0.468337</td>\n",
              "      <td>0.462130</td>\n",
              "    </tr>\n",
              "    <tr>\n",
              "      <th>3</th>\n",
              "      <td>DecisionTreeRegressor</td>\n",
              "      <td>0.824154</td>\n",
              "      <td>0.750240</td>\n",
              "      <td>0.170748</td>\n",
              "      <td>0.204159</td>\n",
              "      <td>1.406284</td>\n",
              "      <td>1.679092</td>\n",
              "      <td>0.824154</td>\n",
              "      <td>0.750240</td>\n",
              "      <td>0.824054</td>\n",
              "      <td>0.749906</td>\n",
              "    </tr>\n",
              "  </tbody>\n",
              "</table>\n",
              "</div>\n",
              "      <button class=\"colab-df-convert\" onclick=\"convertToInteractive('df-e1df396d-c738-434f-b663-2745fdb60e0b')\"\n",
              "              title=\"Convert this dataframe to an interactive table.\"\n",
              "              style=\"display:none;\">\n",
              "        \n",
              "  <svg xmlns=\"http://www.w3.org/2000/svg\" height=\"24px\"viewBox=\"0 0 24 24\"\n",
              "       width=\"24px\">\n",
              "    <path d=\"M0 0h24v24H0V0z\" fill=\"none\"/>\n",
              "    <path d=\"M18.56 5.44l.94 2.06.94-2.06 2.06-.94-2.06-.94-.94-2.06-.94 2.06-2.06.94zm-11 1L8.5 8.5l.94-2.06 2.06-.94-2.06-.94L8.5 2.5l-.94 2.06-2.06.94zm10 10l.94 2.06.94-2.06 2.06-.94-2.06-.94-.94-2.06-.94 2.06-2.06.94z\"/><path d=\"M17.41 7.96l-1.37-1.37c-.4-.4-.92-.59-1.43-.59-.52 0-1.04.2-1.43.59L10.3 9.45l-7.72 7.72c-.78.78-.78 2.05 0 2.83L4 21.41c.39.39.9.59 1.41.59.51 0 1.02-.2 1.41-.59l7.78-7.78 2.81-2.81c.8-.78.8-2.07 0-2.86zM5.41 20L4 18.59l7.72-7.72 1.47 1.35L5.41 20z\"/>\n",
              "  </svg>\n",
              "      </button>\n",
              "      \n",
              "  <style>\n",
              "    .colab-df-container {\n",
              "      display:flex;\n",
              "      flex-wrap:wrap;\n",
              "      gap: 12px;\n",
              "    }\n",
              "\n",
              "    .colab-df-convert {\n",
              "      background-color: #E8F0FE;\n",
              "      border: none;\n",
              "      border-radius: 50%;\n",
              "      cursor: pointer;\n",
              "      display: none;\n",
              "      fill: #1967D2;\n",
              "      height: 32px;\n",
              "      padding: 0 0 0 0;\n",
              "      width: 32px;\n",
              "    }\n",
              "\n",
              "    .colab-df-convert:hover {\n",
              "      background-color: #E2EBFA;\n",
              "      box-shadow: 0px 1px 2px rgba(60, 64, 67, 0.3), 0px 1px 3px 1px rgba(60, 64, 67, 0.15);\n",
              "      fill: #174EA6;\n",
              "    }\n",
              "\n",
              "    [theme=dark] .colab-df-convert {\n",
              "      background-color: #3B4455;\n",
              "      fill: #D2E3FC;\n",
              "    }\n",
              "\n",
              "    [theme=dark] .colab-df-convert:hover {\n",
              "      background-color: #434B5C;\n",
              "      box-shadow: 0px 1px 3px 1px rgba(0, 0, 0, 0.15);\n",
              "      filter: drop-shadow(0px 1px 2px rgba(0, 0, 0, 0.3));\n",
              "      fill: #FFFFFF;\n",
              "    }\n",
              "  </style>\n",
              "\n",
              "      <script>\n",
              "        const buttonEl =\n",
              "          document.querySelector('#df-e1df396d-c738-434f-b663-2745fdb60e0b button.colab-df-convert');\n",
              "        buttonEl.style.display =\n",
              "          google.colab.kernel.accessAllowed ? 'block' : 'none';\n",
              "\n",
              "        async function convertToInteractive(key) {\n",
              "          const element = document.querySelector('#df-e1df396d-c738-434f-b663-2745fdb60e0b');\n",
              "          const dataTable =\n",
              "            await google.colab.kernel.invokeFunction('convertToInteractive',\n",
              "                                                     [key], {});\n",
              "          if (!dataTable) return;\n",
              "\n",
              "          const docLinkHtml = 'Like what you see? Visit the ' +\n",
              "            '<a target=\"_blank\" href=https://colab.research.google.com/notebooks/data_table.ipynb>data table notebook</a>'\n",
              "            + ' to learn more about interactive tables.';\n",
              "          element.innerHTML = '';\n",
              "          dataTable['output_type'] = 'display_data';\n",
              "          await google.colab.output.renderOutput(dataTable, element);\n",
              "          const docLink = document.createElement('div');\n",
              "          docLink.innerHTML = docLinkHtml;\n",
              "          element.appendChild(docLink);\n",
              "        }\n",
              "      </script>\n",
              "    </div>\n",
              "  </div>\n",
              "  "
            ]
          },
          "metadata": {},
          "execution_count": 38
        }
      ]
    },
    {
      "cell_type": "markdown",
      "source": [
        "## **6.5 Random Forest Regression**"
      ],
      "metadata": {
        "id": "008EiIUZCb8V"
      }
    },
    {
      "cell_type": "code",
      "source": [
        "from sklearn.ensemble import RandomForestRegressor\n",
        "rdf = RandomForestRegressor(n_estimators=30)\n",
        "rdfreg = rdf.fit(xl_train, yl_train)"
      ],
      "metadata": {
        "id": "Z8PJw_NxCbVn"
      },
      "execution_count": 39,
      "outputs": []
    },
    {
      "cell_type": "code",
      "source": [
        "a = rdfreg.score(xl_train, yl_train)\n",
        "b = rdfreg.score(xl_test, yl_test)\n",
        "\n",
        "print(\"Regresion Model Score\" , \":\" , a , \",\" ,\n",
        "      \"Out of Sample Test Score\" ,\":\" , b)   \n",
        "\n",
        "yl_predicted = rdfreg.predict(xl_train)\n",
        "yl_test_predicted = rdfreg.predict(xl_test)\n",
        "\n",
        "yl_predicted = treereg.predict(xl_train)\n",
        "yl_test_predicted = treereg.predict(xl_test)\n",
        "\n",
        "\n",
        "c = rmse(yl_train, yl_predicted)\n",
        "d = rmse(yl_test, yl_test_predicted)\n",
        "e = mape(yl_train, yl_predicted)\n",
        "f = mape(yl_test, yl_test_predicted)\n",
        "g = round(r2_score(yl_train, yl_predicted),6)\n",
        "h = round(r2_score(yl_test, yl_test_predicted),6)\n",
        "i = round(1 - (1-r2_score(yl_train, yl_predicted)) * (len(yl_train)-1)/(len(yl_train)-xl_train.shape[1]-1),6)\n",
        "j = round(1 - (1-r2_score(yl_test, yl_test_predicted)) * (len(yl_test)-1)/(len(yl_test)-xl_test.shape[1]-1),6)\n",
        "\n",
        "print(\"Training RMSE\", \":\", c,\n",
        "      \"Testing RMSE\", \":\", d)\n",
        "print(\"Training MAPE\", \":\", e,\n",
        "      \"Testing MAPE\", \":\", f)\n",
        "print(\"R2_train\" , \":\" , g , \",\" ,\n",
        "      \"R2_test\" ,\":\" , h)\n",
        "print(\"Adj_r2_train\" , \":\" , i , \",\" ,\n",
        "      \"Adj_r2_test\" ,\":\" , j)\n",
        "\n",
        "\n"
      ],
      "metadata": {
        "id": "GmvypKMd_Ewm",
        "colab": {
          "base_uri": "https://localhost:8080/"
        },
        "outputId": "bea95189-8030-401b-87eb-10682a0a27e6"
      },
      "execution_count": 40,
      "outputs": [
        {
          "output_type": "stream",
          "name": "stdout",
          "text": [
            "Regresion Model Score : 0.975975233001768 , Out of Sample Test Score : 0.8329312514481144\n",
            "Training RMSE : 0.17074810252383216 Testing RMSE : 0.2041588820531489\n",
            "Training MAPE : 1.406284397451301 Testing MAPE : 1.6790917501910567\n",
            "R2_train : 0.824154 , R2_test : 0.75024\n",
            "Adj_r2_train : 0.824054 , Adj_r2_test : 0.749906\n"
          ]
        }
      ]
    },
    {
      "cell_type": "code",
      "source": [
        "#Columns needed to compare metrics\n",
        "comparison_columns = ['Model_Name', 'Regression Model Score', 'Sample Test Score', 'Training RMSE', 'Testing RMSE', 'Training MAPE' , 'Testing MAPE', 'R2_train', 'R2_test', 'Adj_r2_train','Adj_r2_test']\n",
        "\n",
        "metric_scores = ['RandomForestRegressor', a, b, c, d, e, f, g, h, i, j]\n",
        "df5= dict(zip(comparison_columns,metric_scores))"
      ],
      "metadata": {
        "id": "6-JIuWWQf7FU"
      },
      "execution_count": 41,
      "outputs": []
    },
    {
      "cell_type": "code",
      "source": [
        "df5 = pd.DataFrame([df5])"
      ],
      "metadata": {
        "id": "RZZ3vwa7JXOO"
      },
      "execution_count": 42,
      "outputs": []
    },
    {
      "cell_type": "code",
      "source": [
        "comparison_df1 = comparison_df1.merge(df5, how='outer')\n",
        "comparison_df1"
      ],
      "metadata": {
        "id": "lQhlIx2CTo5Z",
        "colab": {
          "base_uri": "https://localhost:8080/",
          "height": 305
        },
        "outputId": "90037e67-88f6-44fe-f620-1eef0796c9a7"
      },
      "execution_count": 43,
      "outputs": [
        {
          "output_type": "execute_result",
          "data": {
            "text/plain": [
              "              Model_Name  Regression Model Score  Sample Test Score  \\\n",
              "0       LinearRegression                0.668434           0.664806   \n",
              "1          BayesianRidge                0.668427           0.664814   \n",
              "2              LassoLars                0.468717           0.468717   \n",
              "3  DecisionTreeRegressor                0.824154           0.750240   \n",
              "4  RandomForestRegressor                0.975975           0.832931   \n",
              "\n",
              "   Training RMSE  Testing RMSE  Training MAPE  Testing MAPE  R2_train  \\\n",
              "0       0.234464      0.236513       1.958963      1.975089  0.668434   \n",
              "1       0.234466      0.236510       1.958863      1.974963  0.668427   \n",
              "2       0.296793      0.299353       2.634731      2.651230  0.468717   \n",
              "3       0.170748      0.204159       1.406284      1.679092  0.824154   \n",
              "4       0.170748      0.204159       1.406284      1.679092  0.824154   \n",
              "\n",
              "    R2_test  Adj_r2_train  Adj_r2_test  \n",
              "0  0.664806      0.668197     0.664246  \n",
              "1  0.664814      0.668190     0.664255  \n",
              "2  0.463026      0.468337     0.462130  \n",
              "3  0.750240      0.824054     0.749906  \n",
              "4  0.750240      0.824054     0.749906  "
            ],
            "text/html": [
              "\n",
              "  <div id=\"df-babc1426-0263-4fb8-9cf7-4befc01d4a86\">\n",
              "    <div class=\"colab-df-container\">\n",
              "      <div>\n",
              "<style scoped>\n",
              "    .dataframe tbody tr th:only-of-type {\n",
              "        vertical-align: middle;\n",
              "    }\n",
              "\n",
              "    .dataframe tbody tr th {\n",
              "        vertical-align: top;\n",
              "    }\n",
              "\n",
              "    .dataframe thead th {\n",
              "        text-align: right;\n",
              "    }\n",
              "</style>\n",
              "<table border=\"1\" class=\"dataframe\">\n",
              "  <thead>\n",
              "    <tr style=\"text-align: right;\">\n",
              "      <th></th>\n",
              "      <th>Model_Name</th>\n",
              "      <th>Regression Model Score</th>\n",
              "      <th>Sample Test Score</th>\n",
              "      <th>Training RMSE</th>\n",
              "      <th>Testing RMSE</th>\n",
              "      <th>Training MAPE</th>\n",
              "      <th>Testing MAPE</th>\n",
              "      <th>R2_train</th>\n",
              "      <th>R2_test</th>\n",
              "      <th>Adj_r2_train</th>\n",
              "      <th>Adj_r2_test</th>\n",
              "    </tr>\n",
              "  </thead>\n",
              "  <tbody>\n",
              "    <tr>\n",
              "      <th>0</th>\n",
              "      <td>LinearRegression</td>\n",
              "      <td>0.668434</td>\n",
              "      <td>0.664806</td>\n",
              "      <td>0.234464</td>\n",
              "      <td>0.236513</td>\n",
              "      <td>1.958963</td>\n",
              "      <td>1.975089</td>\n",
              "      <td>0.668434</td>\n",
              "      <td>0.664806</td>\n",
              "      <td>0.668197</td>\n",
              "      <td>0.664246</td>\n",
              "    </tr>\n",
              "    <tr>\n",
              "      <th>1</th>\n",
              "      <td>BayesianRidge</td>\n",
              "      <td>0.668427</td>\n",
              "      <td>0.664814</td>\n",
              "      <td>0.234466</td>\n",
              "      <td>0.236510</td>\n",
              "      <td>1.958863</td>\n",
              "      <td>1.974963</td>\n",
              "      <td>0.668427</td>\n",
              "      <td>0.664814</td>\n",
              "      <td>0.668190</td>\n",
              "      <td>0.664255</td>\n",
              "    </tr>\n",
              "    <tr>\n",
              "      <th>2</th>\n",
              "      <td>LassoLars</td>\n",
              "      <td>0.468717</td>\n",
              "      <td>0.468717</td>\n",
              "      <td>0.296793</td>\n",
              "      <td>0.299353</td>\n",
              "      <td>2.634731</td>\n",
              "      <td>2.651230</td>\n",
              "      <td>0.468717</td>\n",
              "      <td>0.463026</td>\n",
              "      <td>0.468337</td>\n",
              "      <td>0.462130</td>\n",
              "    </tr>\n",
              "    <tr>\n",
              "      <th>3</th>\n",
              "      <td>DecisionTreeRegressor</td>\n",
              "      <td>0.824154</td>\n",
              "      <td>0.750240</td>\n",
              "      <td>0.170748</td>\n",
              "      <td>0.204159</td>\n",
              "      <td>1.406284</td>\n",
              "      <td>1.679092</td>\n",
              "      <td>0.824154</td>\n",
              "      <td>0.750240</td>\n",
              "      <td>0.824054</td>\n",
              "      <td>0.749906</td>\n",
              "    </tr>\n",
              "    <tr>\n",
              "      <th>4</th>\n",
              "      <td>RandomForestRegressor</td>\n",
              "      <td>0.975975</td>\n",
              "      <td>0.832931</td>\n",
              "      <td>0.170748</td>\n",
              "      <td>0.204159</td>\n",
              "      <td>1.406284</td>\n",
              "      <td>1.679092</td>\n",
              "      <td>0.824154</td>\n",
              "      <td>0.750240</td>\n",
              "      <td>0.824054</td>\n",
              "      <td>0.749906</td>\n",
              "    </tr>\n",
              "  </tbody>\n",
              "</table>\n",
              "</div>\n",
              "      <button class=\"colab-df-convert\" onclick=\"convertToInteractive('df-babc1426-0263-4fb8-9cf7-4befc01d4a86')\"\n",
              "              title=\"Convert this dataframe to an interactive table.\"\n",
              "              style=\"display:none;\">\n",
              "        \n",
              "  <svg xmlns=\"http://www.w3.org/2000/svg\" height=\"24px\"viewBox=\"0 0 24 24\"\n",
              "       width=\"24px\">\n",
              "    <path d=\"M0 0h24v24H0V0z\" fill=\"none\"/>\n",
              "    <path d=\"M18.56 5.44l.94 2.06.94-2.06 2.06-.94-2.06-.94-.94-2.06-.94 2.06-2.06.94zm-11 1L8.5 8.5l.94-2.06 2.06-.94-2.06-.94L8.5 2.5l-.94 2.06-2.06.94zm10 10l.94 2.06.94-2.06 2.06-.94-2.06-.94-.94-2.06-.94 2.06-2.06.94z\"/><path d=\"M17.41 7.96l-1.37-1.37c-.4-.4-.92-.59-1.43-.59-.52 0-1.04.2-1.43.59L10.3 9.45l-7.72 7.72c-.78.78-.78 2.05 0 2.83L4 21.41c.39.39.9.59 1.41.59.51 0 1.02-.2 1.41-.59l7.78-7.78 2.81-2.81c.8-.78.8-2.07 0-2.86zM5.41 20L4 18.59l7.72-7.72 1.47 1.35L5.41 20z\"/>\n",
              "  </svg>\n",
              "      </button>\n",
              "      \n",
              "  <style>\n",
              "    .colab-df-container {\n",
              "      display:flex;\n",
              "      flex-wrap:wrap;\n",
              "      gap: 12px;\n",
              "    }\n",
              "\n",
              "    .colab-df-convert {\n",
              "      background-color: #E8F0FE;\n",
              "      border: none;\n",
              "      border-radius: 50%;\n",
              "      cursor: pointer;\n",
              "      display: none;\n",
              "      fill: #1967D2;\n",
              "      height: 32px;\n",
              "      padding: 0 0 0 0;\n",
              "      width: 32px;\n",
              "    }\n",
              "\n",
              "    .colab-df-convert:hover {\n",
              "      background-color: #E2EBFA;\n",
              "      box-shadow: 0px 1px 2px rgba(60, 64, 67, 0.3), 0px 1px 3px 1px rgba(60, 64, 67, 0.15);\n",
              "      fill: #174EA6;\n",
              "    }\n",
              "\n",
              "    [theme=dark] .colab-df-convert {\n",
              "      background-color: #3B4455;\n",
              "      fill: #D2E3FC;\n",
              "    }\n",
              "\n",
              "    [theme=dark] .colab-df-convert:hover {\n",
              "      background-color: #434B5C;\n",
              "      box-shadow: 0px 1px 3px 1px rgba(0, 0, 0, 0.15);\n",
              "      filter: drop-shadow(0px 1px 2px rgba(0, 0, 0, 0.3));\n",
              "      fill: #FFFFFF;\n",
              "    }\n",
              "  </style>\n",
              "\n",
              "      <script>\n",
              "        const buttonEl =\n",
              "          document.querySelector('#df-babc1426-0263-4fb8-9cf7-4befc01d4a86 button.colab-df-convert');\n",
              "        buttonEl.style.display =\n",
              "          google.colab.kernel.accessAllowed ? 'block' : 'none';\n",
              "\n",
              "        async function convertToInteractive(key) {\n",
              "          const element = document.querySelector('#df-babc1426-0263-4fb8-9cf7-4befc01d4a86');\n",
              "          const dataTable =\n",
              "            await google.colab.kernel.invokeFunction('convertToInteractive',\n",
              "                                                     [key], {});\n",
              "          if (!dataTable) return;\n",
              "\n",
              "          const docLinkHtml = 'Like what you see? Visit the ' +\n",
              "            '<a target=\"_blank\" href=https://colab.research.google.com/notebooks/data_table.ipynb>data table notebook</a>'\n",
              "            + ' to learn more about interactive tables.';\n",
              "          element.innerHTML = '';\n",
              "          dataTable['output_type'] = 'display_data';\n",
              "          await google.colab.output.renderOutput(dataTable, element);\n",
              "          const docLink = document.createElement('div');\n",
              "          docLink.innerHTML = docLinkHtml;\n",
              "          element.appendChild(docLink);\n",
              "        }\n",
              "      </script>\n",
              "    </div>\n",
              "  </div>\n",
              "  "
            ]
          },
          "metadata": {},
          "execution_count": 43
        }
      ]
    },
    {
      "cell_type": "markdown",
      "source": [
        "## **6.6 K-Nearest Neighbors Regression**"
      ],
      "metadata": {
        "id": "RelkcypUCi__"
      }
    },
    {
      "cell_type": "code",
      "source": [
        "from sklearn.neighbors import KNeighborsRegressor\n",
        "knn = KNeighborsRegressor(n_neighbors = 10)\n",
        "knnreg = knn.fit(xd_train, yd_train)"
      ],
      "metadata": {
        "id": "CrZKGETOCgbS"
      },
      "execution_count": 44,
      "outputs": []
    },
    {
      "cell_type": "code",
      "source": [
        "a = knnreg.score(xd_train, yd_train)\n",
        "b =  knnreg.score(xd_test, yd_test)\n",
        "\n",
        "print(\"Regresion Model Score\" , \":\" , a , \",\" ,\n",
        "      \"Out of Sample Test Score\" ,\":\" ,b)\n",
        "\n",
        "yd_predicted = knnreg.predict(xd_train)\n",
        "yd_test_predicted = knnreg.predict(xd_test)\n",
        "\n",
        "c = rmse(yd_train, yd_predicted)\n",
        "d = rmse(yd_test, yd_test_predicted)\n",
        "e = mape(yd_train, yd_predicted)\n",
        "f = mape(yd_test, yd_test_predicted)\n",
        "g = round(r2_score(yd_train, yd_predicted),6)\n",
        "h = round(r2_score(yd_test, yd_test_predicted),6)\n",
        "i = round(1 - (1-r2_score(yd_train, yd_predicted)) * (len(yd_train)-1)/(len(yd_train)-xd_train.shape[1]-1),6)\n",
        "j = round(1 - (1-r2_score(yd_test, yd_test_predicted)) * (len(yd_test)-1)/(len(yd_test)-xd_test.shape[1]-1),6)\n",
        "\n",
        "print(\"Training RMSE\", \":\", c,\n",
        "      \"Testing RMSE\", \":\", d)\n",
        "print(\"Training MAPE\", \":\", e,\n",
        "      \"Testing MAPE\", \":\", f)\n",
        "print(\"R2_train\" , \":\" , g , \",\" ,\n",
        "      \"R2_test\" ,\":\" , h)\n",
        "print(\"Adj_r2_train\" , \":\" , i , \",\" ,\n",
        "      \"Adj_r2_test\" ,\":\" , j)\n"
      ],
      "metadata": {
        "id": "MAKdBhckCm-c",
        "colab": {
          "base_uri": "https://localhost:8080/"
        },
        "outputId": "20b00aff-3aab-48b9-bef0-614b48fd5b9b"
      },
      "execution_count": 45,
      "outputs": [
        {
          "output_type": "stream",
          "name": "stdout",
          "text": [
            "Regresion Model Score : 0.5816706310119596 , Out of Sample Test Score : 0.47721490226252594\n",
            "Training RMSE : 0.26335969099067963 Testing RMSE : 0.295371122712172\n",
            "Training MAPE : 2.3613190576784397 Testing MAPE : 2.641301845005007\n",
            "R2_train : 0.581671 , R2_test : 0.477215\n",
            "Adj_r2_train : 0.581372 , Adj_r2_test : 0.476342\n"
          ]
        }
      ]
    },
    {
      "cell_type": "code",
      "source": [
        "#Columns needed to compare metrics\n",
        "comparison_columns = ['Model_Name', 'Regression Model Score', 'Sample Test Score', 'Training RMSE', 'Testing RMSE', 'Training MAPE' , 'Testing MAPE', 'R2_train', 'R2_test', 'Adj_r2_train','Adj_r2_test']\n",
        "\n",
        "metric_scores = ['KNeighborsRegressor', a, b, c, d, e, f, g, h, i, j]\n",
        "df6 = dict(zip(comparison_columns,metric_scores))"
      ],
      "metadata": {
        "id": "_A8K7TP7DcC7"
      },
      "execution_count": 46,
      "outputs": []
    },
    {
      "cell_type": "code",
      "source": [
        "for x in range(1,10):\n",
        "    knn = KNeighborsRegressor(n_neighbors = x)\n",
        "    knnreg = knn.fit(xd_train, yd_train)\n",
        "    print(\"Regresion Model Score\" , \":\" , knnreg.score(xd_train, yd_train) , \",\" ,\n",
        "      \"Out of Sample Test Score\" ,\":\" , knnreg.score(xd_test, yd_test))"
      ],
      "metadata": {
        "id": "3Vgc20wOCqjz",
        "colab": {
          "base_uri": "https://localhost:8080/"
        },
        "outputId": "135fbbe1-b36a-4bab-fa0c-a68a98bdf937"
      },
      "execution_count": null,
      "outputs": [
        {
          "output_type": "stream",
          "name": "stdout",
          "text": [
            "Regresion Model Score : 0.9665318320714792 , Out of Sample Test Score : 0.15079592078352555\n",
            "Regresion Model Score : 0.786224471392569 , Out of Sample Test Score : 0.33713599503140623\n",
            "Regresion Model Score : 0.705493749802024 , Out of Sample Test Score : 0.40258467631232353\n",
            "Regresion Model Score : 0.6668916260793819 , Out of Sample Test Score : 0.43334235291362067\n"
          ]
        }
      ]
    },
    {
      "cell_type": "code",
      "source": [
        "df6 = pd.DataFrame([df6])"
      ],
      "metadata": {
        "id": "nlNkpxQ-Ou_c"
      },
      "execution_count": null,
      "outputs": []
    },
    {
      "cell_type": "code",
      "source": [
        "comparison_df1 = comparison_df1.merge(df6, how='outer')\n",
        "comparison_df1"
      ],
      "metadata": {
        "id": "Lg6beX5cKQyo"
      },
      "execution_count": null,
      "outputs": []
    },
    {
      "cell_type": "markdown",
      "source": [
        "## **6.7 Random Forest Regression Tuned**\n",
        "\n",
        " In this we have done the hyperparamtere tunning of Random Forest to get the best parameters and to use these parameters to tune the regresssion model that will helps us to get best results."
      ],
      "metadata": {
        "id": "coudkqgnbBF7"
      }
    },
    {
      "cell_type": "code",
      "source": [
        "# Create model\n",
        "rf_tuned = RandomForestRegressor()"
      ],
      "metadata": {
        "id": "BgJ5iZozWbT4"
      },
      "execution_count": null,
      "outputs": []
    },
    {
      "cell_type": "code",
      "source": [
        "#import\n",
        "from sklearn.model_selection import RandomizedSearchCV\n",
        "#grid\n",
        "random_grid = {'bootstrap': [True, False],\n",
        " 'max_depth': [ 90, 100, None],\n",
        " 'max_features': ['auto', 'sqrt'],\n",
        " 'min_samples_leaf': [1, 2, 4],\n",
        " 'min_samples_split': [2, 5, 8],\n",
        " 'n_estimators': [100, 130, 150]}\n",
        "\n",
        "rf_random = RandomizedSearchCV(estimator = rf_tuned, param_distributions = random_grid, n_iter = 10, cv = 3, verbose=2, random_state=42)\n",
        "\n",
        "#fitting\n",
        "rf_random.fit(xl_train,yl_train)"
      ],
      "metadata": {
        "id": "uejiH3VjMSI7"
      },
      "execution_count": null,
      "outputs": []
    },
    {
      "cell_type": "code",
      "source": [
        "#best para\n",
        "rf_random.best_params_"
      ],
      "metadata": {
        "id": "asX6W0fxWf4U"
      },
      "execution_count": null,
      "outputs": []
    },
    {
      "cell_type": "code",
      "source": [
        "#save the best parameters\n",
        "random_t = rf_random.best_estimator_"
      ],
      "metadata": {
        "id": "mEi5V1RzkDce"
      },
      "execution_count": null,
      "outputs": []
    },
    {
      "cell_type": "code",
      "source": [
        "#using the best parameter to tune the Random Forest Regresion to make it a Tuned random Forest\n",
        "from sklearn.ensemble import RandomForestRegressor\n",
        "rdf = RandomForestRegressor(n_estimators=130, max_depth = 90, bootstrap=False, max_features='sqrt', min_samples_leaf=1, min_samples_split= 8)\n",
        "rdfreg = rdf.fit(xl_train, yl_train)"
      ],
      "metadata": {
        "id": "iB9lKAZEakcZ"
      },
      "execution_count": null,
      "outputs": []
    },
    {
      "cell_type": "code",
      "source": [
        "a = rdfreg.score(xl_train, yl_train)\n",
        "b = rdfreg.score(xl_test, yl_test)\n",
        "\n",
        "print(\"Regresion Model Score\" , \":\" , a , \",\" ,\n",
        "      \"Out of Sample Test Score\" ,\":\" , b)   \n",
        "\n",
        "yl_predicted = rdfreg.predict(xl_train)\n",
        "yl_test_predicted = rdfreg.predict(xl_test)\n",
        "\n",
        "c = rmse(yl_train, yl_predicted)\n",
        "d = rmse(yl_test, yl_test_predicted)\n",
        "e = mape(yl_train, yl_predicted)\n",
        "f = mape(yl_test, yl_test_predicted)\n",
        "g = round(r2_score(yl_train, yl_predicted),6)\n",
        "h = round(r2_score(yl_test, yl_test_predicted),6)\n",
        "i = round(1 - (1-r2_score(yl_train, yl_predicted)) * (len(yl_train)-1)/(len(yl_train)-xl_train.shape[1]-1),6)\n",
        "j = round(1 - (1-r2_score(yl_test, yl_test_predicted)) * (len(yl_test)-1)/(len(yl_test)-xl_test.shape[1]-1),6)\n",
        "\n",
        "print(\"Training RMSE\", \":\", c,\n",
        "      \"Testing RMSE\", \":\", d)\n",
        "print(\"Training MAPE\", \":\", e,\n",
        "      \"Testing MAPE\", \":\", f)\n",
        "print(\"R2_train\" , \":\" , g , \",\" ,\n",
        "      \"R2_test\" ,\":\" , h)\n",
        "print(\"Adj_r2_train\" , \":\" , i , \",\" ,\n",
        "      \"Adj_r2_test\" ,\":\" , j)"
      ],
      "metadata": {
        "id": "2p2R7tCqY02O"
      },
      "execution_count": null,
      "outputs": []
    },
    {
      "cell_type": "code",
      "source": [
        "#Columns needed to compare metrics\n",
        "comparison_columns = ['Model_Name', 'Regression Model Score', 'Sample Test Score', 'Training RMSE', 'Testing RMSE', 'Training MAPE' , 'Testing MAPE', 'R2_train', 'R2_test', 'Adj_r2_train','Adj_r2_test']\n",
        "\n",
        "metric_scores = ['RandomForestRegressorTuned', a, b, c, d, e, f, g, h, i, j]\n",
        "df5= dict(zip(comparison_columns,metric_scores))"
      ],
      "metadata": {
        "id": "uKOFFmbxY5qS"
      },
      "execution_count": null,
      "outputs": []
    },
    {
      "cell_type": "code",
      "source": [
        "df5 = pd.DataFrame([df5])"
      ],
      "metadata": {
        "id": "bl3jKsHnbpV7"
      },
      "execution_count": null,
      "outputs": []
    },
    {
      "cell_type": "code",
      "source": [
        "df5"
      ],
      "metadata": {
        "id": "vghU_BUwd4xJ"
      },
      "execution_count": null,
      "outputs": []
    },
    {
      "cell_type": "code",
      "source": [
        "comparison_df1 = comparison_df1.merge(df5, how='outer')\n",
        "comparison_df1"
      ],
      "metadata": {
        "id": "j7Q3UcGzbrMB"
      },
      "execution_count": null,
      "outputs": []
    },
    {
      "cell_type": "markdown",
      "source": [
        "## **7. Model Performance and Evaluation**"
      ],
      "metadata": {
        "id": "wBb00ZNsIBV0"
      }
    },
    {
      "cell_type": "code",
      "source": [
        "#Taking a look of our final comparison dataframe\n",
        "comparison_df1"
      ],
      "metadata": {
        "id": "bMKOTuuBIMjT"
      },
      "execution_count": null,
      "outputs": []
    },
    {
      "cell_type": "code",
      "source": [
        "#visualising our comparison df for Test R2\n",
        "sns.barplot(y=comparison_df1['Model_Name'], x = comparison_df1['R2_test'])"
      ],
      "metadata": {
        "id": "BQ7Gvcrzb2Xr"
      },
      "execution_count": null,
      "outputs": []
    },
    {
      "cell_type": "code",
      "source": [
        "#visualising our comparison df for Test R2\n",
        "sns.barplot(y=comparison_df1['Model_Name'], x = comparison_df1['Regression Model Score'])"
      ],
      "metadata": {
        "id": "GO_XsXancXaw"
      },
      "execution_count": null,
      "outputs": []
    },
    {
      "cell_type": "code",
      "source": [
        "#visualising our comparison df for Test R2\n",
        "sns.barplot(x=comparison_df1['Sample Test Score'], y = comparison_df1['Model_Name'])"
      ],
      "metadata": {
        "id": "lCIqqBmhciTb"
      },
      "execution_count": null,
      "outputs": []
    },
    {
      "cell_type": "code",
      "source": [
        "comparison_df1"
      ],
      "metadata": {
        "id": "uKaTVv_ZdQol"
      },
      "execution_count": null,
      "outputs": []
    },
    {
      "cell_type": "code",
      "source": [
        "comparison_df1.loc[:,[\"Model_Name\",\"Sample Test Score\",\"R2_test\",\"Adj_r2_test\"]]"
      ],
      "metadata": {
        "id": "3scDKZiIE2jC"
      },
      "execution_count": null,
      "outputs": []
    },
    {
      "cell_type": "markdown",
      "source": [
        "**Since R^2 test and Adjusted R^2 test has the same value for decison tree and random forest we have to see some other paramater which will give us a better insight to differentiate between the three models.**"
      ],
      "metadata": {
        "id": "osIFEWr2a3Yl"
      }
    },
    {
      "cell_type": "markdown",
      "source": [
        "### **Random Forest vs Decision Tree Models**"
      ],
      "metadata": {
        "id": "ytfeQpxH5J6B"
      }
    },
    {
      "cell_type": "code",
      "source": [
        "#Sample Test Score of the selected models\n",
        "Decision_Tree_Sts = 0.750223\n",
        "Random_Forest_Sts = 0.833465\n",
        "Random_Forest_Tuned_Sts = 0.848593"
      ],
      "metadata": {
        "id": "VWrSFgfREbsq"
      },
      "execution_count": null,
      "outputs": []
    },
    {
      "cell_type": "code",
      "source": [
        "#improvement % \n",
        "improvement_r = ((Random_Forest_Sts - Decision_Tree_Sts)/Decision_Tree_Sts)*100\n",
        "print('Model Performance')\n",
        "print(f'Improvement of {round(improvement_r,3)} % was seen in Random Forest against Decision Tree.')"
      ],
      "metadata": {
        "id": "s9BfGm_SImI1"
      },
      "execution_count": null,
      "outputs": []
    },
    {
      "cell_type": "markdown",
      "source": [
        "### **Random Forest Tuned vs Random Forest Models**"
      ],
      "metadata": {
        "id": "-mPO_z2JLtMd"
      }
    },
    {
      "cell_type": "code",
      "source": [
        "#improvement % of tuned vs simple random forest\n",
        "improvement_r = ((Random_Forest_Tuned_Sts - Random_Forest_Sts)/Random_Forest_Sts)*100\n",
        "print('Model Performance')\n",
        "print(f'Improvement of {round(improvement_r,3)} % was seen in Random Forest Tuned against Simple Random Forest.')"
      ],
      "metadata": {
        "id": "zMWC1RkLLvNh"
      },
      "execution_count": null,
      "outputs": []
    },
    {
      "cell_type": "markdown",
      "source": [
        "### **Observation**\n",
        "\n",
        "* Since the R^2 Score and the Adjusted_r^2_Score is similar in two of the three cases and hence we have to shift to the Sample Test Score.\n",
        "* The Sample Test Score was seen in tuned Random Forest model with the value **0.848593** which was only **1.815 %** improved from a simple random forest model. \n",
        "* It seems like we have maxed out on performance with the data and these models."
      ],
      "metadata": {
        "id": "IounsBc3MKwQ"
      }
    },
    {
      "cell_type": "code",
      "source": [
        "features = xl_test.columns\n",
        "importances = rdfreg.feature_importances_\n",
        "indices = np.argsort(importances)\n",
        "plt.figure(figsize=(12,12))\n",
        "plt.title('Feature Importances', fontsize=20)\n",
        "plt.barh(range(len(indices)), importances[indices], color='red', align='center')\n",
        "plt.yticks(range(len(indices)), features[indices])\n",
        "plt.xlabel('Relative Importance')"
      ],
      "metadata": {
        "id": "-cElGsaGY-2O"
      },
      "execution_count": null,
      "outputs": []
    },
    {
      "cell_type": "markdown",
      "source": [
        "### **8. Store wise Sales Predictions**"
      ],
      "metadata": {
        "id": "B74Mop53NALs"
      }
    },
    {
      "cell_type": "code",
      "source": [
        "#importing the pathway for the Rossmann Stores Data.csv\n",
        "df1 = pd.read_csv('/content/drive/MyDrive/AlmaBetter/Capstone_Project_ML_Regression/test.csv',)\n",
        "df1.head()\n"
      ],
      "metadata": {
        "id": "r2BrYT5DUAe2"
      },
      "execution_count": null,
      "outputs": []
    },
    {
      "cell_type": "code",
      "source": [
        "dfd = df1.sample(n=50000, random_state=1)"
      ],
      "metadata": {
        "id": "l6BfrXq9orcU"
      },
      "execution_count": null,
      "outputs": []
    },
    {
      "cell_type": "code",
      "source": [
        "dfd.info()"
      ],
      "metadata": {
        "id": "MmKnSMQycPJ_"
      },
      "execution_count": null,
      "outputs": []
    },
    {
      "cell_type": "code",
      "source": [
        "#setting date and store as index\n",
        "dfd.set_index(['Date','Store'],inplace=True)\n",
        "#sorting index following the time series\n",
        "dfd.sort_index(inplace=True)"
      ],
      "metadata": {
        "id": "bE632UoEpnNY"
      },
      "execution_count": null,
      "outputs": []
    },
    {
      "cell_type": "code",
      "source": [
        "dfd.head()"
      ],
      "metadata": {
        "id": "xarf4AQLZy27"
      },
      "execution_count": null,
      "outputs": []
    },
    {
      "cell_type": "code",
      "source": [
        "# split features and labels\n",
        "X = dfd.drop('Sales', axis=1)\n",
        "y = dfd. Sales"
      ],
      "metadata": {
        "id": "h3qThqeYZiHO"
      },
      "execution_count": null,
      "outputs": []
    },
    {
      "cell_type": "code",
      "source": [
        "# get dummy variables for categorical features for linear regression\n",
        "xd = X.copy()\n",
        "xd = pd.get_dummies(xd)\n"
      ],
      "metadata": {
        "id": "5o5YFZNyZkEB"
      },
      "execution_count": null,
      "outputs": []
    },
    {
      "cell_type": "code",
      "source": [
        "# label nominal variables for tree based regression\n",
        "xl = X.copy()\n",
        "\n",
        "from sklearn.preprocessing import LabelEncoder\n",
        "label = LabelEncoder()\n",
        "xl.StateHoliday = label.fit_transform(xl.StateHoliday)\n",
        "xl.Assortment = label.fit_transform(xl.Assortment)\n",
        "xl.StoreType = label.fit_transform(xl.StoreType)"
      ],
      "metadata": {
        "id": "YjrjASeWsanI"
      },
      "execution_count": null,
      "outputs": []
    },
    {
      "cell_type": "code",
      "source": [
        "xl.head()"
      ],
      "metadata": {
        "id": "TgHzaOiabvMF"
      },
      "execution_count": null,
      "outputs": []
    },
    {
      "cell_type": "code",
      "source": [
        "xl.info()"
      ],
      "metadata": {
        "id": "JD75a0Yrb53_"
      },
      "execution_count": null,
      "outputs": []
    },
    {
      "cell_type": "code",
      "source": [
        "# split training and test datasets from the new sample\n",
        "from sklearn.model_selection import train_test_split\n",
        "xd_train,xd_test,yd_train,yd_test = train_test_split(xd,y,test_size=0.3, random_state=1)\n",
        "xl_train,xl_test,yl_train,yl_test = train_test_split(xl,y,test_size=0.3, random_state=1)"
      ],
      "metadata": {
        "id": "KOkcb-Biaxdl"
      },
      "execution_count": null,
      "outputs": []
    },
    {
      "cell_type": "code",
      "source": [
        "from sklearn.ensemble import RandomForestRegressor\n",
        "rdf = RandomForestRegressor(n_estimators=130, max_depth = 90, bootstrap=False, max_features='sqrt', min_samples_leaf=1, min_samples_split= 8)\n",
        "rdfreg = rdf.fit(xl_train, yl_train)"
      ],
      "metadata": {
        "id": "yw-zY06AR9n9"
      },
      "execution_count": null,
      "outputs": []
    },
    {
      "cell_type": "code",
      "source": [
        "#predictions \n",
        "y_pred_test = rdfreg.predict(xl_test)\n",
        "df = yl_test.copy()"
      ],
      "metadata": {
        "id": "3-HfMpALMhwz"
      },
      "execution_count": null,
      "outputs": []
    },
    {
      "cell_type": "code",
      "source": [
        "df = pd.DataFrame(df)\n",
        "df"
      ],
      "metadata": {
        "id": "qwKKtR1iJ44k"
      },
      "execution_count": null,
      "outputs": []
    },
    {
      "cell_type": "code",
      "source": [
        "df['Pred_Sales'] = y_pred_test.tolist()"
      ],
      "metadata": {
        "id": "VuZ0UfobSa6s"
      },
      "execution_count": null,
      "outputs": []
    },
    {
      "cell_type": "code",
      "source": [
        "df[:5]"
      ],
      "metadata": {
        "id": "t3Qb-dDZScsI"
      },
      "execution_count": null,
      "outputs": []
    },
    {
      "cell_type": "code",
      "source": [
        "#locating\n",
        "df.loc[('2013-01-31',231)]"
      ],
      "metadata": {
        "id": "aqIut_ByhuS3"
      },
      "execution_count": null,
      "outputs": []
    },
    {
      "cell_type": "markdown",
      "source": [
        "# **9. Conclusion and Recommendations**\n",
        "\n",
        "## **Conclusion**\n",
        "\n",
        "Businesses use sales forecasts to determine what revenue they will be generating in a particular timespan to empower themselves with powerful and strategic business plans. Important decisions such as budgets, hiring, incentives, goals, acquisitions and various other growth plans are affected by the revenue the company is going to make in the coming months and for these plans to be as effective as they are planned to be it is important for these forecasts to also be as good.\n",
        "\n",
        "he work here forecasts the sales of the various Rossmann stores across Europe  and compares the results from the models developed with the actual sales values.\n",
        "\n",
        "Some important conclusions drawn from the analysis are as follows:\n",
        "* There were more sales on Monday, probably because shops generally remain closed on Sundays which had the lowest sales in a week. This validates the hypothesis about this feature.\n",
        "* **The positive effect of promotion on Customers and Sales is observable**.\n",
        "* Most stores have competition distance within the range of **0 to 10 kms** and had more sales than stores far away probably indicating competition in busy locations vs remote locations.\n",
        "* **Store type B** though being few in number had the **highest sales average**. The reasons include all three kinds of assortments specially assortment level b which is only available at type b stores and being open on sundays as well.\n",
        "* The outliers in the dataset showed justifiable behaviour. The outliers were either of store type b or had promotion going on which increased sales.\n",
        "* **Random Forest Tuned Model gave the best results** and only **1.815 %** improvement was seen from the basic random forest model which indicates that all the trends and patterns that could be captured by these models without overfitting were done and maximum level of performance achievable by the model was achieved.\n",
        "\n",
        "**Recommendations**\n",
        "* More stores should be encouraged for promotion. \n",
        "* Store type B should be increased in number.\n",
        "* There's a seasonality involved, hence the stores should be encouraged to promote and take advantage of the holidays."
      ],
      "metadata": {
        "id": "vv-PAQuuh3PO"
      }
    },
    {
      "cell_type": "code",
      "source": [
        ""
      ],
      "metadata": {
        "id": "NMJuRTPYw4er"
      },
      "execution_count": null,
      "outputs": []
    }
  ]
}